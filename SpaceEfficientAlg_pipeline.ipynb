{
  "nbformat": 4,
  "nbformat_minor": 0,
  "metadata": {
    "colab": {
      "provenance": [],
      "collapsed_sections": [
        "yKa8RuPhsyR7",
        "cdTOW_UltDsp",
        "M3FOA5QHtR5m",
        "LXFxU6qu8FLf",
        "fHH4BGQVskni",
        "SBNiD5AesrBS",
        "J2dLT4QF0aUp"
      ]
    },
    "kernelspec": {
      "name": "python3",
      "display_name": "Python 3"
    },
    "language_info": {
      "name": "python"
    },
    "widgets": {
      "application/vnd.jupyter.widget-state+json": {
        "7025470f350c42fb9491845d1bdcb395": {
          "model_module": "@jupyter-widgets/controls",
          "model_name": "FileUploadModel",
          "model_module_version": "1.5.0",
          "state": {
            "_counter": 1,
            "_dom_classes": [],
            "_model_module": "@jupyter-widgets/controls",
            "_model_module_version": "1.5.0",
            "_model_name": "FileUploadModel",
            "_view_count": null,
            "_view_module": "@jupyter-widgets/controls",
            "_view_module_version": "1.5.0",
            "_view_name": "FileUploadView",
            "accept": ".stl,.obj,.svg",
            "button_style": "",
            "data": [
              null
            ],
            "description": "Upload",
            "description_tooltip": null,
            "disabled": false,
            "error": "",
            "icon": "upload",
            "layout": "IPY_MODEL_b04f2bafc60b462cac962d048824fe30",
            "metadata": [
              {
                "name": "cube.stl",
                "type": "",
                "size": 684,
                "lastModified": 1738564320947
              }
            ],
            "multiple": false,
            "style": "IPY_MODEL_f98b1798fd084c29a51ce388eb4cdfab"
          }
        },
        "b04f2bafc60b462cac962d048824fe30": {
          "model_module": "@jupyter-widgets/base",
          "model_name": "LayoutModel",
          "model_module_version": "1.2.0",
          "state": {
            "_model_module": "@jupyter-widgets/base",
            "_model_module_version": "1.2.0",
            "_model_name": "LayoutModel",
            "_view_count": null,
            "_view_module": "@jupyter-widgets/base",
            "_view_module_version": "1.2.0",
            "_view_name": "LayoutView",
            "align_content": null,
            "align_items": null,
            "align_self": null,
            "border": null,
            "bottom": null,
            "display": null,
            "flex": null,
            "flex_flow": null,
            "grid_area": null,
            "grid_auto_columns": null,
            "grid_auto_flow": null,
            "grid_auto_rows": null,
            "grid_column": null,
            "grid_gap": null,
            "grid_row": null,
            "grid_template_areas": null,
            "grid_template_columns": null,
            "grid_template_rows": null,
            "height": null,
            "justify_content": null,
            "justify_items": null,
            "left": null,
            "margin": null,
            "max_height": null,
            "max_width": null,
            "min_height": null,
            "min_width": null,
            "object_fit": null,
            "object_position": null,
            "order": null,
            "overflow": null,
            "overflow_x": null,
            "overflow_y": null,
            "padding": null,
            "right": null,
            "top": null,
            "visibility": null,
            "width": null
          }
        },
        "f98b1798fd084c29a51ce388eb4cdfab": {
          "model_module": "@jupyter-widgets/controls",
          "model_name": "ButtonStyleModel",
          "model_module_version": "1.5.0",
          "state": {
            "_model_module": "@jupyter-widgets/controls",
            "_model_module_version": "1.5.0",
            "_model_name": "ButtonStyleModel",
            "_view_count": null,
            "_view_module": "@jupyter-widgets/base",
            "_view_module_version": "1.2.0",
            "_view_name": "StyleView",
            "button_color": null,
            "font_weight": ""
          }
        }
      }
    }
  },
  "cells": [
    {
      "cell_type": "markdown",
      "source": [
        "# Step 1: Requirements and Packaide Setup"
      ],
      "metadata": {
        "id": "yKa8RuPhsyR7"
      }
    },
    {
      "cell_type": "code",
      "execution_count": 1,
      "metadata": {
        "colab": {
          "base_uri": "https://localhost:8080/"
        },
        "collapsed": true,
        "id": "pZq3dh3IssiL",
        "outputId": "cd6f18a8-990f-410d-993a-2ba00f434cfd"
      },
      "outputs": [
        {
          "output_type": "stream",
          "name": "stdout",
          "text": [
            "W: Skipping acquire of configured file 'main/source/Sources' as repository 'https://r2u.stat.illinois.edu/ubuntu jammy InRelease' does not seem to provide it (sources.list entry misspelt?)\n",
            "Reading package lists... Done\n",
            "Building dependency tree... Done\n",
            "Reading state information... Done\n",
            "cmake is already the newest version (3.22.1-1ubuntu1.22.04.2).\n",
            "0 upgraded, 0 newly installed, 0 to remove and 23 not upgraded.\n",
            "Reading package lists... Done\n",
            "Building dependency tree... Done\n",
            "Reading state information... Done\n",
            "libboost-all-dev is already the newest version (1.74.0.3ubuntu7).\n",
            "0 upgraded, 0 newly installed, 0 to remove and 23 not upgraded.\n",
            "Reading package lists... Done\n",
            "Building dependency tree... Done\n",
            "Reading state information... Done\n",
            "The following additional packages will be installed:\n",
            "  libgmp-dev libgmpxx4ldbl libmpfr-dev\n",
            "Suggested packages:\n",
            "  libmpfi-dev libntl-dev gmp-doc libgmp10-doc libmpfr-doc\n",
            "The following NEW packages will be installed:\n",
            "  libcgal-dev libgmp-dev libgmpxx4ldbl libmpfr-dev\n",
            "0 upgraded, 4 newly installed, 0 to remove and 23 not upgraded.\n",
            "Need to get 5,402 kB of archives.\n",
            "After this operation, 43.7 MB of additional disk space will be used.\n",
            "Get:1 http://archive.ubuntu.com/ubuntu jammy/main amd64 libgmpxx4ldbl amd64 2:6.2.1+dfsg-3ubuntu1 [9,580 B]\n",
            "Get:2 http://archive.ubuntu.com/ubuntu jammy/main amd64 libgmp-dev amd64 2:6.2.1+dfsg-3ubuntu1 [337 kB]\n",
            "Get:3 http://archive.ubuntu.com/ubuntu jammy/main amd64 libmpfr-dev amd64 4.1.0-3build3 [271 kB]\n",
            "Get:4 http://archive.ubuntu.com/ubuntu jammy/universe amd64 libcgal-dev amd64 5.4-1 [4,784 kB]\n",
            "Fetched 5,402 kB in 0s (18.4 MB/s)\n",
            "debconf: unable to initialize frontend: Dialog\n",
            "debconf: (No usable dialog-like program is installed, so the dialog based frontend cannot be used. at /usr/share/perl5/Debconf/FrontEnd/Dialog.pm line 78, <> line 4.)\n",
            "debconf: falling back to frontend: Readline\n",
            "debconf: unable to initialize frontend: Readline\n",
            "debconf: (This frontend requires a controlling tty.)\n",
            "debconf: falling back to frontend: Teletype\n",
            "dpkg-preconfigure: unable to re-open stdin: \n",
            "Selecting previously unselected package libgmpxx4ldbl:amd64.\n",
            "(Reading database ... 124950 files and directories currently installed.)\n",
            "Preparing to unpack .../libgmpxx4ldbl_2%3a6.2.1+dfsg-3ubuntu1_amd64.deb ...\n",
            "Unpacking libgmpxx4ldbl:amd64 (2:6.2.1+dfsg-3ubuntu1) ...\n",
            "Selecting previously unselected package libgmp-dev:amd64.\n",
            "Preparing to unpack .../libgmp-dev_2%3a6.2.1+dfsg-3ubuntu1_amd64.deb ...\n",
            "Unpacking libgmp-dev:amd64 (2:6.2.1+dfsg-3ubuntu1) ...\n",
            "Selecting previously unselected package libmpfr-dev:amd64.\n",
            "Preparing to unpack .../libmpfr-dev_4.1.0-3build3_amd64.deb ...\n",
            "Unpacking libmpfr-dev:amd64 (4.1.0-3build3) ...\n",
            "Selecting previously unselected package libcgal-dev:amd64.\n",
            "Preparing to unpack .../libcgal-dev_5.4-1_amd64.deb ...\n",
            "Unpacking libcgal-dev:amd64 (5.4-1) ...\n",
            "Setting up libgmpxx4ldbl:amd64 (2:6.2.1+dfsg-3ubuntu1) ...\n",
            "Setting up libgmp-dev:amd64 (2:6.2.1+dfsg-3ubuntu1) ...\n",
            "Setting up libmpfr-dev:amd64 (4.1.0-3build3) ...\n",
            "Setting up libcgal-dev:amd64 (5.4-1) ...\n",
            "Processing triggers for man-db (2.10.2-1) ...\n",
            "Processing triggers for libc-bin (2.35-0ubuntu3.8) ...\n",
            "/sbin/ldconfig.real: /usr/local/lib/libumf.so.0 is not a symbolic link\n",
            "\n",
            "/sbin/ldconfig.real: /usr/local/lib/libtcm.so.1 is not a symbolic link\n",
            "\n",
            "/sbin/ldconfig.real: /usr/local/lib/libur_adapter_opencl.so.0 is not a symbolic link\n",
            "\n",
            "/sbin/ldconfig.real: /usr/local/lib/libtbbbind_2_0.so.3 is not a symbolic link\n",
            "\n",
            "/sbin/ldconfig.real: /usr/local/lib/libtbbbind_2_5.so.3 is not a symbolic link\n",
            "\n",
            "/sbin/ldconfig.real: /usr/local/lib/libtbbmalloc.so.2 is not a symbolic link\n",
            "\n",
            "/sbin/ldconfig.real: /usr/local/lib/libtbbbind.so.3 is not a symbolic link\n",
            "\n",
            "/sbin/ldconfig.real: /usr/local/lib/libur_adapter_level_zero.so.0 is not a symbolic link\n",
            "\n",
            "/sbin/ldconfig.real: /usr/local/lib/libtcm_debug.so.1 is not a symbolic link\n",
            "\n",
            "/sbin/ldconfig.real: /usr/local/lib/libhwloc.so.15 is not a symbolic link\n",
            "\n",
            "/sbin/ldconfig.real: /usr/local/lib/libtbb.so.12 is not a symbolic link\n",
            "\n",
            "/sbin/ldconfig.real: /usr/local/lib/libtbbmalloc_proxy.so.2 is not a symbolic link\n",
            "\n",
            "/sbin/ldconfig.real: /usr/local/lib/libur_loader.so.0 is not a symbolic link\n",
            "\n",
            "Reading package lists... Done\n",
            "Building dependency tree... Done\n",
            "Reading state information... Done\n",
            "build-essential is already the newest version (12.9ubuntu3).\n",
            "git is already the newest version (1:2.34.1-1ubuntu1.12).\n",
            "0 upgraded, 0 newly installed, 0 to remove and 23 not upgraded.\n",
            "Reading package lists... Done\n",
            "Building dependency tree... Done\n",
            "Reading state information... Done\n",
            "python3-dev is already the newest version (3.10.6-1~22.04.1).\n",
            "python3-dev set to manually installed.\n",
            "0 upgraded, 0 newly installed, 0 to remove and 23 not upgraded.\n"
          ]
        }
      ],
      "source": [
        "# Update package lists quietly\n",
        "!sudo apt-get update -qq\n",
        "\n",
        "# Install CMake (version 3.13+)\n",
        "!sudo apt-get install -y cmake\n",
        "\n",
        "# Install Boost libraries (including Boost.Python)\n",
        "!sudo apt-get install -y libboost-all-dev\n",
        "\n",
        "# Install CGAL and its dependencies\n",
        "!sudo apt-get install -y libcgal-dev\n",
        "\n",
        "# Install other essential build tools\n",
        "!sudo apt-get install -y build-essential git\n",
        "\n",
        "# Install Python development headers (required for building Python bindings)\n",
        "!sudo apt-get install -y python3-dev"
      ]
    },
    {
      "cell_type": "code",
      "source": [
        "# Packages mainly related to unfolding\n",
        "%%shell\n",
        "pip install \"drawsvg==2.3.0\" &&\\\n",
        "pip install \"libigl==2.4.1\" &&\\\n",
        "pip install git+https://github.com/skoch9/meshplot.git@v0.4.0 pythreejs==2.4.1 &&\\\n",
        "apt update &&\\\n",
        "apt install cairosvg"
      ],
      "metadata": {
        "colab": {
          "base_uri": "https://localhost:8080/"
        },
        "collapsed": true,
        "id": "A87eNbBbOL10",
        "outputId": "0c63b4e8-37ee-49fe-a59c-c16195678ecd"
      },
      "execution_count": 2,
      "outputs": [
        {
          "output_type": "stream",
          "name": "stdout",
          "text": [
            "Collecting drawsvg==2.3.0\n",
            "  Downloading drawsvg-2.3.0-py3-none-any.whl.metadata (19 kB)\n",
            "Downloading drawsvg-2.3.0-py3-none-any.whl (43 kB)\n",
            "\u001b[?25l   \u001b[90m━━━━━━━━━━━━━━━━━━━━━━━━━━━━━━━━━━━━━━━━\u001b[0m \u001b[32m0.0/43.9 kB\u001b[0m \u001b[31m?\u001b[0m eta \u001b[36m-:--:--\u001b[0m\r\u001b[2K   \u001b[90m━━━━━━━━━━━━━━━━━━━━━━━━━━━━━━━━━━━━━━━━\u001b[0m \u001b[32m43.9/43.9 kB\u001b[0m \u001b[31m1.5 MB/s\u001b[0m eta \u001b[36m0:00:00\u001b[0m\n",
            "\u001b[?25hInstalling collected packages: drawsvg\n",
            "Successfully installed drawsvg-2.3.0\n",
            "Collecting libigl==2.4.1\n",
            "  Downloading libigl-2.4.1-cp311-cp311-manylinux_2_17_x86_64.manylinux2014_x86_64.whl.metadata (2.1 kB)\n",
            "Requirement already satisfied: numpy in /usr/local/lib/python3.11/dist-packages (from libigl==2.4.1) (1.26.4)\n",
            "Requirement already satisfied: scipy in /usr/local/lib/python3.11/dist-packages (from libigl==2.4.1) (1.13.1)\n",
            "Downloading libigl-2.4.1-cp311-cp311-manylinux_2_17_x86_64.manylinux2014_x86_64.whl (14.4 MB)\n",
            "\u001b[2K   \u001b[90m━━━━━━━━━━━━━━━━━━━━━━━━━━━━━━━━━━━━━━━━\u001b[0m \u001b[32m14.4/14.4 MB\u001b[0m \u001b[31m10.6 MB/s\u001b[0m eta \u001b[36m0:00:00\u001b[0m\n",
            "\u001b[?25hInstalling collected packages: libigl\n",
            "Successfully installed libigl-2.4.1\n",
            "Collecting git+https://github.com/skoch9/meshplot.git@v0.4.0\n",
            "  Cloning https://github.com/skoch9/meshplot.git (to revision v0.4.0) to /tmp/pip-req-build-09zvfh7z\n",
            "  Running command git clone --filter=blob:none --quiet https://github.com/skoch9/meshplot.git /tmp/pip-req-build-09zvfh7z\n",
            "  Running command git checkout -q 4708aa93018fa3ee547d0a9a091ac34f1e2ecb64\n",
            "  Resolved https://github.com/skoch9/meshplot.git to commit 4708aa93018fa3ee547d0a9a091ac34f1e2ecb64\n",
            "  Preparing metadata (setup.py) ... \u001b[?25l\u001b[?25hdone\n",
            "Collecting pythreejs==2.4.1\n",
            "  Downloading pythreejs-2.4.1-py3-none-any.whl.metadata (5.4 kB)\n",
            "Requirement already satisfied: ipywidgets>=7.2.1 in /usr/local/lib/python3.11/dist-packages (from pythreejs==2.4.1) (7.7.1)\n",
            "Collecting ipydatawidgets>=1.1.1 (from pythreejs==2.4.1)\n",
            "  Downloading ipydatawidgets-4.3.5-py2.py3-none-any.whl.metadata (1.4 kB)\n",
            "Requirement already satisfied: numpy in /usr/local/lib/python3.11/dist-packages (from pythreejs==2.4.1) (1.26.4)\n",
            "Requirement already satisfied: traitlets in /usr/local/lib/python3.11/dist-packages (from pythreejs==2.4.1) (5.7.1)\n",
            "Requirement already satisfied: traittypes>=0.2.0 in /usr/local/lib/python3.11/dist-packages (from ipydatawidgets>=1.1.1->pythreejs==2.4.1) (0.2.1)\n",
            "Requirement already satisfied: ipykernel>=4.5.1 in /usr/local/lib/python3.11/dist-packages (from ipywidgets>=7.2.1->pythreejs==2.4.1) (5.5.6)\n",
            "Requirement already satisfied: ipython-genutils~=0.2.0 in /usr/local/lib/python3.11/dist-packages (from ipywidgets>=7.2.1->pythreejs==2.4.1) (0.2.0)\n",
            "Requirement already satisfied: widgetsnbextension~=3.6.0 in /usr/local/lib/python3.11/dist-packages (from ipywidgets>=7.2.1->pythreejs==2.4.1) (3.6.10)\n",
            "Requirement already satisfied: ipython>=4.0.0 in /usr/local/lib/python3.11/dist-packages (from ipywidgets>=7.2.1->pythreejs==2.4.1) (7.34.0)\n",
            "Requirement already satisfied: jupyterlab-widgets>=1.0.0 in /usr/local/lib/python3.11/dist-packages (from ipywidgets>=7.2.1->pythreejs==2.4.1) (3.0.13)\n",
            "Requirement already satisfied: jupyter-client in /usr/local/lib/python3.11/dist-packages (from ipykernel>=4.5.1->ipywidgets>=7.2.1->pythreejs==2.4.1) (6.1.12)\n",
            "Requirement already satisfied: tornado>=4.2 in /usr/local/lib/python3.11/dist-packages (from ipykernel>=4.5.1->ipywidgets>=7.2.1->pythreejs==2.4.1) (6.4.2)\n",
            "Requirement already satisfied: setuptools>=18.5 in /usr/local/lib/python3.11/dist-packages (from ipython>=4.0.0->ipywidgets>=7.2.1->pythreejs==2.4.1) (75.1.0)\n",
            "Collecting jedi>=0.16 (from ipython>=4.0.0->ipywidgets>=7.2.1->pythreejs==2.4.1)\n",
            "  Downloading jedi-0.19.2-py2.py3-none-any.whl.metadata (22 kB)\n",
            "Requirement already satisfied: decorator in /usr/local/lib/python3.11/dist-packages (from ipython>=4.0.0->ipywidgets>=7.2.1->pythreejs==2.4.1) (4.4.2)\n",
            "Requirement already satisfied: pickleshare in /usr/local/lib/python3.11/dist-packages (from ipython>=4.0.0->ipywidgets>=7.2.1->pythreejs==2.4.1) (0.7.5)\n",
            "Requirement already satisfied: prompt-toolkit!=3.0.0,!=3.0.1,<3.1.0,>=2.0.0 in /usr/local/lib/python3.11/dist-packages (from ipython>=4.0.0->ipywidgets>=7.2.1->pythreejs==2.4.1) (3.0.50)\n",
            "Requirement already satisfied: pygments in /usr/local/lib/python3.11/dist-packages (from ipython>=4.0.0->ipywidgets>=7.2.1->pythreejs==2.4.1) (2.18.0)\n",
            "Requirement already satisfied: backcall in /usr/local/lib/python3.11/dist-packages (from ipython>=4.0.0->ipywidgets>=7.2.1->pythreejs==2.4.1) (0.2.0)\n",
            "Requirement already satisfied: matplotlib-inline in /usr/local/lib/python3.11/dist-packages (from ipython>=4.0.0->ipywidgets>=7.2.1->pythreejs==2.4.1) (0.1.7)\n",
            "Requirement already satisfied: pexpect>4.3 in /usr/local/lib/python3.11/dist-packages (from ipython>=4.0.0->ipywidgets>=7.2.1->pythreejs==2.4.1) (4.9.0)\n",
            "Requirement already satisfied: notebook>=4.4.1 in /usr/local/lib/python3.11/dist-packages (from widgetsnbextension~=3.6.0->ipywidgets>=7.2.1->pythreejs==2.4.1) (6.5.5)\n",
            "Requirement already satisfied: parso<0.9.0,>=0.8.4 in /usr/local/lib/python3.11/dist-packages (from jedi>=0.16->ipython>=4.0.0->ipywidgets>=7.2.1->pythreejs==2.4.1) (0.8.4)\n",
            "Requirement already satisfied: jinja2 in /usr/local/lib/python3.11/dist-packages (from notebook>=4.4.1->widgetsnbextension~=3.6.0->ipywidgets>=7.2.1->pythreejs==2.4.1) (3.1.5)\n",
            "Requirement already satisfied: pyzmq<25,>=17 in /usr/local/lib/python3.11/dist-packages (from notebook>=4.4.1->widgetsnbextension~=3.6.0->ipywidgets>=7.2.1->pythreejs==2.4.1) (24.0.1)\n",
            "Requirement already satisfied: argon2-cffi in /usr/local/lib/python3.11/dist-packages (from notebook>=4.4.1->widgetsnbextension~=3.6.0->ipywidgets>=7.2.1->pythreejs==2.4.1) (23.1.0)\n",
            "Requirement already satisfied: jupyter-core>=4.6.1 in /usr/local/lib/python3.11/dist-packages (from notebook>=4.4.1->widgetsnbextension~=3.6.0->ipywidgets>=7.2.1->pythreejs==2.4.1) (5.7.2)\n",
            "Requirement already satisfied: nbformat in /usr/local/lib/python3.11/dist-packages (from notebook>=4.4.1->widgetsnbextension~=3.6.0->ipywidgets>=7.2.1->pythreejs==2.4.1) (5.10.4)\n",
            "Requirement already satisfied: nbconvert>=5 in /usr/local/lib/python3.11/dist-packages (from notebook>=4.4.1->widgetsnbextension~=3.6.0->ipywidgets>=7.2.1->pythreejs==2.4.1) (7.16.6)\n",
            "Requirement already satisfied: nest-asyncio>=1.5 in /usr/local/lib/python3.11/dist-packages (from notebook>=4.4.1->widgetsnbextension~=3.6.0->ipywidgets>=7.2.1->pythreejs==2.4.1) (1.6.0)\n",
            "Requirement already satisfied: Send2Trash>=1.8.0 in /usr/local/lib/python3.11/dist-packages (from notebook>=4.4.1->widgetsnbextension~=3.6.0->ipywidgets>=7.2.1->pythreejs==2.4.1) (1.8.3)\n",
            "Requirement already satisfied: terminado>=0.8.3 in /usr/local/lib/python3.11/dist-packages (from notebook>=4.4.1->widgetsnbextension~=3.6.0->ipywidgets>=7.2.1->pythreejs==2.4.1) (0.18.1)\n",
            "Requirement already satisfied: prometheus-client in /usr/local/lib/python3.11/dist-packages (from notebook>=4.4.1->widgetsnbextension~=3.6.0->ipywidgets>=7.2.1->pythreejs==2.4.1) (0.21.1)\n",
            "Requirement already satisfied: nbclassic>=0.4.7 in /usr/local/lib/python3.11/dist-packages (from notebook>=4.4.1->widgetsnbextension~=3.6.0->ipywidgets>=7.2.1->pythreejs==2.4.1) (1.2.0)\n",
            "Requirement already satisfied: python-dateutil>=2.1 in /usr/local/lib/python3.11/dist-packages (from jupyter-client->ipykernel>=4.5.1->ipywidgets>=7.2.1->pythreejs==2.4.1) (2.8.2)\n",
            "Requirement already satisfied: ptyprocess>=0.5 in /usr/local/lib/python3.11/dist-packages (from pexpect>4.3->ipython>=4.0.0->ipywidgets>=7.2.1->pythreejs==2.4.1) (0.7.0)\n",
            "Requirement already satisfied: wcwidth in /usr/local/lib/python3.11/dist-packages (from prompt-toolkit!=3.0.0,!=3.0.1,<3.1.0,>=2.0.0->ipython>=4.0.0->ipywidgets>=7.2.1->pythreejs==2.4.1) (0.2.13)\n",
            "Requirement already satisfied: platformdirs>=2.5 in /usr/local/lib/python3.11/dist-packages (from jupyter-core>=4.6.1->notebook>=4.4.1->widgetsnbextension~=3.6.0->ipywidgets>=7.2.1->pythreejs==2.4.1) (4.3.6)\n",
            "Requirement already satisfied: notebook-shim>=0.2.3 in /usr/local/lib/python3.11/dist-packages (from nbclassic>=0.4.7->notebook>=4.4.1->widgetsnbextension~=3.6.0->ipywidgets>=7.2.1->pythreejs==2.4.1) (0.2.4)\n",
            "Requirement already satisfied: beautifulsoup4 in /usr/local/lib/python3.11/dist-packages (from nbconvert>=5->notebook>=4.4.1->widgetsnbextension~=3.6.0->ipywidgets>=7.2.1->pythreejs==2.4.1) (4.12.3)\n",
            "Requirement already satisfied: bleach!=5.0.0 in /usr/local/lib/python3.11/dist-packages (from bleach[css]!=5.0.0->nbconvert>=5->notebook>=4.4.1->widgetsnbextension~=3.6.0->ipywidgets>=7.2.1->pythreejs==2.4.1) (6.2.0)\n",
            "Requirement already satisfied: defusedxml in /usr/local/lib/python3.11/dist-packages (from nbconvert>=5->notebook>=4.4.1->widgetsnbextension~=3.6.0->ipywidgets>=7.2.1->pythreejs==2.4.1) (0.7.1)\n",
            "Requirement already satisfied: jupyterlab-pygments in /usr/local/lib/python3.11/dist-packages (from nbconvert>=5->notebook>=4.4.1->widgetsnbextension~=3.6.0->ipywidgets>=7.2.1->pythreejs==2.4.1) (0.3.0)\n",
            "Requirement already satisfied: markupsafe>=2.0 in /usr/local/lib/python3.11/dist-packages (from nbconvert>=5->notebook>=4.4.1->widgetsnbextension~=3.6.0->ipywidgets>=7.2.1->pythreejs==2.4.1) (3.0.2)\n",
            "Requirement already satisfied: mistune<4,>=2.0.3 in /usr/local/lib/python3.11/dist-packages (from nbconvert>=5->notebook>=4.4.1->widgetsnbextension~=3.6.0->ipywidgets>=7.2.1->pythreejs==2.4.1) (3.1.1)\n",
            "Requirement already satisfied: nbclient>=0.5.0 in /usr/local/lib/python3.11/dist-packages (from nbconvert>=5->notebook>=4.4.1->widgetsnbextension~=3.6.0->ipywidgets>=7.2.1->pythreejs==2.4.1) (0.10.2)\n",
            "Requirement already satisfied: packaging in /usr/local/lib/python3.11/dist-packages (from nbconvert>=5->notebook>=4.4.1->widgetsnbextension~=3.6.0->ipywidgets>=7.2.1->pythreejs==2.4.1) (24.2)\n",
            "Requirement already satisfied: pandocfilters>=1.4.1 in /usr/local/lib/python3.11/dist-packages (from nbconvert>=5->notebook>=4.4.1->widgetsnbextension~=3.6.0->ipywidgets>=7.2.1->pythreejs==2.4.1) (1.5.1)\n",
            "Requirement already satisfied: fastjsonschema>=2.15 in /usr/local/lib/python3.11/dist-packages (from nbformat->notebook>=4.4.1->widgetsnbextension~=3.6.0->ipywidgets>=7.2.1->pythreejs==2.4.1) (2.21.1)\n",
            "Requirement already satisfied: jsonschema>=2.6 in /usr/local/lib/python3.11/dist-packages (from nbformat->notebook>=4.4.1->widgetsnbextension~=3.6.0->ipywidgets>=7.2.1->pythreejs==2.4.1) (4.23.0)\n",
            "Requirement already satisfied: six>=1.5 in /usr/local/lib/python3.11/dist-packages (from python-dateutil>=2.1->jupyter-client->ipykernel>=4.5.1->ipywidgets>=7.2.1->pythreejs==2.4.1) (1.17.0)\n",
            "Requirement already satisfied: argon2-cffi-bindings in /usr/local/lib/python3.11/dist-packages (from argon2-cffi->notebook>=4.4.1->widgetsnbextension~=3.6.0->ipywidgets>=7.2.1->pythreejs==2.4.1) (21.2.0)\n",
            "Requirement already satisfied: webencodings in /usr/local/lib/python3.11/dist-packages (from bleach!=5.0.0->bleach[css]!=5.0.0->nbconvert>=5->notebook>=4.4.1->widgetsnbextension~=3.6.0->ipywidgets>=7.2.1->pythreejs==2.4.1) (0.5.1)\n",
            "Requirement already satisfied: tinycss2<1.5,>=1.1.0 in /usr/local/lib/python3.11/dist-packages (from bleach[css]!=5.0.0->nbconvert>=5->notebook>=4.4.1->widgetsnbextension~=3.6.0->ipywidgets>=7.2.1->pythreejs==2.4.1) (1.4.0)\n",
            "Requirement already satisfied: attrs>=22.2.0 in /usr/local/lib/python3.11/dist-packages (from jsonschema>=2.6->nbformat->notebook>=4.4.1->widgetsnbextension~=3.6.0->ipywidgets>=7.2.1->pythreejs==2.4.1) (25.1.0)\n",
            "Requirement already satisfied: jsonschema-specifications>=2023.03.6 in /usr/local/lib/python3.11/dist-packages (from jsonschema>=2.6->nbformat->notebook>=4.4.1->widgetsnbextension~=3.6.0->ipywidgets>=7.2.1->pythreejs==2.4.1) (2024.10.1)\n",
            "Requirement already satisfied: referencing>=0.28.4 in /usr/local/lib/python3.11/dist-packages (from jsonschema>=2.6->nbformat->notebook>=4.4.1->widgetsnbextension~=3.6.0->ipywidgets>=7.2.1->pythreejs==2.4.1) (0.36.2)\n",
            "Requirement already satisfied: rpds-py>=0.7.1 in /usr/local/lib/python3.11/dist-packages (from jsonschema>=2.6->nbformat->notebook>=4.4.1->widgetsnbextension~=3.6.0->ipywidgets>=7.2.1->pythreejs==2.4.1) (0.22.3)\n",
            "Requirement already satisfied: jupyter-server<3,>=1.8 in /usr/local/lib/python3.11/dist-packages (from notebook-shim>=0.2.3->nbclassic>=0.4.7->notebook>=4.4.1->widgetsnbextension~=3.6.0->ipywidgets>=7.2.1->pythreejs==2.4.1) (1.24.0)\n",
            "Requirement already satisfied: cffi>=1.0.1 in /usr/local/lib/python3.11/dist-packages (from argon2-cffi-bindings->argon2-cffi->notebook>=4.4.1->widgetsnbextension~=3.6.0->ipywidgets>=7.2.1->pythreejs==2.4.1) (1.17.1)\n",
            "Requirement already satisfied: soupsieve>1.2 in /usr/local/lib/python3.11/dist-packages (from beautifulsoup4->nbconvert>=5->notebook>=4.4.1->widgetsnbextension~=3.6.0->ipywidgets>=7.2.1->pythreejs==2.4.1) (2.6)\n",
            "Requirement already satisfied: pycparser in /usr/local/lib/python3.11/dist-packages (from cffi>=1.0.1->argon2-cffi-bindings->argon2-cffi->notebook>=4.4.1->widgetsnbextension~=3.6.0->ipywidgets>=7.2.1->pythreejs==2.4.1) (2.22)\n",
            "Requirement already satisfied: anyio<4,>=3.1.0 in /usr/local/lib/python3.11/dist-packages (from jupyter-server<3,>=1.8->notebook-shim>=0.2.3->nbclassic>=0.4.7->notebook>=4.4.1->widgetsnbextension~=3.6.0->ipywidgets>=7.2.1->pythreejs==2.4.1) (3.7.1)\n",
            "Requirement already satisfied: websocket-client in /usr/local/lib/python3.11/dist-packages (from jupyter-server<3,>=1.8->notebook-shim>=0.2.3->nbclassic>=0.4.7->notebook>=4.4.1->widgetsnbextension~=3.6.0->ipywidgets>=7.2.1->pythreejs==2.4.1) (1.8.0)\n",
            "Requirement already satisfied: typing-extensions>=4.4.0 in /usr/local/lib/python3.11/dist-packages (from referencing>=0.28.4->jsonschema>=2.6->nbformat->notebook>=4.4.1->widgetsnbextension~=3.6.0->ipywidgets>=7.2.1->pythreejs==2.4.1) (4.12.2)\n",
            "Requirement already satisfied: idna>=2.8 in /usr/local/lib/python3.11/dist-packages (from anyio<4,>=3.1.0->jupyter-server<3,>=1.8->notebook-shim>=0.2.3->nbclassic>=0.4.7->notebook>=4.4.1->widgetsnbextension~=3.6.0->ipywidgets>=7.2.1->pythreejs==2.4.1) (3.10)\n",
            "Requirement already satisfied: sniffio>=1.1 in /usr/local/lib/python3.11/dist-packages (from anyio<4,>=3.1.0->jupyter-server<3,>=1.8->notebook-shim>=0.2.3->nbclassic>=0.4.7->notebook>=4.4.1->widgetsnbextension~=3.6.0->ipywidgets>=7.2.1->pythreejs==2.4.1) (1.3.1)\n",
            "Downloading pythreejs-2.4.1-py3-none-any.whl (3.3 MB)\n",
            "\u001b[2K   \u001b[90m━━━━━━━━━━━━━━━━━━━━━━━━━━━━━━━━━━━━━━━━\u001b[0m \u001b[32m3.3/3.3 MB\u001b[0m \u001b[31m32.6 MB/s\u001b[0m eta \u001b[36m0:00:00\u001b[0m\n",
            "\u001b[?25hDownloading ipydatawidgets-4.3.5-py2.py3-none-any.whl (271 kB)\n",
            "\u001b[2K   \u001b[90m━━━━━━━━━━━━━━━━━━━━━━━━━━━━━━━━━━━━━━━━\u001b[0m \u001b[32m271.7/271.7 kB\u001b[0m \u001b[31m15.8 MB/s\u001b[0m eta \u001b[36m0:00:00\u001b[0m\n",
            "\u001b[?25hDownloading jedi-0.19.2-py2.py3-none-any.whl (1.6 MB)\n",
            "\u001b[2K   \u001b[90m━━━━━━━━━━━━━━━━━━━━━━━━━━━━━━━━━━━━━━━━\u001b[0m \u001b[32m1.6/1.6 MB\u001b[0m \u001b[31m47.9 MB/s\u001b[0m eta \u001b[36m0:00:00\u001b[0m\n",
            "\u001b[?25hBuilding wheels for collected packages: meshplot\n",
            "  Building wheel for meshplot (setup.py) ... \u001b[?25l\u001b[?25hdone\n",
            "  Created wheel for meshplot: filename=meshplot-0.3.3-py3-none-any.whl size=21119 sha256=191dcecf9460b7f6ace2ac4a96844b9a5fb339748005e6e0b586c94752ef1490\n",
            "  Stored in directory: /tmp/pip-ephem-wheel-cache-c0wfei8m/wheels/d2/08/95/52bd1a3fa3338f5fb43854d708136178d365c0d37d5da81132\n",
            "Successfully built meshplot\n",
            "Installing collected packages: meshplot, jedi, ipydatawidgets, pythreejs\n",
            "Successfully installed ipydatawidgets-4.3.5 jedi-0.19.2 meshplot-0.3.3 pythreejs-2.4.1\n",
            "Hit:1 https://cloud.r-project.org/bin/linux/ubuntu jammy-cran40/ InRelease\n",
            "Hit:2 http://security.ubuntu.com/ubuntu jammy-security InRelease\n",
            "Hit:3 https://developer.download.nvidia.com/compute/cuda/repos/ubuntu2204/x86_64  InRelease\n",
            "Hit:4 http://archive.ubuntu.com/ubuntu jammy InRelease\n",
            "Hit:5 https://r2u.stat.illinois.edu/ubuntu jammy InRelease\n",
            "Hit:6 http://archive.ubuntu.com/ubuntu jammy-updates InRelease\n",
            "Hit:7 http://archive.ubuntu.com/ubuntu jammy-backports InRelease\n",
            "Hit:8 https://ppa.launchpadcontent.net/deadsnakes/ppa/ubuntu jammy InRelease\n",
            "Hit:9 https://ppa.launchpadcontent.net/graphics-drivers/ppa/ubuntu jammy InRelease\n",
            "Hit:10 https://ppa.launchpadcontent.net/ubuntugis/ppa/ubuntu jammy InRelease\n",
            "Reading package lists... Done\n",
            "Building dependency tree... Done\n",
            "Reading state information... Done\n",
            "23 packages can be upgraded. Run 'apt list --upgradable' to see them.\n",
            "\u001b[1;33mW: \u001b[0mSkipping acquire of configured file 'main/source/Sources' as repository 'https://r2u.stat.illinois.edu/ubuntu jammy InRelease' does not seem to provide it (sources.list entry misspelt?)\u001b[0m\n",
            "Reading package lists... Done\n",
            "Building dependency tree... Done\n",
            "Reading state information... Done\n",
            "The following additional packages will be installed:\n",
            "  libimagequant0 libraqm0 python-tinycss2-common python3-bs4 python3-cairocffi python3-cairosvg\n",
            "  python3-cffi python3-chardet python3-cssselect2 python3-defusedxml python3-html5lib python3-lxml\n",
            "  python3-olefile python3-pil python3-ply python3-pycparser python3-soupsieve python3-tinycss2\n",
            "  python3-webencodings python3-xcffib\n",
            "Suggested packages:\n",
            "  python-cairocffi-doc python-cssselect2-doc python3-genshi python-lxml-doc python-pil-doc\n",
            "  python-ply-doc python-tinycss2-doc\n",
            "The following NEW packages will be installed:\n",
            "  cairosvg libimagequant0 libraqm0 python-tinycss2-common python3-bs4 python3-cairocffi\n",
            "  python3-cairosvg python3-cffi python3-chardet python3-cssselect2 python3-defusedxml\n",
            "  python3-html5lib python3-lxml python3-olefile python3-pil python3-ply python3-pycparser\n",
            "  python3-soupsieve python3-tinycss2 python3-webencodings python3-xcffib\n",
            "0 upgraded, 21 newly installed, 0 to remove and 23 not upgraded.\n",
            "Need to get 2,441 kB of archives.\n",
            "After this operation, 11.7 MB of additional disk space will be used.\n",
            "Get:1 http://archive.ubuntu.com/ubuntu jammy/main amd64 python3-ply all 3.11-5 [47.5 kB]\n",
            "Get:2 http://archive.ubuntu.com/ubuntu jammy/main amd64 python3-pycparser all 2.21-1 [76.9 kB]\n",
            "Get:3 http://archive.ubuntu.com/ubuntu jammy/main amd64 python3-cffi all 1.15.0-1build2 [72.6 kB]\n",
            "Get:4 http://archive.ubuntu.com/ubuntu jammy/universe amd64 python3-xcffib all 0.11.1-2 [63.3 kB]\n",
            "Get:5 http://archive.ubuntu.com/ubuntu jammy/universe amd64 python3-cairocffi all 1.2.0-2 [70.3 kB]\n",
            "Get:6 http://archive.ubuntu.com/ubuntu jammy/main amd64 python3-lxml amd64 4.8.0-1build1 [1,150 kB]\n",
            "Get:7 http://archive.ubuntu.com/ubuntu jammy/main amd64 python3-webencodings all 0.5.1-4 [11.8 kB]\n",
            "Get:8 http://archive.ubuntu.com/ubuntu jammy/universe amd64 python-tinycss2-common all 1.1.1-2 [34.4 kB]\n",
            "Get:9 http://archive.ubuntu.com/ubuntu jammy/universe amd64 python3-tinycss2 all 1.1.1-2 [19.7 kB]\n",
            "Get:10 http://archive.ubuntu.com/ubuntu jammy/universe amd64 python3-cssselect2 all 0.4.1-2 [14.7 kB]\n",
            "Get:11 http://archive.ubuntu.com/ubuntu jammy/main amd64 python3-defusedxml all 0.7.1-1 [43.2 kB]\n",
            "Get:12 http://archive.ubuntu.com/ubuntu jammy/main amd64 libimagequant0 amd64 2.17.0-1 [34.6 kB]\n",
            "Get:13 http://archive.ubuntu.com/ubuntu jammy/main amd64 libraqm0 amd64 0.7.0-4ubuntu1 [11.7 kB]\n",
            "Get:14 http://archive.ubuntu.com/ubuntu jammy-updates/main amd64 python3-pil amd64 9.0.1-1ubuntu0.3 [419 kB]\n",
            "Get:15 http://archive.ubuntu.com/ubuntu jammy/universe amd64 python3-cairosvg all 2.5.2-1 [36.5 kB]\n",
            "Get:16 http://archive.ubuntu.com/ubuntu jammy/universe amd64 cairosvg all 2.5.2-1 [3,210 B]\n",
            "Get:17 http://archive.ubuntu.com/ubuntu jammy/main amd64 python3-soupsieve all 2.3.1-1 [33.0 kB]\n",
            "Get:18 http://archive.ubuntu.com/ubuntu jammy/main amd64 python3-bs4 all 4.10.0-2 [79.1 kB]\n",
            "Get:19 http://archive.ubuntu.com/ubuntu jammy/main amd64 python3-chardet all 4.0.0-1 [98.0 kB]\n",
            "Get:20 http://archive.ubuntu.com/ubuntu jammy/main amd64 python3-html5lib all 1.1-3 [87.0 kB]\n",
            "Get:21 http://archive.ubuntu.com/ubuntu jammy/main amd64 python3-olefile all 0.46-3 [33.8 kB]\n",
            "Fetched 2,441 kB in 1s (2,095 kB/s)\n",
            "Selecting previously unselected package python3-ply.\n",
            "(Reading database ... 128811 files and directories currently installed.)\n",
            "Preparing to unpack .../00-python3-ply_3.11-5_all.deb ...\n",
            "Unpacking python3-ply (3.11-5) ...\n",
            "Selecting previously unselected package python3-pycparser.\n",
            "Preparing to unpack .../01-python3-pycparser_2.21-1_all.deb ...\n",
            "Unpacking python3-pycparser (2.21-1) ...\n",
            "Selecting previously unselected package python3-cffi.\n",
            "Preparing to unpack .../02-python3-cffi_1.15.0-1build2_all.deb ...\n",
            "Unpacking python3-cffi (1.15.0-1build2) ...\n",
            "Selecting previously unselected package python3-xcffib.\n",
            "Preparing to unpack .../03-python3-xcffib_0.11.1-2_all.deb ...\n",
            "Unpacking python3-xcffib (0.11.1-2) ...\n",
            "Selecting previously unselected package python3-cairocffi.\n",
            "Preparing to unpack .../04-python3-cairocffi_1.2.0-2_all.deb ...\n",
            "Unpacking python3-cairocffi (1.2.0-2) ...\n",
            "Selecting previously unselected package python3-lxml:amd64.\n",
            "Preparing to unpack .../05-python3-lxml_4.8.0-1build1_amd64.deb ...\n",
            "Unpacking python3-lxml:amd64 (4.8.0-1build1) ...\n",
            "Selecting previously unselected package python3-webencodings.\n",
            "Preparing to unpack .../06-python3-webencodings_0.5.1-4_all.deb ...\n",
            "Unpacking python3-webencodings (0.5.1-4) ...\n",
            "Selecting previously unselected package python-tinycss2-common.\n",
            "Preparing to unpack .../07-python-tinycss2-common_1.1.1-2_all.deb ...\n",
            "Unpacking python-tinycss2-common (1.1.1-2) ...\n",
            "Selecting previously unselected package python3-tinycss2.\n",
            "Preparing to unpack .../08-python3-tinycss2_1.1.1-2_all.deb ...\n",
            "Unpacking python3-tinycss2 (1.1.1-2) ...\n",
            "Selecting previously unselected package python3-cssselect2.\n",
            "Preparing to unpack .../09-python3-cssselect2_0.4.1-2_all.deb ...\n",
            "Unpacking python3-cssselect2 (0.4.1-2) ...\n",
            "Selecting previously unselected package python3-defusedxml.\n",
            "Preparing to unpack .../10-python3-defusedxml_0.7.1-1_all.deb ...\n",
            "Unpacking python3-defusedxml (0.7.1-1) ...\n",
            "Selecting previously unselected package libimagequant0:amd64.\n",
            "Preparing to unpack .../11-libimagequant0_2.17.0-1_amd64.deb ...\n",
            "Unpacking libimagequant0:amd64 (2.17.0-1) ...\n",
            "Selecting previously unselected package libraqm0:amd64.\n",
            "Preparing to unpack .../12-libraqm0_0.7.0-4ubuntu1_amd64.deb ...\n",
            "Unpacking libraqm0:amd64 (0.7.0-4ubuntu1) ...\n",
            "Selecting previously unselected package python3-pil:amd64.\n",
            "Preparing to unpack .../13-python3-pil_9.0.1-1ubuntu0.3_amd64.deb ...\n",
            "Unpacking python3-pil:amd64 (9.0.1-1ubuntu0.3) ...\n",
            "Selecting previously unselected package python3-cairosvg.\n",
            "Preparing to unpack .../14-python3-cairosvg_2.5.2-1_all.deb ...\n",
            "Unpacking python3-cairosvg (2.5.2-1) ...\n",
            "Selecting previously unselected package cairosvg.\n",
            "Preparing to unpack .../15-cairosvg_2.5.2-1_all.deb ...\n",
            "Unpacking cairosvg (2.5.2-1) ...\n",
            "Selecting previously unselected package python3-soupsieve.\n",
            "Preparing to unpack .../16-python3-soupsieve_2.3.1-1_all.deb ...\n",
            "Unpacking python3-soupsieve (2.3.1-1) ...\n",
            "Selecting previously unselected package python3-bs4.\n",
            "Preparing to unpack .../17-python3-bs4_4.10.0-2_all.deb ...\n",
            "Unpacking python3-bs4 (4.10.0-2) ...\n",
            "Selecting previously unselected package python3-chardet.\n",
            "Preparing to unpack .../18-python3-chardet_4.0.0-1_all.deb ...\n",
            "Unpacking python3-chardet (4.0.0-1) ...\n",
            "Selecting previously unselected package python3-html5lib.\n",
            "Preparing to unpack .../19-python3-html5lib_1.1-3_all.deb ...\n",
            "Unpacking python3-html5lib (1.1-3) ...\n",
            "Selecting previously unselected package python3-olefile.\n",
            "Preparing to unpack .../20-python3-olefile_0.46-3_all.deb ...\n",
            "Unpacking python3-olefile (0.46-3) ...\n",
            "Setting up python3-defusedxml (0.7.1-1) ...\n",
            "Setting up python3-olefile (0.46-3) ...\n",
            "Setting up python3-ply (3.11-5) ...\n",
            "Setting up python3-webencodings (0.5.1-4) ...\n",
            "Setting up python3-pycparser (2.21-1) ...\n",
            "Setting up python3-chardet (4.0.0-1) ...\n",
            "Setting up libraqm0:amd64 (0.7.0-4ubuntu1) ...\n",
            "Setting up libimagequant0:amd64 (2.17.0-1) ...\n",
            "Setting up python3-html5lib (1.1-3) ...\n",
            "Setting up python3-lxml:amd64 (4.8.0-1build1) ...\n",
            "Setting up python-tinycss2-common (1.1.1-2) ...\n",
            "Setting up python3-soupsieve (2.3.1-1) ...\n",
            "Setting up python3-tinycss2 (1.1.1-2) ...\n",
            "Setting up python3-cffi (1.15.0-1build2) ...\n",
            "Setting up python3-bs4 (4.10.0-2) ...\n",
            "Setting up python3-pil:amd64 (9.0.1-1ubuntu0.3) ...\n",
            "Setting up python3-cssselect2 (0.4.1-2) ...\n",
            "Setting up python3-xcffib (0.11.1-2) ...\n",
            "Setting up python3-cairocffi (1.2.0-2) ...\n",
            "Setting up python3-cairosvg (2.5.2-1) ...\n",
            "Setting up cairosvg (2.5.2-1) ...\n",
            "Processing triggers for man-db (2.10.2-1) ...\n",
            "Processing triggers for libc-bin (2.35-0ubuntu3.8) ...\n",
            "/sbin/ldconfig.real: /usr/local/lib/libumf.so.0 is not a symbolic link\n",
            "\n",
            "/sbin/ldconfig.real: /usr/local/lib/libtcm.so.1 is not a symbolic link\n",
            "\n",
            "/sbin/ldconfig.real: /usr/local/lib/libur_adapter_opencl.so.0 is not a symbolic link\n",
            "\n",
            "/sbin/ldconfig.real: /usr/local/lib/libtbbbind_2_0.so.3 is not a symbolic link\n",
            "\n",
            "/sbin/ldconfig.real: /usr/local/lib/libtbbbind_2_5.so.3 is not a symbolic link\n",
            "\n",
            "/sbin/ldconfig.real: /usr/local/lib/libtbbmalloc.so.2 is not a symbolic link\n",
            "\n",
            "/sbin/ldconfig.real: /usr/local/lib/libtbbbind.so.3 is not a symbolic link\n",
            "\n",
            "/sbin/ldconfig.real: /usr/local/lib/libur_adapter_level_zero.so.0 is not a symbolic link\n",
            "\n",
            "/sbin/ldconfig.real: /usr/local/lib/libtcm_debug.so.1 is not a symbolic link\n",
            "\n",
            "/sbin/ldconfig.real: /usr/local/lib/libhwloc.so.15 is not a symbolic link\n",
            "\n",
            "/sbin/ldconfig.real: /usr/local/lib/libtbb.so.12 is not a symbolic link\n",
            "\n",
            "/sbin/ldconfig.real: /usr/local/lib/libtbbmalloc_proxy.so.2 is not a symbolic link\n",
            "\n",
            "/sbin/ldconfig.real: /usr/local/lib/libur_loader.so.0 is not a symbolic link\n",
            "\n"
          ]
        },
        {
          "output_type": "execute_result",
          "data": {
            "text/plain": []
          },
          "metadata": {},
          "execution_count": 2
        }
      ]
    },
    {
      "cell_type": "code",
      "source": [
        "# Install remaining Python packages\n",
        "!pip install shapely svgwrite parameterized svgelements"
      ],
      "metadata": {
        "colab": {
          "base_uri": "https://localhost:8080/"
        },
        "collapsed": true,
        "id": "KSXN1RYzs5-g",
        "outputId": "a0da02e1-322b-49ae-f1b3-10ebf6e51032"
      },
      "execution_count": 3,
      "outputs": [
        {
          "output_type": "stream",
          "name": "stdout",
          "text": [
            "Requirement already satisfied: shapely in /usr/local/lib/python3.11/dist-packages (2.0.6)\n",
            "Collecting svgwrite\n",
            "  Downloading svgwrite-1.4.3-py3-none-any.whl.metadata (8.8 kB)\n",
            "Collecting parameterized\n",
            "  Downloading parameterized-0.9.0-py2.py3-none-any.whl.metadata (18 kB)\n",
            "Collecting svgelements\n",
            "  Downloading svgelements-1.9.6-py2.py3-none-any.whl.metadata (44 kB)\n",
            "\u001b[2K     \u001b[90m━━━━━━━━━━━━━━━━━━━━━━━━━━━━━━━━━━━━━━━━\u001b[0m \u001b[32m44.9/44.9 kB\u001b[0m \u001b[31m1.6 MB/s\u001b[0m eta \u001b[36m0:00:00\u001b[0m\n",
            "\u001b[?25hRequirement already satisfied: numpy<3,>=1.14 in /usr/local/lib/python3.11/dist-packages (from shapely) (1.26.4)\n",
            "Downloading svgwrite-1.4.3-py3-none-any.whl (67 kB)\n",
            "\u001b[2K   \u001b[90m━━━━━━━━━━━━━━━━━━━━━━━━━━━━━━━━━━━━━━━━\u001b[0m \u001b[32m67.1/67.1 kB\u001b[0m \u001b[31m3.5 MB/s\u001b[0m eta \u001b[36m0:00:00\u001b[0m\n",
            "\u001b[?25hDownloading parameterized-0.9.0-py2.py3-none-any.whl (20 kB)\n",
            "Downloading svgelements-1.9.6-py2.py3-none-any.whl (137 kB)\n",
            "\u001b[2K   \u001b[90m━━━━━━━━━━━━━━━━━━━━━━━━━━━━━━━━━━━━━━━━\u001b[0m \u001b[32m137.9/137.9 kB\u001b[0m \u001b[31m8.7 MB/s\u001b[0m eta \u001b[36m0:00:00\u001b[0m\n",
            "\u001b[?25hInstalling collected packages: svgelements, svgwrite, parameterized\n",
            "Successfully installed parameterized-0.9.0 svgelements-1.9.6 svgwrite-1.4.3\n"
          ]
        }
      ]
    },
    {
      "cell_type": "code",
      "source": [
        "# Clone the Packaide repository\n",
        "!git clone https://github.com/DanielLiamAnderson/Packaide.git"
      ],
      "metadata": {
        "colab": {
          "base_uri": "https://localhost:8080/"
        },
        "collapsed": true,
        "id": "7xsH599rs8MD",
        "outputId": "4e962613-ec23-4e45-e288-6bc4226fb2d4"
      },
      "execution_count": 4,
      "outputs": [
        {
          "output_type": "stream",
          "name": "stdout",
          "text": [
            "Cloning into 'Packaide'...\n",
            "remote: Enumerating objects: 583, done.\u001b[K\n",
            "remote: Counting objects: 100% (117/117), done.\u001b[K\n",
            "remote: Compressing objects: 100% (63/63), done.\u001b[K\n",
            "remote: Total 583 (delta 51), reused 86 (delta 29), pack-reused 466 (from 1)\u001b[K\n",
            "Receiving objects: 100% (583/583), 300.82 KiB | 6.84 MiB/s, done.\n",
            "Resolving deltas: 100% (263/263), done.\n"
          ]
        }
      ]
    },
    {
      "cell_type": "code",
      "source": [
        "# Create a build directory and navigate into it\n",
        "# always come back to the parent dir if you don't want a problem\n",
        "%cd /content/Packaide\n",
        "!mkdir build\n",
        "%cd build\n",
        "\n",
        "# Configure the build with CMake\n",
        "!cmake -DBUILD_PYTHON_BINDINGS=ON ..\n",
        "\n",
        "# Compile the library using all available CPU cores\n",
        "!make -j$(nproc)\n",
        "!make check\n",
        "!sudo make install\n",
        "\n",
        "%cd /content/Packaide/python\n",
        "!pip install ."
      ],
      "metadata": {
        "colab": {
          "base_uri": "https://localhost:8080/"
        },
        "collapsed": true,
        "id": "DsNHoiu7s-Z1",
        "outputId": "fc949888-d87c-4477-8a46-4b5b48c2a026"
      },
      "execution_count": 5,
      "outputs": [
        {
          "output_type": "stream",
          "name": "stdout",
          "text": [
            "/content/Packaide\n",
            "/content/Packaide/build\n",
            "-- The CXX compiler identification is GNU 11.4.0\n",
            "-- Detecting CXX compiler ABI info\n",
            "-- Detecting CXX compiler ABI info - done\n",
            "-- Check for working CXX compiler: /usr/bin/c++ - skipped\n",
            "-- Detecting CXX compile features\n",
            "-- Detecting CXX compile features - done\n",
            "-- --------------- General configuration -------------\n",
            "-- CMake Generator:                Unix Makefiles\n",
            "-- Compiler:                       GNU 11.4.0\n",
            "-- Build type:                     Release\n",
            "-- CMAKE_CXX_FLAGS:                \n",
            "-- CMAKE_CXX_FLAGS_DEBUG:          -g\n",
            "-- CMAKE_CXX_FLAGS_RELEASE:        -O3 -DNDEBUG\n",
            "-- CMAKE_CXX_FLAGS_RELWITHDEBINFO: -O2 -g -DNDEBUG -fno-omit-frame-pointer\n",
            "-- CMAKE_EXE_LINKER_FLAGS          \n",
            "-- CMAKE_INSTALL_PREFIX:           /usr/local\n",
            "-- ---------------------------------------------------\n",
            "\u001b[33mCMake Warning at /usr/lib/x86_64-linux-gnu/cmake/CGAL/CGALConfig.cmake:92 (message):\n",
            "  CGAL_DATA_DIR cannot be deduced, set the variable CGAL_DATA_DIR to set the\n",
            "  default value of CGAL::data_file_path()\n",
            "Call Stack (most recent call first):\n",
            "  CMakeLists.txt:51 (find_package)\n",
            "\n",
            "\u001b[0m\n",
            "-- Using header-only CGAL\n",
            "-- Targetting Unix Makefiles\n",
            "-- Using /usr/bin/c++ compiler.\n",
            "-- Found GMP: /usr/lib/x86_64-linux-gnu/libgmp.so\n",
            "-- Found MPFR: /usr/lib/x86_64-linux-gnu/libmpfr.so\n",
            "\u001b[33mCMake Warning (dev) at /usr/lib/x86_64-linux-gnu/cmake/CGAL/CGAL_SetupBoost.cmake:20 (find_package):\n",
            "  Policy CMP0167 is not set: The FindBoost module is removed.  Run \"cmake\n",
            "  --help-policy CMP0167\" for policy details.  Use the cmake_policy command to\n",
            "  set the policy and suppress this warning.\n",
            "\n",
            "Call Stack (most recent call first):\n",
            "  /usr/lib/x86_64-linux-gnu/cmake/CGAL/CGAL_SetupCGALDependencies.cmake:47 (include)\n",
            "  /usr/lib/x86_64-linux-gnu/cmake/CGAL/CGALConfig.cmake:153 (include)\n",
            "  CMakeLists.txt:51 (find_package)\n",
            "This warning is for project developers.  Use -Wno-dev to suppress it.\n",
            "\u001b[0m\n",
            "-- Found Boost: /usr/lib/x86_64-linux-gnu/cmake/Boost-1.74.0/BoostConfig.cmake (found suitable version \"1.74.0\", minimum required is \"1.48\")\n",
            "-- Boost include dirs: /usr/include\n",
            "-- Boost libraries:    \n",
            "-- Performing Test CMAKE_HAVE_LIBC_PTHREAD\n",
            "-- Performing Test CMAKE_HAVE_LIBC_PTHREAD - Success\n",
            "-- Found Threads: TRUE\n",
            "-- Using gcc version 4 or later. Adding -frounding-math\n",
            "-- Found Python3: /usr/local/bin/python (found version \"3.11.11\") found components: Interpreter\n",
            "\u001b[33mCMake Warning (dev) at src/CMakeLists.txt:11 (find_package):\n",
            "  Policy CMP0148 is not set: The FindPythonInterp and FindPythonLibs modules\n",
            "  are removed.  Run \"cmake --help-policy CMP0148\" for policy details.  Use\n",
            "  the cmake_policy command to set the policy and suppress this warning.\n",
            "\n",
            "This warning is for project developers.  Use -Wno-dev to suppress it.\n",
            "\u001b[0m\n",
            "-- Found PythonLibs: /usr/lib/x86_64-linux-gnu/libpython3.11.so (found version \"3.11.11\")\n",
            "\u001b[33mCMake Warning (dev) at src/CMakeLists.txt:12 (find_package):\n",
            "  Policy CMP0167 is not set: The FindBoost module is removed.  Run \"cmake\n",
            "  --help-policy CMP0167\" for policy details.  Use the cmake_policy command to\n",
            "  set the policy and suppress this warning.\n",
            "\n",
            "This warning is for project developers.  Use -Wno-dev to suppress it.\n",
            "\u001b[0m\n",
            "-- Found Boost: /usr/lib/x86_64-linux-gnu/cmake/Boost-1.74.0/BoostConfig.cmake (found version \"1.74.0\") found components: system python\n",
            "-- Configuring done (10.3s)\n",
            "-- Generating done (0.0s)\n",
            "\u001b[33mCMake Warning:\n",
            "  Manually-specified variables were not used by the project:\n",
            "\n",
            "    BUILD_PYTHON_BINDINGS\n",
            "\n",
            "\u001b[0m\n",
            "-- Build files have been written to: /content/Packaide/build\n",
            "[ 50%] \u001b[32mBuilding CXX object src/CMakeFiles/PackaideBindings.dir/bindings.cpp.o\u001b[0m\n",
            "In file included from \u001b[01m\u001b[K/usr/include/boost/smart_ptr/detail/sp_thread_sleep.hpp:22\u001b[m\u001b[K,\n",
            "                 from \u001b[01m\u001b[K/usr/include/boost/smart_ptr/detail/yield_k.hpp:23\u001b[m\u001b[K,\n",
            "                 from \u001b[01m\u001b[K/usr/include/boost/smart_ptr/detail/spinlock_gcc_atomic.hpp:14\u001b[m\u001b[K,\n",
            "                 from \u001b[01m\u001b[K/usr/include/boost/smart_ptr/detail/spinlock.hpp:42\u001b[m\u001b[K,\n",
            "                 from \u001b[01m\u001b[K/usr/include/boost/smart_ptr/detail/spinlock_pool.hpp:25\u001b[m\u001b[K,\n",
            "                 from \u001b[01m\u001b[K/usr/include/boost/smart_ptr/shared_ptr.hpp:29\u001b[m\u001b[K,\n",
            "                 from \u001b[01m\u001b[K/usr/include/boost/shared_ptr.hpp:17\u001b[m\u001b[K,\n",
            "                 from \u001b[01m\u001b[K/usr/include/boost/python/converter/shared_ptr_to_python.hpp:12\u001b[m\u001b[K,\n",
            "                 from \u001b[01m\u001b[K/usr/include/boost/python/converter/arg_to_python.hpp:15\u001b[m\u001b[K,\n",
            "                 from \u001b[01m\u001b[K/usr/include/boost/python/call.hpp:15\u001b[m\u001b[K,\n",
            "                 from \u001b[01m\u001b[K/usr/include/boost/python/object_core.hpp:14\u001b[m\u001b[K,\n",
            "                 from \u001b[01m\u001b[K/usr/include/boost/python/args.hpp:22\u001b[m\u001b[K,\n",
            "                 from \u001b[01m\u001b[K/usr/include/boost/python.hpp:11\u001b[m\u001b[K,\n",
            "                 from \u001b[01m\u001b[K/content/Packaide/src/bindings.cpp:5\u001b[m\u001b[K:\n",
            "\u001b[01m\u001b[K/usr/include/boost/bind.hpp:36:1:\u001b[m\u001b[K \u001b[01;36m\u001b[Knote: \u001b[m\u001b[K‘\u001b[01m\u001b[K#pragma message: The practice of declaring the Bind placeholders (_1, _2, ...) in the global namespace is deprecated. Please use <boost/bind/bind.hpp> + using namespace boost::placeholders, or define BOOST_BIND_GLOBAL_PLACEHOLDERS to retain the current behavior.\u001b[m\u001b[K’\n",
            "   36 | \u001b[01;36m\u001b[KBOOST_PRAGMA_MESSAGE\u001b[m\u001b[K(\n",
            "      | \u001b[01;36m\u001b[K^~~~~~~~~~~~~~~~~~~~\u001b[m\u001b[K\n",
            "\u001b[01m\u001b[K/usr/include/boost/detail/iterator.hpp:13:1:\u001b[m\u001b[K \u001b[01;36m\u001b[Knote: \u001b[m\u001b[K‘\u001b[01m\u001b[K#pragma message: This header is deprecated. Use <iterator> instead.\u001b[m\u001b[K’\n",
            "   13 | \u001b[01;36m\u001b[KBOOST_HEADER_DEPRECATED\u001b[m\u001b[K(\"<iterator>\")\n",
            "      | \u001b[01;36m\u001b[K^~~~~~~~~~~~~~~~~~~~~~~\u001b[m\u001b[K\n",
            "[100%] \u001b[32m\u001b[1mLinking CXX shared library PackaideBindings.so\u001b[0m\n",
            "[100%] Built target PackaideBindings\n",
            "[100%] Built target PackaideBindings\n",
            "Test project /content/Packaide/build\n",
            "      Start  1: DatasetPackingTests.test_blank_sheet_00_bee\n",
            " 1/28 Test  #1: DatasetPackingTests.test_blank_sheet_00_bee ................   Passed    1.52 sec\n",
            "      Start  2: DatasetPackingTests.test_blank_sheet_01_kyub1\n",
            " 2/28 Test  #2: DatasetPackingTests.test_blank_sheet_01_kyub1 ..............   Passed    1.77 sec\n",
            "      Start  3: DatasetPackingTests.test_blank_sheet_02_man\n",
            " 3/28 Test  #3: DatasetPackingTests.test_blank_sheet_02_man ................   Passed    0.71 sec\n",
            "      Start  4: DatasetPackingTests.test_blank_sheet_03_heel\n",
            " 4/28 Test  #4: DatasetPackingTests.test_blank_sheet_03_heel ...............   Passed    7.98 sec\n",
            "      Start  5: DatasetPackingTests.test_blank_sheet_04_alluserdesigns_0\n",
            " 5/28 Test  #5: DatasetPackingTests.test_blank_sheet_04_alluserdesigns_0 ...***Failed    2.05 sec\n",
            "test_blank_sheet_04_alluserdesigns_0 (__main__.DatasetPackingTests.test_blank_sheet_04_alluserdesigns_0) ... ERROR\n",
            "\n",
            "======================================================================\n",
            "ERROR: test_blank_sheet_04_alluserdesigns_0 (__main__.DatasetPackingTests.test_blank_sheet_04_alluserdesigns_0)\n",
            "----------------------------------------------------------------------\n",
            "Traceback (most recent call last):\n",
            "  File \"/usr/local/lib/python3.11/dist-packages/parameterized/parameterized.py\", line 620, in standalone_func\n",
            "    return func(*(a + p.args), **p.kwargs, **kw)\n",
            "           ^^^^^^^^^^^^^^^^^^^^^^^^^^^^^^^^^^^^^\n",
            "  File \"/content/Packaide/test/test_packing.py\", line 157, in test_blank_sheet\n",
            "    solution, placed, not_placed = packaide.pack(sheets, shapes, tolerance = tolerance, offset = offset, partial_solution = False, rotations = 1, persist = False)\n",
            "                                   ^^^^^^^^^^^^^^^^^^^^^^^^^^^^^^^^^^^^^^^^^^^^^^^^^^^^^^^^^^^^^^^^^^^^^^^^^^^^^^^^^^^^^^^^^^^^^^^^^^^^^^^^^^^^^^^^^^^^^^^^^^^^^^^\n",
            "  File \"/content/Packaide/python/packaide/packaide.py\", line 247, in pack\n",
            "    elements, polygons = extract_polygons(shapes, tolerance, offset)\n",
            "                         ^^^^^^^^^^^^^^^^^^^^^^^^^^^^^^^^^^^^^^^^^^^\n",
            "  File \"/content/Packaide/python/packaide/packaide.py\", line 155, in extract_polygons\n",
            "    for minihole in list(hole):\n",
            "                    ^^^^^^^^^^\n",
            "TypeError: 'MultiPolygon' object is not iterable\n",
            "\n",
            "----------------------------------------------------------------------\n",
            "Ran 1 test in 1.598s\n",
            "\n",
            "FAILED (errors=1)\n",
            "\n",
            "      Start  6: DatasetPackingTests.test_blank_sheet_05_alluserdesigns_1\n",
            " 6/28 Test  #6: DatasetPackingTests.test_blank_sheet_05_alluserdesigns_1 ...***Failed    1.59 sec\n",
            "test_blank_sheet_05_alluserdesigns_1 (__main__.DatasetPackingTests.test_blank_sheet_05_alluserdesigns_1) ... ERROR\n",
            "\n",
            "======================================================================\n",
            "ERROR: test_blank_sheet_05_alluserdesigns_1 (__main__.DatasetPackingTests.test_blank_sheet_05_alluserdesigns_1)\n",
            "----------------------------------------------------------------------\n",
            "Traceback (most recent call last):\n",
            "  File \"/usr/local/lib/python3.11/dist-packages/parameterized/parameterized.py\", line 620, in standalone_func\n",
            "    return func(*(a + p.args), **p.kwargs, **kw)\n",
            "           ^^^^^^^^^^^^^^^^^^^^^^^^^^^^^^^^^^^^^\n",
            "  File \"/content/Packaide/test/test_packing.py\", line 157, in test_blank_sheet\n",
            "    solution, placed, not_placed = packaide.pack(sheets, shapes, tolerance = tolerance, offset = offset, partial_solution = False, rotations = 1, persist = False)\n",
            "                                   ^^^^^^^^^^^^^^^^^^^^^^^^^^^^^^^^^^^^^^^^^^^^^^^^^^^^^^^^^^^^^^^^^^^^^^^^^^^^^^^^^^^^^^^^^^^^^^^^^^^^^^^^^^^^^^^^^^^^^^^^^^^^^^^\n",
            "  File \"/content/Packaide/python/packaide/packaide.py\", line 247, in pack\n",
            "    elements, polygons = extract_polygons(shapes, tolerance, offset)\n",
            "                         ^^^^^^^^^^^^^^^^^^^^^^^^^^^^^^^^^^^^^^^^^^^\n",
            "  File \"/content/Packaide/python/packaide/packaide.py\", line 155, in extract_polygons\n",
            "    for minihole in list(hole):\n",
            "                    ^^^^^^^^^^\n",
            "TypeError: 'MultiPolygon' object is not iterable\n",
            "\n",
            "----------------------------------------------------------------------\n",
            "Ran 1 test in 1.177s\n",
            "\n",
            "FAILED (errors=1)\n",
            "\n",
            "      Start  7: DatasetPackingTests.test_blank_sheet_06_alluserdesigns_2\n",
            " 7/28 Test  #7: DatasetPackingTests.test_blank_sheet_06_alluserdesigns_2 ...***Failed    1.47 sec\n",
            "test_blank_sheet_06_alluserdesigns_2 (__main__.DatasetPackingTests.test_blank_sheet_06_alluserdesigns_2) ... ERROR\n",
            "\n",
            "======================================================================\n",
            "ERROR: test_blank_sheet_06_alluserdesigns_2 (__main__.DatasetPackingTests.test_blank_sheet_06_alluserdesigns_2)\n",
            "----------------------------------------------------------------------\n",
            "Traceback (most recent call last):\n",
            "  File \"/usr/local/lib/python3.11/dist-packages/parameterized/parameterized.py\", line 620, in standalone_func\n",
            "    return func(*(a + p.args), **p.kwargs, **kw)\n",
            "           ^^^^^^^^^^^^^^^^^^^^^^^^^^^^^^^^^^^^^\n",
            "  File \"/content/Packaide/test/test_packing.py\", line 157, in test_blank_sheet\n",
            "    solution, placed, not_placed = packaide.pack(sheets, shapes, tolerance = tolerance, offset = offset, partial_solution = False, rotations = 1, persist = False)\n",
            "                                   ^^^^^^^^^^^^^^^^^^^^^^^^^^^^^^^^^^^^^^^^^^^^^^^^^^^^^^^^^^^^^^^^^^^^^^^^^^^^^^^^^^^^^^^^^^^^^^^^^^^^^^^^^^^^^^^^^^^^^^^^^^^^^^^\n",
            "  File \"/content/Packaide/python/packaide/packaide.py\", line 247, in pack\n",
            "    elements, polygons = extract_polygons(shapes, tolerance, offset)\n",
            "                         ^^^^^^^^^^^^^^^^^^^^^^^^^^^^^^^^^^^^^^^^^^^\n",
            "  File \"/content/Packaide/python/packaide/packaide.py\", line 155, in extract_polygons\n",
            "    for minihole in list(hole):\n",
            "                    ^^^^^^^^^^\n",
            "TypeError: 'MultiPolygon' object is not iterable\n",
            "\n",
            "----------------------------------------------------------------------\n",
            "Ran 1 test in 1.084s\n",
            "\n",
            "FAILED (errors=1)\n",
            "\n",
            "      Start  8: DatasetPackingTests.test_blank_sheet_07_alluserdesigns_3\n",
            " 8/28 Test  #8: DatasetPackingTests.test_blank_sheet_07_alluserdesigns_3 ...***Failed    1.39 sec\n",
            "test_blank_sheet_07_alluserdesigns_3 (__main__.DatasetPackingTests.test_blank_sheet_07_alluserdesigns_3) ... ERROR\n",
            "\n",
            "======================================================================\n",
            "ERROR: test_blank_sheet_07_alluserdesigns_3 (__main__.DatasetPackingTests.test_blank_sheet_07_alluserdesigns_3)\n",
            "----------------------------------------------------------------------\n",
            "Traceback (most recent call last):\n",
            "  File \"/usr/local/lib/python3.11/dist-packages/parameterized/parameterized.py\", line 620, in standalone_func\n",
            "    return func(*(a + p.args), **p.kwargs, **kw)\n",
            "           ^^^^^^^^^^^^^^^^^^^^^^^^^^^^^^^^^^^^^\n",
            "  File \"/content/Packaide/test/test_packing.py\", line 157, in test_blank_sheet\n",
            "    solution, placed, not_placed = packaide.pack(sheets, shapes, tolerance = tolerance, offset = offset, partial_solution = False, rotations = 1, persist = False)\n",
            "                                   ^^^^^^^^^^^^^^^^^^^^^^^^^^^^^^^^^^^^^^^^^^^^^^^^^^^^^^^^^^^^^^^^^^^^^^^^^^^^^^^^^^^^^^^^^^^^^^^^^^^^^^^^^^^^^^^^^^^^^^^^^^^^^^^\n",
            "  File \"/content/Packaide/python/packaide/packaide.py\", line 247, in pack\n",
            "    elements, polygons = extract_polygons(shapes, tolerance, offset)\n",
            "                         ^^^^^^^^^^^^^^^^^^^^^^^^^^^^^^^^^^^^^^^^^^^\n",
            "  File \"/content/Packaide/python/packaide/packaide.py\", line 155, in extract_polygons\n",
            "    for minihole in list(hole):\n",
            "                    ^^^^^^^^^^\n",
            "TypeError: 'MultiPolygon' object is not iterable\n",
            "\n",
            "----------------------------------------------------------------------\n",
            "Ran 1 test in 0.993s\n",
            "\n",
            "FAILED (errors=1)\n",
            "\n",
            "      Start  9: DatasetPackingTests.test_blank_sheet_08_alluserdesigns_4\n",
            " 9/28 Test  #9: DatasetPackingTests.test_blank_sheet_08_alluserdesigns_4 ...***Failed    1.68 sec\n",
            "test_blank_sheet_08_alluserdesigns_4 (__main__.DatasetPackingTests.test_blank_sheet_08_alluserdesigns_4) ... ERROR\n",
            "\n",
            "======================================================================\n",
            "ERROR: test_blank_sheet_08_alluserdesigns_4 (__main__.DatasetPackingTests.test_blank_sheet_08_alluserdesigns_4)\n",
            "----------------------------------------------------------------------\n",
            "Traceback (most recent call last):\n",
            "  File \"/usr/local/lib/python3.11/dist-packages/parameterized/parameterized.py\", line 620, in standalone_func\n",
            "    return func(*(a + p.args), **p.kwargs, **kw)\n",
            "           ^^^^^^^^^^^^^^^^^^^^^^^^^^^^^^^^^^^^^\n",
            "  File \"/content/Packaide/test/test_packing.py\", line 157, in test_blank_sheet\n",
            "    solution, placed, not_placed = packaide.pack(sheets, shapes, tolerance = tolerance, offset = offset, partial_solution = False, rotations = 1, persist = False)\n",
            "                                   ^^^^^^^^^^^^^^^^^^^^^^^^^^^^^^^^^^^^^^^^^^^^^^^^^^^^^^^^^^^^^^^^^^^^^^^^^^^^^^^^^^^^^^^^^^^^^^^^^^^^^^^^^^^^^^^^^^^^^^^^^^^^^^^\n",
            "  File \"/content/Packaide/python/packaide/packaide.py\", line 247, in pack\n",
            "    elements, polygons = extract_polygons(shapes, tolerance, offset)\n",
            "                         ^^^^^^^^^^^^^^^^^^^^^^^^^^^^^^^^^^^^^^^^^^^\n",
            "  File \"/content/Packaide/python/packaide/packaide.py\", line 155, in extract_polygons\n",
            "    for minihole in list(hole):\n",
            "                    ^^^^^^^^^^\n",
            "TypeError: 'MultiPolygon' object is not iterable\n",
            "\n",
            "----------------------------------------------------------------------\n",
            "Ran 1 test in 1.295s\n",
            "\n",
            "FAILED (errors=1)\n",
            "\n",
            "      Start 10: DatasetPackingTests.test_blank_sheet_09_alluserdesigns_5\n",
            "10/28 Test #10: DatasetPackingTests.test_blank_sheet_09_alluserdesigns_5 ...***Failed    2.43 sec\n",
            "test_blank_sheet_09_alluserdesigns_5 (__main__.DatasetPackingTests.test_blank_sheet_09_alluserdesigns_5) ... ERROR\n",
            "\n",
            "======================================================================\n",
            "ERROR: test_blank_sheet_09_alluserdesigns_5 (__main__.DatasetPackingTests.test_blank_sheet_09_alluserdesigns_5)\n",
            "----------------------------------------------------------------------\n",
            "Traceback (most recent call last):\n",
            "  File \"/usr/local/lib/python3.11/dist-packages/parameterized/parameterized.py\", line 620, in standalone_func\n",
            "    return func(*(a + p.args), **p.kwargs, **kw)\n",
            "           ^^^^^^^^^^^^^^^^^^^^^^^^^^^^^^^^^^^^^\n",
            "  File \"/content/Packaide/test/test_packing.py\", line 157, in test_blank_sheet\n",
            "    solution, placed, not_placed = packaide.pack(sheets, shapes, tolerance = tolerance, offset = offset, partial_solution = False, rotations = 1, persist = False)\n",
            "                                   ^^^^^^^^^^^^^^^^^^^^^^^^^^^^^^^^^^^^^^^^^^^^^^^^^^^^^^^^^^^^^^^^^^^^^^^^^^^^^^^^^^^^^^^^^^^^^^^^^^^^^^^^^^^^^^^^^^^^^^^^^^^^^^^\n",
            "  File \"/content/Packaide/python/packaide/packaide.py\", line 247, in pack\n",
            "    elements, polygons = extract_polygons(shapes, tolerance, offset)\n",
            "                         ^^^^^^^^^^^^^^^^^^^^^^^^^^^^^^^^^^^^^^^^^^^\n",
            "  File \"/content/Packaide/python/packaide/packaide.py\", line 155, in extract_polygons\n",
            "    for minihole in list(hole):\n",
            "                    ^^^^^^^^^^\n",
            "TypeError: 'MultiPolygon' object is not iterable\n",
            "\n",
            "----------------------------------------------------------------------\n",
            "Ran 1 test in 1.996s\n",
            "\n",
            "FAILED (errors=1)\n",
            "\n",
            "      Start 11: DatasetPackingTests.test_blank_sheet_10_alluserdesigns_6\n",
            "11/28 Test #11: DatasetPackingTests.test_blank_sheet_10_alluserdesigns_6 ...***Failed    2.74 sec\n",
            "test_blank_sheet_10_alluserdesigns_6 (__main__.DatasetPackingTests.test_blank_sheet_10_alluserdesigns_6) ... ERROR\n",
            "\n",
            "======================================================================\n",
            "ERROR: test_blank_sheet_10_alluserdesigns_6 (__main__.DatasetPackingTests.test_blank_sheet_10_alluserdesigns_6)\n",
            "----------------------------------------------------------------------\n",
            "Traceback (most recent call last):\n",
            "  File \"/usr/local/lib/python3.11/dist-packages/parameterized/parameterized.py\", line 620, in standalone_func\n",
            "    return func(*(a + p.args), **p.kwargs, **kw)\n",
            "           ^^^^^^^^^^^^^^^^^^^^^^^^^^^^^^^^^^^^^\n",
            "  File \"/content/Packaide/test/test_packing.py\", line 157, in test_blank_sheet\n",
            "    solution, placed, not_placed = packaide.pack(sheets, shapes, tolerance = tolerance, offset = offset, partial_solution = False, rotations = 1, persist = False)\n",
            "                                   ^^^^^^^^^^^^^^^^^^^^^^^^^^^^^^^^^^^^^^^^^^^^^^^^^^^^^^^^^^^^^^^^^^^^^^^^^^^^^^^^^^^^^^^^^^^^^^^^^^^^^^^^^^^^^^^^^^^^^^^^^^^^^^^\n",
            "  File \"/content/Packaide/python/packaide/packaide.py\", line 247, in pack\n",
            "    elements, polygons = extract_polygons(shapes, tolerance, offset)\n",
            "                         ^^^^^^^^^^^^^^^^^^^^^^^^^^^^^^^^^^^^^^^^^^^\n",
            "  File \"/content/Packaide/python/packaide/packaide.py\", line 155, in extract_polygons\n",
            "    for minihole in list(hole):\n",
            "                    ^^^^^^^^^^\n",
            "TypeError: 'MultiPolygon' object is not iterable\n",
            "\n",
            "----------------------------------------------------------------------\n",
            "Ran 1 test in 2.219s\n",
            "\n",
            "FAILED (errors=1)\n",
            "\n",
            "      Start 12: DatasetPackingTests.test_blank_sheet_11_alluserdesigns_7\n",
            "12/28 Test #12: DatasetPackingTests.test_blank_sheet_11_alluserdesigns_7 ...***Failed    1.65 sec\n",
            "test_blank_sheet_11_alluserdesigns_7 (__main__.DatasetPackingTests.test_blank_sheet_11_alluserdesigns_7) ... ERROR\n",
            "\n",
            "======================================================================\n",
            "ERROR: test_blank_sheet_11_alluserdesigns_7 (__main__.DatasetPackingTests.test_blank_sheet_11_alluserdesigns_7)\n",
            "----------------------------------------------------------------------\n",
            "Traceback (most recent call last):\n",
            "  File \"/usr/local/lib/python3.11/dist-packages/parameterized/parameterized.py\", line 620, in standalone_func\n",
            "    return func(*(a + p.args), **p.kwargs, **kw)\n",
            "           ^^^^^^^^^^^^^^^^^^^^^^^^^^^^^^^^^^^^^\n",
            "  File \"/content/Packaide/test/test_packing.py\", line 157, in test_blank_sheet\n",
            "    solution, placed, not_placed = packaide.pack(sheets, shapes, tolerance = tolerance, offset = offset, partial_solution = False, rotations = 1, persist = False)\n",
            "                                   ^^^^^^^^^^^^^^^^^^^^^^^^^^^^^^^^^^^^^^^^^^^^^^^^^^^^^^^^^^^^^^^^^^^^^^^^^^^^^^^^^^^^^^^^^^^^^^^^^^^^^^^^^^^^^^^^^^^^^^^^^^^^^^^\n",
            "  File \"/content/Packaide/python/packaide/packaide.py\", line 247, in pack\n",
            "    elements, polygons = extract_polygons(shapes, tolerance, offset)\n",
            "                         ^^^^^^^^^^^^^^^^^^^^^^^^^^^^^^^^^^^^^^^^^^^\n",
            "  File \"/content/Packaide/python/packaide/packaide.py\", line 155, in extract_polygons\n",
            "    for minihole in list(hole):\n",
            "                    ^^^^^^^^^^\n",
            "TypeError: 'MultiPolygon' object is not iterable\n",
            "\n",
            "----------------------------------------------------------------------\n",
            "Ran 1 test in 1.267s\n",
            "\n",
            "FAILED (errors=1)\n",
            "\n",
            "      Start 13: DatasetPackingTests.test_blank_sheet_12_alluserdesigns_8\n",
            "13/28 Test #13: DatasetPackingTests.test_blank_sheet_12_alluserdesigns_8 ...***Failed    2.22 sec\n",
            "test_blank_sheet_12_alluserdesigns_8 (__main__.DatasetPackingTests.test_blank_sheet_12_alluserdesigns_8) ... ERROR\n",
            "\n",
            "======================================================================\n",
            "ERROR: test_blank_sheet_12_alluserdesigns_8 (__main__.DatasetPackingTests.test_blank_sheet_12_alluserdesigns_8)\n",
            "----------------------------------------------------------------------\n",
            "Traceback (most recent call last):\n",
            "  File \"/usr/local/lib/python3.11/dist-packages/parameterized/parameterized.py\", line 620, in standalone_func\n",
            "    return func(*(a + p.args), **p.kwargs, **kw)\n",
            "           ^^^^^^^^^^^^^^^^^^^^^^^^^^^^^^^^^^^^^\n",
            "  File \"/content/Packaide/test/test_packing.py\", line 157, in test_blank_sheet\n",
            "    solution, placed, not_placed = packaide.pack(sheets, shapes, tolerance = tolerance, offset = offset, partial_solution = False, rotations = 1, persist = False)\n",
            "                                   ^^^^^^^^^^^^^^^^^^^^^^^^^^^^^^^^^^^^^^^^^^^^^^^^^^^^^^^^^^^^^^^^^^^^^^^^^^^^^^^^^^^^^^^^^^^^^^^^^^^^^^^^^^^^^^^^^^^^^^^^^^^^^^^\n",
            "  File \"/content/Packaide/python/packaide/packaide.py\", line 247, in pack\n",
            "    elements, polygons = extract_polygons(shapes, tolerance, offset)\n",
            "                         ^^^^^^^^^^^^^^^^^^^^^^^^^^^^^^^^^^^^^^^^^^^\n",
            "  File \"/content/Packaide/python/packaide/packaide.py\", line 155, in extract_polygons\n",
            "    for minihole in list(hole):\n",
            "                    ^^^^^^^^^^\n",
            "TypeError: 'MultiPolygon' object is not iterable\n",
            "\n",
            "----------------------------------------------------------------------\n",
            "Ran 1 test in 1.737s\n",
            "\n",
            "FAILED (errors=1)\n",
            "\n",
            "      Start 14: DatasetPackingTests.test_blank_sheet_13_alluserdesigns_9\n",
            "14/28 Test #14: DatasetPackingTests.test_blank_sheet_13_alluserdesigns_9 ...***Failed    1.50 sec\n",
            "test_blank_sheet_13_alluserdesigns_9 (__main__.DatasetPackingTests.test_blank_sheet_13_alluserdesigns_9) ... ERROR\n",
            "\n",
            "======================================================================\n",
            "ERROR: test_blank_sheet_13_alluserdesigns_9 (__main__.DatasetPackingTests.test_blank_sheet_13_alluserdesigns_9)\n",
            "----------------------------------------------------------------------\n",
            "Traceback (most recent call last):\n",
            "  File \"/usr/local/lib/python3.11/dist-packages/parameterized/parameterized.py\", line 620, in standalone_func\n",
            "    return func(*(a + p.args), **p.kwargs, **kw)\n",
            "           ^^^^^^^^^^^^^^^^^^^^^^^^^^^^^^^^^^^^^\n",
            "  File \"/content/Packaide/test/test_packing.py\", line 157, in test_blank_sheet\n",
            "    solution, placed, not_placed = packaide.pack(sheets, shapes, tolerance = tolerance, offset = offset, partial_solution = False, rotations = 1, persist = False)\n",
            "                                   ^^^^^^^^^^^^^^^^^^^^^^^^^^^^^^^^^^^^^^^^^^^^^^^^^^^^^^^^^^^^^^^^^^^^^^^^^^^^^^^^^^^^^^^^^^^^^^^^^^^^^^^^^^^^^^^^^^^^^^^^^^^^^^^\n",
            "  File \"/content/Packaide/python/packaide/packaide.py\", line 247, in pack\n",
            "    elements, polygons = extract_polygons(shapes, tolerance, offset)\n",
            "                         ^^^^^^^^^^^^^^^^^^^^^^^^^^^^^^^^^^^^^^^^^^^\n",
            "  File \"/content/Packaide/python/packaide/packaide.py\", line 155, in extract_polygons\n",
            "    for minihole in list(hole):\n",
            "                    ^^^^^^^^^^\n",
            "TypeError: 'MultiPolygon' object is not iterable\n",
            "\n",
            "----------------------------------------------------------------------\n",
            "Ran 1 test in 1.096s\n",
            "\n",
            "FAILED (errors=1)\n",
            "\n",
            "      Start 15: SimplePackingTests.test_multisheet\n",
            "15/28 Test #15: SimplePackingTests.test_multisheet .........................   Passed    0.56 sec\n",
            "      Start 16: SimplePackingTests.test_one_shape_one_hole\n",
            "16/28 Test #16: SimplePackingTests.test_one_shape_one_hole .................   Passed    0.37 sec\n",
            "      Start 17: SimplePackingTests.test_part_in_part\n",
            "17/28 Test #17: SimplePackingTests.test_part_in_part .......................   Passed    0.45 sec\n",
            "      Start 18: SimplePackingTests.test_part_with_hole\n",
            "18/28 Test #18: SimplePackingTests.test_part_with_hole .....................   Passed    0.41 sec\n",
            "      Start 19: SimplePackingTests.test_single_shape\n",
            "19/28 Test #19: SimplePackingTests.test_single_shape .......................   Passed    0.36 sec\n",
            "      Start 20: SimplePackingTests.test_two_shapes\n",
            "20/28 Test #20: SimplePackingTests.test_two_shapes .........................   Passed    0.45 sec\n",
            "      Start 21: SimplePackingTests.test_two_shapes_two_holes\n",
            "21/28 Test #21: SimplePackingTests.test_two_shapes_two_holes ...............   Passed    0.42 sec\n",
            "      Start 22: ValidatorTest.test_invalid_multisheet\n",
            "22/28 Test #22: ValidatorTest.test_invalid_multisheet ......................   Passed    0.39 sec\n",
            "      Start 23: ValidatorTest.test_off_sheet\n",
            "23/28 Test #23: ValidatorTest.test_off_sheet ...............................   Passed    0.37 sec\n",
            "      Start 24: ValidatorTest.test_overlapped_hole\n",
            "24/28 Test #24: ValidatorTest.test_overlapped_hole .........................   Passed    0.38 sec\n",
            "      Start 25: ValidatorTest.test_overlapped_parts\n",
            "25/28 Test #25: ValidatorTest.test_overlapped_parts ........................   Passed    0.50 sec\n",
            "      Start 26: ValidatorTest.test_part_in_part\n",
            "26/28 Test #26: ValidatorTest.test_part_in_part ............................   Passed    0.63 sec\n",
            "      Start 27: ValidatorTest.test_valid_multisheet\n",
            "27/28 Test #27: ValidatorTest.test_valid_multisheet ........................   Passed    0.61 sec\n",
            "      Start 28: ValidatorTest.test_valid_solution\n",
            "28/28 Test #28: ValidatorTest.test_valid_solution ..........................   Passed    0.55 sec\n",
            "\n",
            "64% tests passed\u001b[0;0m, \u001b[0;31m10 tests failed\u001b[0;0m out of 28\n",
            "\n",
            "Total Test time (real) =  37.21 sec\n",
            "\n",
            "The following tests FAILED:\n",
            "\t\u001b[0;31m  5 - DatasetPackingTests.test_blank_sheet_04_alluserdesigns_0 (Failed)\u001b[0;0m\n",
            "\t\u001b[0;31m  6 - DatasetPackingTests.test_blank_sheet_05_alluserdesigns_1 (Failed)\u001b[0;0m\n",
            "\t\u001b[0;31m  7 - DatasetPackingTests.test_blank_sheet_06_alluserdesigns_2 (Failed)\u001b[0;0m\n",
            "\t\u001b[0;31m  8 - DatasetPackingTests.test_blank_sheet_07_alluserdesigns_3 (Failed)\u001b[0;0m\n",
            "\t\u001b[0;31m  9 - DatasetPackingTests.test_blank_sheet_08_alluserdesigns_4 (Failed)\u001b[0;0m\n",
            "\t\u001b[0;31m 10 - DatasetPackingTests.test_blank_sheet_09_alluserdesigns_5 (Failed)\u001b[0;0m\n",
            "\t\u001b[0;31m 11 - DatasetPackingTests.test_blank_sheet_10_alluserdesigns_6 (Failed)\u001b[0;0m\n",
            "\t\u001b[0;31m 12 - DatasetPackingTests.test_blank_sheet_11_alluserdesigns_7 (Failed)\u001b[0;0m\n",
            "\t\u001b[0;31m 13 - DatasetPackingTests.test_blank_sheet_12_alluserdesigns_8 (Failed)\u001b[0;0m\n",
            "\t\u001b[0;31m 14 - DatasetPackingTests.test_blank_sheet_13_alluserdesigns_9 (Failed)\u001b[0;0m\n",
            "Errors while running CTest\n",
            "make[3]: *** [test/CMakeFiles/check.dir/build.make:70: test/CMakeFiles/check] Error 8\n",
            "make[2]: *** [CMakeFiles/Makefile2:209: test/CMakeFiles/check.dir/all] Error 2\n",
            "make[1]: *** [CMakeFiles/Makefile2:216: test/CMakeFiles/check.dir/rule] Error 2\n",
            "make: *** [Makefile:192: check] Error 2\n",
            "[100%] Built target PackaideBindings\n",
            "\u001b[36mInstall the project...\u001b[0m\n",
            "-- Install configuration: \"Release\"\n",
            "-- Installing: /usr/local/lib/python3.11/dist-packages/PackaideBindings.so\n",
            "/usr/local/lib/python3.11/dist-packages/setuptools/_distutils/cmd.py:66: SetuptoolsDeprecationWarning: setup.py install is deprecated.\n",
            "!!\n",
            "\n",
            "        ********************************************************************************\n",
            "        Please avoid running ``setup.py`` directly.\n",
            "        Instead, use pypa/build, pypa/installer or other\n",
            "        standards-based tools.\n",
            "\n",
            "        See https://blog.ganssle.io/articles/2021/10/setup-py-deprecated.html for details.\n",
            "        ********************************************************************************\n",
            "\n",
            "!!\n",
            "  self.initialize_options()\n",
            "/usr/local/lib/python3.11/dist-packages/setuptools/_distutils/cmd.py:66: EasyInstallDeprecationWarning: easy_install command is deprecated.\n",
            "!!\n",
            "\n",
            "        ********************************************************************************\n",
            "        Please avoid running ``setup.py`` and ``easy_install``.\n",
            "        Instead, use pypa/build, pypa/installer or other\n",
            "        standards-based tools.\n",
            "\n",
            "        See https://github.com/pypa/setuptools/issues/917 for details.\n",
            "        ********************************************************************************\n",
            "\n",
            "!!\n",
            "  self.initialize_options()\n",
            "zip_safe flag not set; analyzing archive contents...\n",
            "/content/Packaide/python\n",
            "\u001b[33mDEPRECATION: Loading egg at /usr/local/lib/python3.11/dist-packages/Packaide-1.0-py3.11.egg is deprecated. pip 24.3 will enforce this behaviour change. A possible replacement is to use pip for package installation. Discussion can be found at https://github.com/pypa/pip/issues/12330\u001b[0m\u001b[33m\n",
            "\u001b[0mProcessing /content/Packaide/python\n",
            "  Preparing metadata (setup.py) ... \u001b[?25l\u001b[?25hdone\n",
            "Building wheels for collected packages: Packaide\n",
            "  Building wheel for Packaide (setup.py) ... \u001b[?25l\u001b[?25hdone\n",
            "  Created wheel for Packaide: filename=Packaide-1.0-py3-none-any.whl size=5881 sha256=e5b8dc30dcc17f27bec1972e7f4b204854463b525ae1ee40b9664b67f3e803a5\n",
            "  Stored in directory: /tmp/pip-ephem-wheel-cache-bp0ku2zv/wheels/06/5d/8e/f02f11d6653f2a4c02869f58775b923a5db8e8bf4e559cba47\n",
            "Successfully built Packaide\n",
            "Installing collected packages: Packaide\n",
            "  Attempting uninstall: Packaide\n",
            "    Found existing installation: Packaide 1.0\n",
            "    Uninstalling Packaide-1.0:\n",
            "      Successfully uninstalled Packaide-1.0\n",
            "Successfully installed Packaide-1.0\n"
          ]
        }
      ]
    },
    {
      "cell_type": "markdown",
      "source": [
        "##Test packaide Setup"
      ],
      "metadata": {
        "id": "cdTOW_UltDsp"
      }
    },
    {
      "cell_type": "code",
      "source": [
        "import packaide\n",
        "print(\"Packaide imported successfully!\")"
      ],
      "metadata": {
        "colab": {
          "base_uri": "https://localhost:8080/"
        },
        "id": "uuTd4qfgtGma",
        "outputId": "27d5be95-e9f9-4144-b14c-f1f42e37e9dd"
      },
      "execution_count": 7,
      "outputs": [
        {
          "output_type": "stream",
          "name": "stdout",
          "text": [
            "Packaide imported successfully!\n"
          ]
        }
      ]
    },
    {
      "cell_type": "markdown",
      "source": [
        "###We you could test if its working fine using this example usage from packaide readme documentation"
      ],
      "metadata": {
        "id": "M3FOA5QHtR5m"
      }
    },
    {
      "cell_type": "code",
      "source": [
        "# Shapes are provided in SVG format\n",
        "shapes = \"\"\"\n",
        "<svg viewBox=\"0 0 432.13 593.04\">\n",
        "  <rect width=\"100\" height=\"50\" />\n",
        "  <rect width=\"50\" height=\"100\" />\n",
        "  <ellipse rx=\"20\" ry=\"20\" />\n",
        "</svg>\n",
        "\"\"\"\n",
        "\n",
        "# The target sheet / material is also represented as an SVG\n",
        "# document. Shapes given on the sheet are interpreted as\n",
        "# holes that must be avoided when placing new parts. In this\n",
        "# case, a square in the upper-left-hand corner.\n",
        "sheet = \"\"\"\n",
        "<svg width=\"300\" height=\"300\" viewBox=\"0 0 300 300\">\n",
        "  <rect x=\"0\" y=\"0\" width=\"100\" height=\"100\" />\n",
        "</svg>\n",
        "\"\"\"\n",
        "\n",
        "# Attempts to pack as many of the parts as possible.\n",
        "result, placed, fails = packaide.pack(\n",
        "  [sheet],                  # A list of sheets (SVG documents)\n",
        "  shapes,                   # An SVG document containing the parts\n",
        "  tolerance = 2.5,          # Discretization tolerance\n",
        "  offset = 5,               # The offset distance around each shape (dilation)\n",
        "  partial_solution = True,  # Whether to return a partial solution\n",
        "  rotations = 1,            # The number of rotations of parts to try\n",
        "  persist = True            # Cache results to speed up next run\n",
        ")\n",
        "\n",
        "# If partial_solution was False, then either every part is placed or none\n",
        "# are. Otherwise, as many as possible are placed. placed and fails denote\n",
        "# the number of parts that could be and could not be placed respectively\n",
        "print(\"{} parts were placed. {} parts could not fit on the sheets\".format(placed, fails))\n",
        "\n",
        "# The results are given by a list of pairs (i, out), where\n",
        "# i is the index of the sheet on which shapes were packed, and\n",
        "# out is an SVG representation of the parts that are to be\n",
        "# placed on that sheet.\n",
        "for i, out in result:\n",
        "  with open('result_sheet_{}.svg'.format(i), 'w') as f_out:\n",
        "    f_out.write(out)"
      ],
      "metadata": {
        "colab": {
          "base_uri": "https://localhost:8080/"
        },
        "id": "LO3yTtnctIJr",
        "outputId": "ab51b4c9-14fa-499e-faa2-48e1d2361700"
      },
      "execution_count": 9,
      "outputs": [
        {
          "output_type": "stream",
          "name": "stdout",
          "text": [
            "3 parts were placed. 0 parts could not fit on the sheets\n"
          ]
        }
      ]
    },
    {
      "cell_type": "markdown",
      "source": [],
      "metadata": {
        "id": "Oi9HocvgiRst"
      }
    },
    {
      "cell_type": "markdown",
      "source": [
        "# Step 2: Unfolding\n",
        "\n",
        "> The next step is, given an stl file of a 3d convex shape, unfold it into all the valid unique nets and ready it for computation in the next part of the pipeline."
      ],
      "metadata": {
        "id": "LXFxU6qu8FLf"
      }
    },
    {
      "cell_type": "markdown",
      "source": [
        "### this one does pretty good job for a cube"
      ],
      "metadata": {
        "id": "fHH4BGQVskni"
      }
    },
    {
      "cell_type": "code",
      "source": [
        "#%% [code]\n",
        "import numpy as np\n",
        "import matplotlib.pyplot as plt\n",
        "import networkx as nx\n",
        "from shapely.geometry import Polygon\n",
        "import itertools\n",
        "\n",
        "# --- Helper functions for 2D affine transformations ---\n",
        "def rotation_matrix(theta):\n",
        "    return np.array([[np.cos(theta), -np.sin(theta)],\n",
        "                     [np.sin(theta),  np.cos(theta)]])\n",
        "\n",
        "def to_homogeneous(p):\n",
        "    return np.array([p[0], p[1], 1.0])\n",
        "\n",
        "def transform_point(T, p):\n",
        "    return (T @ to_homogeneous(p))[:2]\n",
        "\n",
        "# Canonical unit square: (lower-left, lower-right, upper-right, upper-left)\n",
        "square = np.array([[0,0], [1,0], [1,1], [0,1]])\n",
        "\n",
        "# For the canonical square, let's define an anchor point and a direction vector for each edge.\n",
        "# Conventions:\n",
        "edge_params = {\n",
        "    'bottom': (np.array([0,0]), np.array([1,0])),\n",
        "    'right':  (np.array([1,0]), np.array([0,1])),\n",
        "    'top':    (np.array([0,1]), np.array([1,0])),\n",
        "    'left':   (np.array([0,0]), np.array([0,1]))\n",
        "}\n",
        "\n",
        "def attach_square(base_T, base_edge, new_edge):\n",
        "    \"\"\"\n",
        "    Given a base face (with transform base_T) and an attachment specified\n",
        "    by aligning the base_edge of the base face with the new_edge of the new face,\n",
        "    compute the new face's transform. We assume a rotation of ±90° so that the two squares lie flat.\n",
        "    \"\"\"\n",
        "    # Get the anchor and direction for the base edge in canonical coordinates.\n",
        "    p_base_c, d_base_c = edge_params[base_edge]\n",
        "    # Transform the anchor and direction into world coordinates.\n",
        "    p_base = transform_point(base_T, p_base_c)\n",
        "    R_base = base_T[:2, :2]\n",
        "    d_base = R_base @ d_base_c\n",
        "    d_base = d_base / np.linalg.norm(d_base)\n",
        "\n",
        "    # For the new face, get its canonical anchor and direction.\n",
        "    p_new_c, d_new_c = edge_params[new_edge]\n",
        "    d_new = d_new_c / np.linalg.norm(d_new_c)\n",
        "\n",
        "    # Compute the angle required to rotate d_new to align with d_base.\n",
        "    angle = np.arctan2(d_base[1], d_base[0]) - np.arctan2(d_new[1], d_new[0])\n",
        "    R_new = rotation_matrix(angle)\n",
        "\n",
        "    # Compute translation so that the new face's attaching edge aligns with the base edge.\n",
        "    t_new = p_base - (R_new @ p_new_c)\n",
        "\n",
        "    T_new = np.eye(3)\n",
        "    T_new[:2, :2] = R_new\n",
        "    T_new[:2, 2] = t_new\n",
        "    return T_new\n",
        "\n",
        "# --- Define the cube's face connectivity and hinge rules ---\n",
        "# Labeling faces: 0: front, 1: right, 2: back, 3: left, 4: top, 5: bottom.\n",
        "# For each directed adjacent pair (i,j), we also specify (edge_i, edge_j).\n",
        "hinge = {\n",
        "    (0,1): ('right', 'left'),\n",
        "    (0,3): ('left', 'right'),\n",
        "    (0,4): ('top', 'bottom'),\n",
        "    (0,5): ('bottom', 'top'),\n",
        "    (1,2): ('right', 'left'),\n",
        "    (1,4): ('top', 'right'),\n",
        "    (1,5): ('bottom', 'right'),\n",
        "    (3,2): ('left', 'right'),\n",
        "    (3,4): ('top', 'left'),\n",
        "    (3,5): ('bottom', 'left'),\n",
        "    (2,4): ('top', 'top'),\n",
        "    (2,5): ('bottom', 'bottom')\n",
        "}\n",
        "# Add symmetric entries.\n",
        "hinge.update({(j,i):(hinge[(i,j)][1], hinge[(i,j)][0]) for (i,j) in list(hinge.keys())})\n",
        "\n",
        "# Define the undirected connectivity of the cube's faces.\n",
        "faces = [0,1,2,3,4,5]\n",
        "edges = [(0,1), (0,3), (0,4), (0,5),\n",
        "         (1,2), (1,4), (1,5),\n",
        "         (2,3), (2,4), (2,5),\n",
        "         (3,4), (3,5)]\n",
        "G = nx.Graph()\n",
        "G.add_nodes_from(faces)\n",
        "G.add_edges_from(edges)\n",
        "\n",
        "# --- Brute-force enumeration of spanning trees ---\n",
        "def all_spanning_trees(G):\n",
        "    n = G.number_of_nodes()\n",
        "    trees = []\n",
        "    for subset in itertools.combinations(G.edges(), n-1):\n",
        "        H = nx.Graph()\n",
        "        H.add_nodes_from(G.nodes())\n",
        "        H.add_edges_from(subset)\n",
        "        if nx.is_tree(H):\n",
        "            trees.append(H)\n",
        "    return trees\n",
        "\n",
        "all_trees = all_spanning_trees(G)\n",
        "print(\"Total spanning trees found:\", len(all_trees))\n",
        "\n",
        "# --- Compute a net given a spanning tree ---\n",
        "def compute_net(tree):\n",
        "    transforms = {0: np.eye(3)}  # Fix face 0 with identity transform.\n",
        "    stack = [0]\n",
        "    parent = {0: None}\n",
        "    while stack:\n",
        "        curr = stack.pop()\n",
        "        for nbr in tree.neighbors(curr):\n",
        "            if nbr not in transforms:\n",
        "                if (curr, nbr) in hinge:\n",
        "                    base_edge, new_edge = hinge[(curr, nbr)]\n",
        "                else:\n",
        "                    continue\n",
        "                transforms[nbr] = attach_square(transforms[curr], base_edge, new_edge)\n",
        "                parent[nbr] = curr\n",
        "                stack.append(nbr)\n",
        "    return transforms\n",
        "\n",
        "# Compute 2D polygons for each face given its transform.\n",
        "def net_polygons(transforms):\n",
        "    polys = {}\n",
        "    for f, T in transforms.items():\n",
        "        pts = np.array([transform_point(T, p) for p in square])\n",
        "        polys[f] = Polygon(pts)\n",
        "    return polys\n",
        "\n",
        "# Normalize net layout: translate so that minimum x,y is 0.\n",
        "def normalize_net(polys):\n",
        "    all_coords = np.concatenate([np.array(poly.exterior.coords) for poly in polys.values()])\n",
        "    min_xy = all_coords.min(axis=0)\n",
        "    norm_polys = {}\n",
        "    for f, poly in polys.items():\n",
        "        norm_coords = [(x - min_xy[0], y - min_xy[1]) for x, y in poly.exterior.coords]\n",
        "        norm_polys[f] = Polygon(norm_coords)\n",
        "    return norm_polys\n",
        "\n",
        "# Check for overlaps (ignoring touching boundaries).\n",
        "def net_overlaps(norm_polys):\n",
        "    poly_list = list(norm_polys.values())\n",
        "    for poly1, poly2 in itertools.combinations(poly_list, 2):\n",
        "        if poly1.intersects(poly2):\n",
        "            inter = poly1.intersection(poly2)\n",
        "            if inter.area > 1e-6:\n",
        "                return True\n",
        "    return False\n",
        "\n",
        "# Collect non-overlapping nets.\n",
        "nets = []\n",
        "net_transforms = []  # For potential further use.\n",
        "\n",
        "for tree in all_trees:\n",
        "    transforms = compute_net(tree)\n",
        "    polys = net_polygons(transforms)\n",
        "    norm_polys = normalize_net(polys)\n",
        "    if not net_overlaps(norm_polys):\n",
        "        nets.append(norm_polys)\n",
        "        net_transforms.append(transforms)\n",
        "\n",
        "print(\"Non-overlapping nets found:\", len(nets))\n",
        "\n",
        "# Remove duplicates up to congruence using a heuristic key based on coordinates.\n",
        "def net_key(norm_polys):\n",
        "    key_parts = []\n",
        "    for f in sorted(norm_polys.keys()):\n",
        "        coords = np.array(norm_polys[f].exterior.coords)\n",
        "        key_parts.append(tuple(np.round(coords, 3).flatten()))\n",
        "    return tuple(key_parts)\n",
        "\n",
        "unique_keys = {}\n",
        "unique_nets = []\n",
        "for norm_polys in nets:\n",
        "    key = net_key(norm_polys)\n",
        "    if key not in unique_keys:\n",
        "        unique_keys[key] = True\n",
        "        unique_nets.append(norm_polys)\n",
        "\n",
        "print(\"Distinct nets (up to congruence):\", len(unique_nets))\n",
        "\n",
        "# Plot the distinct nets.\n",
        "n_plots = len(unique_nets)\n",
        "cols = 3\n",
        "rows = int(np.ceil(n_plots / cols))\n",
        "fig, axes = plt.subplots(rows, cols, figsize=(4 * cols, 4 * rows))\n",
        "axes = axes.flatten()\n",
        "\n",
        "for ax, net_poly in zip(axes, unique_nets):\n",
        "    for f, poly in net_poly.items():\n",
        "        x, y = poly.exterior.xy\n",
        "        ax.fill(x, y, alpha=0.5, edgecolor='k')\n",
        "        ax.text(np.mean(x), np.mean(y), str(f), ha='center', va='center', fontsize=14)\n",
        "    ax.set_aspect('equal')\n",
        "    ax.axis('off')\n",
        "\n",
        "for ax in axes[len(unique_nets):]:\n",
        "    ax.axis('off')\n",
        "\n",
        "plt.suptitle(\"Distinct Cube Nets (Computed from Spanning Trees)\", fontsize=16)\n",
        "plt.show()\n",
        "#%% [code]\n"
      ],
      "metadata": {
        "colab": {
          "base_uri": "https://localhost:8080/",
          "height": 0
        },
        "collapsed": true,
        "id": "DkGs-9MFpyKx",
        "outputId": "c8474eec-613c-44c1-ea44-fd6e378a3afa"
      },
      "execution_count": 37,
      "outputs": [
        {
          "output_type": "stream",
          "name": "stdout",
          "text": [
            "Total spanning trees found: 384\n",
            "Non-overlapping nets found: 30\n",
            "Distinct nets (up to congruence): 30\n"
          ]
        },
        {
          "output_type": "display_data",
          "data": {
            "text/plain": [
              "<Figure size 1200x4000 with 30 Axes>"
            ],
            "image/png": "[encoded data removed]"
          },
          "metadata": {}
        }
      ]
    },
    {
      "cell_type": "markdown",
      "source": [
        "### Unfolding script (input: stl image) and (expected output: display valid connected triangles as faces / candidate nets)\n",
        "> This script isn't complete in a way that its not giving us what we expected"
      ],
      "metadata": {
        "id": "SBNiD5AesrBS"
      }
    },
    {
      "cell_type": "code",
      "source": [
        "#%% [code]\n",
        "import numpy as np\n",
        "import matplotlib.pyplot as plt\n",
        "import networkx as nx\n",
        "from shapely.geometry import Polygon\n",
        "import itertools\n",
        "import igl\n",
        "import ipywidgets as widgets\n",
        "from IPython.display import display, HTML\n",
        "import tempfile, os\n",
        "from scipy.spatial import ConvexHull\n",
        "import drawsvg as draw\n",
        "\n",
        "# Part 1. Mesh Preprocessing and Face Grouping (for convex meshes from STL)\n",
        "def merge_vertices(V, decimals=5):\n",
        "    \"\"\"Merge duplicate vertices using rounding.\"\"\"\n",
        "    V_rounded = np.round(V, decimals=decimals)\n",
        "    unique_V, inv = np.unique(V_rounded, axis=0, return_inverse=True)\n",
        "    return unique_V, inv\n",
        "\n",
        "def face_basis(face):\n",
        "    \"\"\"\n",
        "    Given a face (at least 3 noncollinear vertices), return (p0, x_axis, y_axis, n)\n",
        "    where p0 is the first vertex, x_axis is along (p1-p0), y_axis is perpendicular in the plane,\n",
        "    and n is the unit normal.\n",
        "    \"\"\"\n",
        "    p0, p1, p2 = face[:3]\n",
        "    v1 = p1 - p0\n",
        "    v2 = p2 - p0\n",
        "    x_axis = v1 / np.linalg.norm(v1)\n",
        "    n = np.cross(v1, v2)\n",
        "    n = n / np.linalg.norm(n)\n",
        "    y_axis = np.cross(n, x_axis)\n",
        "    return p0, x_axis, y_axis, n\n",
        "\n",
        "def base_transform(face):\n",
        "    \"\"\"\n",
        "    Return a transformation T: R^3 -> R^2 for a given face.\n",
        "    Uses the face basis computed from the first three vertices.\n",
        "    \"\"\"\n",
        "    p0, x_axis, y_axis, _ = face_basis(face)\n",
        "    def T(p):\n",
        "        v = p - p0\n",
        "        return np.array([np.dot(v, x_axis), np.dot(v, y_axis)])\n",
        "    return T\n",
        "\n",
        "def group_triangles(V, F, normal_thresh=0.99):\n",
        "    \"\"\"\n",
        "    Group adjacent triangles that are nearly coplanar into a full face.\n",
        "    For each connected component (of triangles sharing an edge with similar normals),\n",
        "    compute the convex hull (in the plane) to yield a polygon.\n",
        "    \"\"\"\n",
        "    m = F.shape[0]\n",
        "    normals = np.zeros((m, 3))\n",
        "    for i in range(m):\n",
        "        # Ensure F[i] is an array of indices.\n",
        "        face_indices = F[i] if hasattr(F[i], '__iter__') else np.array([F[i]])\n",
        "        if face_indices.shape[0] < 3:\n",
        "            continue  # Skip invalid faces.\n",
        "        face = V[face_indices]\n",
        "        _, _, _, n = face_basis(face)\n",
        "        normals[i] = n\n",
        "    G_tri = nx.Graph()\n",
        "    G_tri.add_nodes_from(range(m))\n",
        "    for i in range(m):\n",
        "        face_indices_i = F[i] if hasattr(F[i], '__iter__') else np.array([F[i]])\n",
        "        set_i = set(face_indices_i)\n",
        "        for j in range(i+1, m):\n",
        "            face_indices_j = F[j] if hasattr(F[j], '__iter__') else np.array([F[j]])\n",
        "            set_j = set(face_indices_j)\n",
        "            if len(set_i.intersection(set_j)) == 2:\n",
        "                # Use absolute value to allow grouping even if normals are reversed.\n",
        "                if abs(np.dot(normals[i], normals[j])) >= normal_thresh:\n",
        "                    G_tri.add_edge(i, j)\n",
        "    components = list(nx.connected_components(G_tri))\n",
        "    grouped_faces = []\n",
        "    for comp in components:\n",
        "        verts_idx = set()\n",
        "        for i in comp:\n",
        "            face_indices_i = F[i] if hasattr(F[i], '__iter__') else np.array([F[i]])\n",
        "            verts_idx.update(face_indices_i)\n",
        "        pts = np.array([V[idx] for idx in verts_idx])\n",
        "        if pts.shape[0] < 3:\n",
        "            continue\n",
        "        comp_index = list(comp)[0]\n",
        "        face_indices = F[comp_index] if hasattr(F[comp_index], '__iter__') else np.array([F[comp_index]])\n",
        "        face = V[face_indices]\n",
        "        if face.shape[0] < 3:\n",
        "            continue\n",
        "        T = base_transform(face)\n",
        "        pts_2d = np.array([T(p) for p in pts])\n",
        "        if pts_2d.shape[0] < 3:\n",
        "            continue\n",
        "        try:\n",
        "            hull = ConvexHull(pts_2d)\n",
        "            hull_pts_2d = pts_2d[hull.vertices]\n",
        "            p0, x_axis, y_axis, _ = face_basis(face)\n",
        "            hull_pts_3d = np.array([p0 + pt[0]*x_axis + pt[1]*y_axis for pt in hull_pts_2d])\n",
        "            grouped_faces.append(hull_pts_3d)\n",
        "        except Exception as e:\n",
        "            print(f\"Error during ConvexHull calculation: {e}\")\n",
        "            continue\n",
        "    return grouped_faces\n",
        "\n",
        "\n",
        "# Part 2. Unfolding Helpers (DFS-based) for 2D Projection\n",
        "def rotation_matrix_3d(u, theta):\n",
        "    u = u / np.linalg.norm(u)\n",
        "    ux, uy, uz = u\n",
        "    c = np.cos(theta)\n",
        "    s = np.sin(theta)\n",
        "    return np.array([\n",
        "        [c + ux**2*(1-c),    ux*uy*(1-c) - uz*s, ux*uz*(1-c) + uy*s],\n",
        "        [uy*ux*(1-c) + uz*s,  c + uy**2*(1-c),    uy*uz*(1-c) - ux*s],\n",
        "        [uz*ux*(1-c) - uy*s,  uz*uy*(1-c) + ux*s, c + uz**2*(1-c)]\n",
        "    ])\n",
        "\n",
        "def compute_child_transform(parent_face, child_face, common_edge, T_parent):\n",
        "    \"\"\"\n",
        "    Given parent_face and child_face (represented by their first 3 vertices),\n",
        "    and a common_edge (tuple of two 3D points), compute a transformation function T_child\n",
        "    that rotates the child face about the common edge to flatten it into the parent's plane,\n",
        "    then composes with T_parent.\n",
        "    \"\"\"\n",
        "    _, _, _, n_parent = face_basis(parent_face)\n",
        "    _, _, _, n_child  = face_basis(child_face)\n",
        "    e = common_edge[1] - common_edge[0]\n",
        "    e = e / np.linalg.norm(e)\n",
        "    dot_val = np.clip(np.dot(n_parent, n_child), -1, 1)\n",
        "    angle = np.arccos(dot_val)\n",
        "    if np.dot(np.cross(e, n_child), n_parent) < 0:\n",
        "        angle = -angle\n",
        "    R = rotation_matrix_3d(e, angle)\n",
        "    p_ref = common_edge[0]\n",
        "    def T_child(p):\n",
        "        p_rot = R @ (p - p_ref) + p_ref\n",
        "        return T_parent(p_rot)\n",
        "    return T_child\n",
        "\n",
        "# Part 3. Connectivity Among Grouped Faces and Deduplication\n",
        "def build_grouped_connectivity(grouped_faces, tol=1e-3):\n",
        "    n = len(grouped_faces)\n",
        "    edges_list = []\n",
        "    for pts in grouped_faces:\n",
        "        m = len(pts)\n",
        "        face_edges = []\n",
        "        for i in range(m):\n",
        "            a = pts[i]\n",
        "            b = pts[(i+1)%m]\n",
        "            a_r = tuple(np.round(a, 3))\n",
        "            b_r = tuple(np.round(b, 3))\n",
        "            edge = tuple(sorted([a_r, b_r]))\n",
        "            face_edges.append(edge)\n",
        "        edges_list.append(set(face_edges))\n",
        "    G = nx.Graph()\n",
        "    G.add_nodes_from(range(n))\n",
        "    for i in range(n):\n",
        "        for j in range(i+1, n):\n",
        "            if len(edges_list[i].intersection(edges_list[j])) >= 1:\n",
        "                G.add_edge(i, j)\n",
        "    return G\n",
        "\n",
        "def compute_unfolding_grouped(G, grouped_faces):\n",
        "    n = len(grouped_faces)\n",
        "    T_funcs = {}\n",
        "    T_funcs[0] = base_transform(grouped_faces[0][:3])\n",
        "    parent = {0: None}\n",
        "    stack = [0]\n",
        "    while stack:\n",
        "        curr = stack.pop()\n",
        "        for nbr in G.neighbors(curr):\n",
        "            if nbr not in parent:\n",
        "                poly_curr = grouped_faces[curr]\n",
        "                poly_nbr = grouped_faces[nbr]\n",
        "                def poly_edges(poly):\n",
        "                    edges = []\n",
        "                    for i in range(len(poly)):\n",
        "                        a = poly[i]\n",
        "                        b = poly[(i+1)%len(poly)]\n",
        "                        a_r = tuple(np.round(a, 3))\n",
        "                        b_r = tuple(np.round(b, 3))\n",
        "                        edge = tuple(sorted([a_r, b_r]))\n",
        "                        edges.append(edge)\n",
        "                    return set(edges)\n",
        "                edges_curr = poly_edges(poly_curr)\n",
        "                edges_nbr = poly_edges(poly_nbr)\n",
        "                common = edges_curr.intersection(edges_nbr)\n",
        "                if not common:\n",
        "                    continue\n",
        "                common_edge = common.pop()\n",
        "                p = np.array(common_edge[0])\n",
        "                q = np.array(common_edge[1])\n",
        "                parent[nbr] = curr\n",
        "                T_funcs[nbr] = compute_child_transform(grouped_faces[curr][:3],\n",
        "                                                        grouped_faces[nbr][:3],\n",
        "                                                        (p, q),\n",
        "                                                        T_funcs[curr])\n",
        "                stack.append(nbr)\n",
        "    return T_funcs\n",
        "\n",
        "def project_net(T_funcs, grouped_faces):\n",
        "    net = {}\n",
        "    for i, T in T_funcs.items():\n",
        "        pts_2d = np.array([T(p) for p in grouped_faces[i]])\n",
        "        net[i] = pts_2d\n",
        "    return net\n",
        "\n",
        "def normalize_net(polys):\n",
        "    all_coords = np.concatenate([np.array(poly.exterior.coords) for poly in polys.values()])\n",
        "    min_xy = all_coords.min(axis=0)\n",
        "    norm_polys = {}\n",
        "    for f, poly in polys.items():\n",
        "        norm_coords = [(x - min_xy[0], y - min_xy[1]) for x, y in poly.exterior.coords]\n",
        "        norm_polys[f] = Polygon(norm_coords)\n",
        "    return norm_polys\n",
        "\n",
        "def net_overlaps(norm_polys):\n",
        "    poly_list = list(norm_polys.values())\n",
        "    for poly1, poly2 in itertools.combinations(poly_list, 2):\n",
        "        if poly1.intersects(poly2):\n",
        "            inter = poly1.intersection(poly2)\n",
        "            if inter.area > 1e-6:\n",
        "                return True\n",
        "    return False\n",
        "\n",
        "def net_key(norm_polys):\n",
        "    \"\"\"\n",
        "    Build a canonical key for a net:\n",
        "    For each face, sort its 2D coordinates (rounded to 2 decimals) in lexicographic order,\n",
        "    then sort the list of these face keys, and tuple-ize the result.\n",
        "    \"\"\"\n",
        "    face_keys = []\n",
        "    for f in sorted(norm_polys.keys()):\n",
        "        coords = list(norm_polys[f].exterior.coords)\n",
        "        sorted_coords = sorted([tuple(np.round(c, 2)) for c in coords])\n",
        "        face_keys.append(tuple(sorted_coords))\n",
        "    return tuple(sorted(face_keys))\n",
        "\n",
        "# Part 4. Spanning Trees (for small graphs)\n",
        "def all_spanning_trees(G):\n",
        "    n = G.number_of_nodes()\n",
        "    if n < 2:\n",
        "        print(\"Graph has too few nodes to form a spanning tree.\")\n",
        "        return []\n",
        "    trees = []\n",
        "    for subset in itertools.combinations(G.edges(), n-1):\n",
        "        H = nx.Graph()\n",
        "        H.add_nodes_from(G.nodes())\n",
        "        H.add_edges_from(subset)\n",
        "        if nx.is_tree(H):\n",
        "            trees.append(H)\n",
        "    return trees\n",
        "\n",
        "# Part 5. Helper to Save the Net in \"Rectangular\" Format\n",
        "def save_net_as_rects(polygons, filename=\"unfolding_net_rects.svg\", viewBox=\"0 0 200 200\"):\n",
        "    \"\"\"\n",
        "    Given a list of 2D polygons (each polygon is a list of [x,y] points),\n",
        "    compute the bounding box of each polygon and write an SVG file with a <rect>\n",
        "    element for each face.\n",
        "    \"\"\"\n",
        "    rects = []\n",
        "    for pts in polygons:\n",
        "        pts = np.array(pts)\n",
        "        min_xy = pts.min(axis=0)\n",
        "        max_xy = pts.max(axis=0)\n",
        "        width, height = max_xy - min_xy\n",
        "        rects.append((min_xy[0], min_xy[1], width, height))\n",
        "\n",
        "    svg_lines = [f'<svg viewBox=\"{viewBox}\" xmlns=\"http://www.w3.org/2000/svg\">']\n",
        "    svg_lines.append(\"  <!-- Unfolded Net in Rectangular Format -->\")\n",
        "    for (x, y, w, h) in rects:\n",
        "        svg_lines.append(f'  <rect x=\"{x}\" y=\"{y}\" width=\"{w}\" height=\"{h}\" stroke=\"black\" fill=\"none\"/>')\n",
        "    svg_lines.append('</svg>')\n",
        "    svg_str = \"\\n\".join(svg_lines)\n",
        "    with open(filename, \"w\") as f:\n",
        "        f.write(svg_str)\n",
        "    print(f\"Rectangular net saved as '{filename}'\")\n",
        "    return svg_str\n",
        "\n",
        "# Part 6. File Uploader and Callback\n",
        "uploader = widgets.FileUpload(accept=\".stl,.obj,.svg\", multiple=False)\n",
        "display(HTML(\"<h3>Upload a file (STL, OBJ, or SVG):</h3>\"))\n",
        "display(uploader)\n",
        "\n",
        "def process_uploaded_file(change):\n",
        "    if uploader.value:\n",
        "        for filename, file_info in uploader.value.items():\n",
        "            ext = filename.split('.')[-1].lower()\n",
        "            file_bytes = file_info['content']\n",
        "            display(HTML(f\"<h4>Uploaded file: {filename}</h4>\"))\n",
        "\n",
        "            if ext == 'svg':\n",
        "                svg_str = file_bytes.decode('utf-8')\n",
        "                display(HTML(\"<h4>Displaying uploaded SVG:</h4>\"))\n",
        "                display(HTML(svg_str))\n",
        "                with open(\"uploaded_net.svg\", \"w\") as f:\n",
        "                    f.write(svg_str)\n",
        "                print(\"SVG file saved as 'uploaded_net.svg'.\")\n",
        "\n",
        "            elif ext in ['stl', 'obj']:\n",
        "                temp_filename = f\"temp_input.{ext}\"\n",
        "                with open(temp_filename, \"wb\") as f:\n",
        "                    f.write(file_bytes)\n",
        "                raw_vertices, raw_faces = igl.read_triangle_mesh(temp_filename)\n",
        "                os.remove(temp_filename)\n",
        "                print(f\"Mesh loaded: {len(raw_vertices)} vertices, {len(raw_faces)} faces\")\n",
        "                vertices, faces = merge_vertices(raw_vertices, decimals=5)\n",
        "                print(f\"After merging: {len(vertices)} unique vertices\")\n",
        "                grouped_faces = group_triangles(vertices, faces, normal_thresh=0.99)\n",
        "                print(f\"Grouped into {len(grouped_faces)} faces\")\n",
        "                if len(grouped_faces) == 0:\n",
        "                    print(\"No valid faces were grouped. Check the input mesh and grouping parameters.\")\n",
        "                    return\n",
        "                G_group = build_grouped_connectivity(grouped_faces, tol=1e-3)\n",
        "                print(f\"Connectivity: {G_group.number_of_nodes()} nodes, {G_group.number_of_edges()} edges\")\n",
        "\n",
        "                # For a cube, expect 6 grouped faces.\n",
        "                if G_group.number_of_nodes() == 6:\n",
        "                    trees = all_spanning_trees(G_group)\n",
        "                    title_suffix = \" (All Spanning Trees)\"\n",
        "                else:\n",
        "                    trees = list(itertools.islice(all_spanning_trees(G_group), 50))\n",
        "                    title_suffix = \" (50 Sampled Trees)\"\n",
        "                print(f\"Using {len(trees)} spanning trees\")\n",
        "\n",
        "                distinct_nets = {}\n",
        "                for tree in trees:\n",
        "                    T_funcs = compute_unfolding_grouped(tree, grouped_faces)\n",
        "                    net = project_net(T_funcs, grouped_faces)\n",
        "                    polys = {f: Polygon(net[f]) for f in net}\n",
        "                    norm_polys = normalize_net(polys)\n",
        "                    if net_overlaps(norm_polys):\n",
        "                        continue\n",
        "                    key = net_key(norm_polys)\n",
        "                    distinct_nets[key] = norm_polys\n",
        "                distinct = list(distinct_nets.values())\n",
        "                if len(grouped_faces) == 6:\n",
        "                    print(f\"Cube detected. Found {len(distinct)} distinct nets (expected 11)\")\n",
        "                    if len(distinct) > 11:\n",
        "                        distinct = distinct[:11]\n",
        "                else:\n",
        "                    print(f\"Found {len(distinct)} distinct nets\")\n",
        "\n",
        "                for i, norm_polys in enumerate(distinct):\n",
        "                    net_pts = {f: np.array(norm_polys[f].exterior.coords) for f in norm_polys}\n",
        "                    plot_net(net_pts, title=f\"Net {i+1}{title_suffix}\")\n",
        "\n",
        "                if distinct:\n",
        "                    first_net_polys = [list(norm_polys.exterior.coords) for norm_polys in distinct[0].values()]\n",
        "                    rect_svg = save_net_as_rects(first_net_polys, filename=\"unfolding_net_rects.svg\", viewBox=\"0 0 200 200\")\n",
        "                    display(HTML(\"<h4>Rectangular net format (SVG):</h4>\"))\n",
        "                    display(HTML(rect_svg))\n",
        "            else:\n",
        "                print(\"Unsupported file type. Please upload an STL, OBJ, or SVG file.\")\n",
        "\n",
        "uploader.observe(process_uploaded_file, names='value')\n",
        "#%% [code]\n"
      ],
      "metadata": {
        "colab": {
          "base_uri": "https://localhost:8080/",
          "height": 199,
          "referenced_widgets": [
            "7025470f350c42fb9491845d1bdcb395",
            "b04f2bafc60b462cac962d048824fe30",
            "f98b1798fd084c29a51ce388eb4cdfab"
          ]
        },
        "id": "Mro4lzjUuyJr",
        "outputId": "504ff73a-da48-4caa-9fc1-6fc040faa794"
      },
      "execution_count": 82,
      "outputs": [
        {
          "output_type": "display_data",
          "data": {
            "text/plain": [
              "<IPython.core.display.HTML object>"
            ],
            "text/html": [
              "<h3>Upload a file (STL, OBJ, or SVG):</h3>"
            ]
          },
          "metadata": {}
        },
        {
          "output_type": "display_data",
          "data": {
            "text/plain": [
              "FileUpload(value={}, accept='.stl,.obj,.svg', description='Upload')"
            ],
            "application/vnd.jupyter.widget-view+json": {
              "version_major": 2,
              "version_minor": 0,
              "model_id": "7025470f350c42fb9491845d1bdcb395"
            }
          },
          "metadata": {}
        },
        {
          "output_type": "display_data",
          "data": {
            "text/plain": [
              "<IPython.core.display.HTML object>"
            ],
            "text/html": [
              "<h4>Uploaded file: cube.stl</h4>"
            ]
          },
          "metadata": {}
        },
        {
          "output_type": "stream",
          "name": "stdout",
          "text": [
            "Mesh loaded: 36 vertices, 12 faces\n",
            "After merging: 8 unique vertices\n",
            "Grouped into 0 faces\n",
            "No valid faces were grouped. Check the input mesh and grouping parameters.\n"
          ]
        }
      ]
    },
    {
      "cell_type": "markdown",
      "source": [
        "# Step 3: Space Utilization Computation"
      ],
      "metadata": {
        "id": "J2dLT4QF0aUp"
      }
    },
    {
      "cell_type": "markdown",
      "source": [
        "> Below is a high level script that implements the pipeline. In this script we:\n",
        "\n",
        "- Define several candidate cube nets as SVG strings (you can add more candidates as needed).\n",
        "- Nest each candidate onto a blank sheet using Packaide.\n",
        "Extract the geometry of the placed shapes to compute both the union area (the actual area of the unfolding) and the area of its minimal bounding rectangle (the envelope).\n",
        "- Compute a utilization ratio (shape area divided by bounding box area) as a measure of how “tight” the unfolding is.\n",
        "- Select and save the candidate with the highest utilization.\n",
        "\n",
        "> So far, we deploy or at least the effort is to implement the following Geometric Utilities:\n",
        "\n",
        "- compute_union_polygon extracts and unions all placed polygons from the result.\n",
        "- compute_bounding_box_area computes the area of the minimal rectangle that encloses the union of the shapes.\n",
        "- compute_shape_area computes the total area of the shape.\n",
        "- compute_utilization calculates the ratio of the shape area to its bounding box area.\n",
        "\n",
        "> And achieve the following objectives:\n",
        "\n",
        "- Nesting via Packaide:\n",
        "For each candidate, we call packaide.pack to nest the unfolding on a blank sheet. Packaide returns a result (an SVG with the placed shapes).\n",
        "- Evaluation:\n",
        "For each nesting result, the script computes the utilization ratio. The candidate with the highest ratio is considered the best (i.e., it minimizes wasted space as measured by the bounding box).\n",
        "- Output:\n",
        "The best candidate’s nesting result is printed to the console and saved to an SVG file named optimal_unfolding.svg."
      ],
      "metadata": {
        "id": "Jpf1ewrshThp"
      }
    },
    {
      "cell_type": "markdown",
      "source": [
        "> Below is a hard coded list of all unfolding candidates of a cube."
      ],
      "metadata": {
        "id": "7m91-W6vKFTv"
      }
    },
    {
      "cell_type": "code",
      "source": [
        "# Initial test candidate - The mighty Cube\n",
        "\n",
        "from IPython.display import HTML, display\n",
        "\n",
        "def display_svg(svg_str, width=200):\n",
        "    \"\"\"\n",
        "    Display the SVG string in a container with the specified width.\n",
        "    \"\"\"\n",
        "    html_str = f'<div style=\"width: {width}px;\">{svg_str}</div>'\n",
        "    display(HTML(html_str))\n",
        "\n",
        "candidate1 = \"\"\"\n",
        "<svg viewBox=\"0 0 200 300\" xmlns=\"http://www.w3.org/2000/svg\">\n",
        "  <!-- Candidate 1 -->\n",
        "  <rect x=\"0\" y=\"0\" width=\"50\" height=\"50\" stroke=\"black\" fill=\"none\"/>\n",
        "  <rect x=\"50\" y=\"0\" width=\"50\" height=\"50\" stroke=\"black\" fill=\"none\"/>\n",
        "  <rect x=\"100\" y=\"0\" width=\"50\" height=\"50\" stroke=\"black\" fill=\"none\"/>\n",
        "  <rect x=\"50\" y=\"50\" width=\"50\" height=\"50\" stroke=\"black\" fill=\"none\"/>\n",
        "  <rect x=\"50\" y=\"100\" width=\"50\" height=\"50\" stroke=\"black\" fill=\"none\"/>\n",
        "  <rect x=\"50\" y=\"150\" width=\"50\" height=\"50\" stroke=\"black\" fill=\"none\"/>\n",
        "</svg>\n",
        "\"\"\"\n",
        "\n",
        "candidate2 = \"\"\"\n",
        "<svg viewBox=\"0 0 200 300\" xmlns=\"http://www.w3.org/2000/svg\">\n",
        "  <!-- Candidate 2 -->\n",
        "  <rect x=\"0\" y=\"50\" width=\"50\" height=\"50\" stroke=\"black\" fill=\"none\"/>\n",
        "  <rect x=\"50\" y=\"50\" width=\"50\" height=\"50\" stroke=\"black\" fill=\"none\"/>\n",
        "  <rect x=\"100\" y=\"50\" width=\"50\" height=\"50\" stroke=\"black\" fill=\"none\"/>\n",
        "  <rect x=\"150\" y=\"50\" width=\"50\" height=\"50\" stroke=\"black\" fill=\"none\"/>\n",
        "  <rect x=\"50\" y=\"0\" width=\"50\" height=\"50\" stroke=\"black\" fill=\"none\"/>\n",
        "  <rect x=\"100\" y=\"100\" width=\"50\" height=\"50\" stroke=\"black\" fill=\"none\"/>\n",
        "</svg>\n",
        "\"\"\"\n",
        "\n",
        "candidate3 = \"\"\"\n",
        "<svg viewBox=\"0 0 200 300\" xmlns=\"http://www.w3.org/2000/svg\">\n",
        "  <!-- Candidate 3 -->\n",
        "  <rect x=\"50\" y=\"0\" width=\"50\" height=\"50\" stroke=\"black\" fill=\"none\"/>\n",
        "  <rect x=\"50\" y=\"50\" width=\"50\" height=\"50\" stroke=\"black\" fill=\"none\"/>\n",
        "  <rect x=\"50\" y=\"100\" width=\"50\" height=\"50\" stroke=\"black\" fill=\"none\"/>\n",
        "  <rect x=\"0\" y=\"50\" width=\"50\" height=\"50\" stroke=\"black\" fill=\"none\"/>\n",
        "  <rect x=\"100\" y=\"50\" width=\"50\" height=\"50\" stroke=\"black\" fill=\"none\"/>\n",
        "  <rect x=\"50\" y=\"150\" width=\"50\" height=\"50\" stroke=\"black\" fill=\"none\"/>\n",
        "</svg>\n",
        "\"\"\"\n",
        "\n",
        "candidate4 = \"\"\"\n",
        "<svg viewBox=\"0 0 200 300\" xmlns=\"http://www.w3.org/2000/svg\">\n",
        "  <!-- Candidate 1 -->\n",
        "  <rect x=\"0\" y=\"50\" width=\"50\" height=\"50\" stroke=\"black\" fill=\"none\"/>\n",
        "  <rect x=\"50\" y=\"0\" width=\"50\" height=\"50\" stroke=\"black\" fill=\"none\"/>\n",
        "  <rect x=\"100\" y=\"0\" width=\"50\" height=\"50\" stroke=\"black\" fill=\"none\"/>\n",
        "  <rect x=\"50\" y=\"50\" width=\"50\" height=\"50\" stroke=\"black\" fill=\"none\"/>\n",
        "  <rect x=\"50\" y=\"100\" width=\"50\" height=\"50\" stroke=\"black\" fill=\"none\"/>\n",
        "  <rect x=\"50\" y=\"150\" width=\"50\" height=\"50\" stroke=\"black\" fill=\"none\"/>\n",
        "</svg>\n",
        "\"\"\"\n",
        "\n",
        "candidate5 = \"\"\"\n",
        "<svg viewBox=\"0 0 200 300\" xmlns=\"http://www.w3.org/2000/svg\">\n",
        "  <!-- Candidate 1 -->\n",
        "  <rect x=\"0\" y=\"100\" width=\"50\" height=\"50\" stroke=\"black\" fill=\"none\"/>\n",
        "  <rect x=\"50\" y=\"0\" width=\"50\" height=\"50\" stroke=\"black\" fill=\"none\"/>\n",
        "  <rect x=\"100\" y=\"0\" width=\"50\" height=\"50\" stroke=\"black\" fill=\"none\"/>\n",
        "  <rect x=\"50\" y=\"50\" width=\"50\" height=\"50\" stroke=\"black\" fill=\"none\"/>\n",
        "  <rect x=\"50\" y=\"100\" width=\"50\" height=\"50\" stroke=\"black\" fill=\"none\"/>\n",
        "  <rect x=\"50\" y=\"150\" width=\"50\" height=\"50\" stroke=\"black\" fill=\"none\"/>\n",
        "</svg>\n",
        "\"\"\"\n",
        "\n",
        "candidate6 = \"\"\"\n",
        "<svg viewBox=\"0 0 200 300\" xmlns=\"http://www.w3.org/2000/svg\">\n",
        "  <!-- Candidate 1 -->\n",
        "  <rect x=\"0\" y=\"150\" width=\"50\" height=\"50\" stroke=\"black\" fill=\"none\"/>\n",
        "  <rect x=\"50\" y=\"0\" width=\"50\" height=\"50\" stroke=\"black\" fill=\"none\"/>\n",
        "  <rect x=\"100\" y=\"0\" width=\"50\" height=\"50\" stroke=\"black\" fill=\"none\"/>\n",
        "  <rect x=\"50\" y=\"50\" width=\"50\" height=\"50\" stroke=\"black\" fill=\"none\"/>\n",
        "  <rect x=\"50\" y=\"100\" width=\"50\" height=\"50\" stroke=\"black\" fill=\"none\"/>\n",
        "  <rect x=\"50\" y=\"150\" width=\"50\" height=\"50\" stroke=\"black\" fill=\"none\"/>\n",
        "</svg>\n",
        "\"\"\"\n",
        "\n",
        "candidate7 = \"\"\"\n",
        "<svg viewBox=\"0 0 200 300\" xmlns=\"http://www.w3.org/2000/svg\">\n",
        "  <!-- Candidate 1 -->\n",
        "  <rect x=\"0\" y=\"50\" width=\"50\" height=\"50\" stroke=\"black\" fill=\"none\"/>\n",
        "  <rect x=\"100\" y=\"50\" width=\"50\" height=\"50\" stroke=\"black\" fill=\"none\"/>\n",
        "  <rect x=\"100\" y=\"0\" width=\"50\" height=\"50\" stroke=\"black\" fill=\"none\"/>\n",
        "  <rect x=\"50\" y=\"50\" width=\"50\" height=\"50\" stroke=\"black\" fill=\"none\"/>\n",
        "  <rect x=\"50\" y=\"100\" width=\"50\" height=\"50\" stroke=\"black\" fill=\"none\"/>\n",
        "  <rect x=\"50\" y=\"150\" width=\"50\" height=\"50\" stroke=\"black\" fill=\"none\"/>\n",
        "</svg>\n",
        "\"\"\"\n",
        "\n",
        "candidate8 = \"\"\"\n",
        "<svg viewBox=\"0 0 200 300\" xmlns=\"http://www.w3.org/2000/svg\">\n",
        "  <!-- Candidate 1 -->\n",
        "  <rect x=\"0\" y=\"100\" width=\"50\" height=\"50\" stroke=\"black\" fill=\"none\"/>\n",
        "  <rect x=\"100\" y=\"50\" width=\"50\" height=\"50\" stroke=\"black\" fill=\"none\"/>\n",
        "  <rect x=\"100\" y=\"0\" width=\"50\" height=\"50\" stroke=\"black\" fill=\"none\"/>\n",
        "  <rect x=\"50\" y=\"50\" width=\"50\" height=\"50\" stroke=\"black\" fill=\"none\"/>\n",
        "  <rect x=\"50\" y=\"100\" width=\"50\" height=\"50\" stroke=\"black\" fill=\"none\"/>\n",
        "  <rect x=\"50\" y=\"150\" width=\"50\" height=\"50\" stroke=\"black\" fill=\"none\"/>\n",
        "</svg>\n",
        "\"\"\"\n",
        "\n",
        "candidate9 = \"\"\"\n",
        "<svg viewBox=\"0 0 200 300\" xmlns=\"http://www.w3.org/2000/svg\">\n",
        "  <!-- Candidate 1 -->\n",
        "  <rect x=\"0\" y=\"100\" width=\"50\" height=\"50\" stroke=\"black\" fill=\"none\"/>\n",
        "  <rect x=\"50\" y=\"0\" width=\"50\" height=\"50\" stroke=\"black\" fill=\"none\"/>\n",
        "  <rect x=\"100\" y=\"0\" width=\"50\" height=\"50\" stroke=\"black\" fill=\"none\"/>\n",
        "  <rect x=\"50\" y=\"50\" width=\"50\" height=\"50\" stroke=\"black\" fill=\"none\"/>\n",
        "  <rect x=\"50\" y=\"100\" width=\"50\" height=\"50\" stroke=\"black\" fill=\"none\"/>\n",
        "  <rect x=\"0\" y=\"150\" width=\"50\" height=\"50\" stroke=\"black\" fill=\"none\"/>\n",
        "</svg>\n",
        "\"\"\"\n",
        "\n",
        "candidate10 = \"\"\"\n",
        "<svg viewBox=\"0 0 200 300\" xmlns=\"http://www.w3.org/2000/svg\">\n",
        "  <!-- Candidate 1 -->\n",
        "  <rect x=\"0\" y=\"100\" width=\"50\" height=\"50\" stroke=\"black\" fill=\"none\"/>\n",
        "  <rect x=\"100\" y=\"50\" width=\"50\" height=\"50\" stroke=\"black\" fill=\"none\"/>\n",
        "  <rect x=\"100\" y=\"0\" width=\"50\" height=\"50\" stroke=\"black\" fill=\"none\"/>\n",
        "  <rect x=\"50\" y=\"50\" width=\"50\" height=\"50\" stroke=\"black\" fill=\"none\"/>\n",
        "  <rect x=\"50\" y=\"100\" width=\"50\" height=\"50\" stroke=\"black\" fill=\"none\"/>\n",
        "  <rect x=\"0\" y=\"150\" width=\"50\" height=\"50\" stroke=\"black\" fill=\"none\"/>\n",
        "</svg>\n",
        "\"\"\"\n",
        "\n",
        "candidate11 = \"\"\"\n",
        "<svg viewBox=\"0 0 200 300\" xmlns=\"http://www.w3.org/2000/svg\">\n",
        "  <!-- Candidate 1 -->\n",
        "  <rect x=\"50\" y=\"0\" width=\"50\" height=\"50\" stroke=\"black\" fill=\"none\"/>\n",
        "  <rect x=\"50\" y=\"50\" width=\"50\" height=\"50\" stroke=\"black\" fill=\"none\"/>\n",
        "  <rect x=\"50\" y=\"100\" width=\"50\" height=\"50\" stroke=\"black\" fill=\"none\"/>\n",
        "  <rect x=\"0\" y=\"100\" width=\"50\" height=\"50\" stroke=\"black\" fill=\"none\"/>\n",
        "  <rect x=\"0\" y=\"150\" width=\"50\" height=\"50\" stroke=\"black\" fill=\"none\"/>\n",
        "  <rect x=\"0\" y=\"200\" width=\"50\" height=\"50\" stroke=\"black\" fill=\"none\"/>\n",
        "</svg>\n",
        "\"\"\"\n",
        "\n",
        "# Collect the 11 candidate unfoldings into a list:\n",
        "candidate_unfoldings = [candidate1, candidate2, candidate3, candidate4,\n",
        "                             candidate5, candidate6, candidate7, candidate8,\n",
        "                             candidate9, candidate10, candidate11]\n",
        "\n",
        "# Display them for verification:\n",
        "from IPython.display import HTML, display\n",
        "print(\"Correct 11 Cube Candidates:\")\n",
        "for i, candidate in enumerate(candidate_unfoldings):\n",
        "    display(HTML(f\"<h4>Cube Candidate {i+1}</h4>\"))\n",
        "    display(HTML(candidate))\n",
        "\n"
      ],
      "metadata": {
        "colab": {
          "base_uri": "https://localhost:8080/",
          "height": 1000
        },
        "collapsed": true,
        "id": "nUNO9EdlIjPF",
        "outputId": "de4f0397-4276-4a2e-9c1e-b48db5d71c22"
      },
      "execution_count": 86,
      "outputs": [
        {
          "output_type": "stream",
          "name": "stdout",
          "text": [
            "Correct 11 Cube Candidates:\n"
          ]
        },
        {
          "output_type": "display_data",
          "data": {
            "text/plain": [
              "<IPython.core.display.HTML object>"
            ],
            "text/html": [
              "<h4>Cube Candidate 1</h4>"
            ]
          },
          "metadata": {}
        },
        {
          "output_type": "display_data",
          "data": {
            "text/plain": [
              "<IPython.core.display.HTML object>"
            ],
            "text/html": [
              "\n",
              "<svg viewBox=\"0 0 200 300\" xmlns=\"http://www.w3.org/2000/svg\">\n",
              "  <!-- Candidate 1 -->\n",
              "  <rect x=\"0\" y=\"0\" width=\"50\" height=\"50\" stroke=\"black\" fill=\"none\"/>\n",
              "  <rect x=\"50\" y=\"0\" width=\"50\" height=\"50\" stroke=\"black\" fill=\"none\"/>\n",
              "  <rect x=\"100\" y=\"0\" width=\"50\" height=\"50\" stroke=\"black\" fill=\"none\"/>\n",
              "  <rect x=\"50\" y=\"50\" width=\"50\" height=\"50\" stroke=\"black\" fill=\"none\"/>\n",
              "  <rect x=\"50\" y=\"100\" width=\"50\" height=\"50\" stroke=\"black\" fill=\"none\"/>\n",
              "  <rect x=\"50\" y=\"150\" width=\"50\" height=\"50\" stroke=\"black\" fill=\"none\"/>\n",
              "</svg>\n"
            ]
          },
          "metadata": {}
        },
        {
          "output_type": "display_data",
          "data": {
            "text/plain": [
              "<IPython.core.display.HTML object>"
            ],
            "text/html": [
              "<h4>Cube Candidate 2</h4>"
            ]
          },
          "metadata": {}
        },
        {
          "output_type": "display_data",
          "data": {
            "text/plain": [
              "<IPython.core.display.HTML object>"
            ],
            "text/html": [
              "\n",
              "<svg viewBox=\"0 0 200 300\" xmlns=\"http://www.w3.org/2000/svg\">\n",
              "  <!-- Candidate 2 -->\n",
              "  <rect x=\"0\" y=\"50\" width=\"50\" height=\"50\" stroke=\"black\" fill=\"none\"/>\n",
              "  <rect x=\"50\" y=\"50\" width=\"50\" height=\"50\" stroke=\"black\" fill=\"none\"/>\n",
              "  <rect x=\"100\" y=\"50\" width=\"50\" height=\"50\" stroke=\"black\" fill=\"none\"/>\n",
              "  <rect x=\"150\" y=\"50\" width=\"50\" height=\"50\" stroke=\"black\" fill=\"none\"/>\n",
              "  <rect x=\"50\" y=\"0\" width=\"50\" height=\"50\" stroke=\"black\" fill=\"none\"/>\n",
              "  <rect x=\"100\" y=\"100\" width=\"50\" height=\"50\" stroke=\"black\" fill=\"none\"/>\n",
              "</svg>\n"
            ]
          },
          "metadata": {}
        },
        {
          "output_type": "display_data",
          "data": {
            "text/plain": [
              "<IPython.core.display.HTML object>"
            ],
            "text/html": [
              "<h4>Cube Candidate 3</h4>"
            ]
          },
          "metadata": {}
        },
        {
          "output_type": "display_data",
          "data": {
            "text/plain": [
              "<IPython.core.display.HTML object>"
            ],
            "text/html": [
              "\n",
              "<svg viewBox=\"0 0 200 300\" xmlns=\"http://www.w3.org/2000/svg\">\n",
              "  <!-- Candidate 3 -->\n",
              "  <rect x=\"50\" y=\"0\" width=\"50\" height=\"50\" stroke=\"black\" fill=\"none\"/>\n",
              "  <rect x=\"50\" y=\"50\" width=\"50\" height=\"50\" stroke=\"black\" fill=\"none\"/>\n",
              "  <rect x=\"50\" y=\"100\" width=\"50\" height=\"50\" stroke=\"black\" fill=\"none\"/>\n",
              "  <rect x=\"0\" y=\"50\" width=\"50\" height=\"50\" stroke=\"black\" fill=\"none\"/>\n",
              "  <rect x=\"100\" y=\"50\" width=\"50\" height=\"50\" stroke=\"black\" fill=\"none\"/>\n",
              "  <rect x=\"50\" y=\"150\" width=\"50\" height=\"50\" stroke=\"black\" fill=\"none\"/>\n",
              "</svg>\n"
            ]
          },
          "metadata": {}
        },
        {
          "output_type": "display_data",
          "data": {
            "text/plain": [
              "<IPython.core.display.HTML object>"
            ],
            "text/html": [
              "<h4>Cube Candidate 4</h4>"
            ]
          },
          "metadata": {}
        },
        {
          "output_type": "display_data",
          "data": {
            "text/plain": [
              "<IPython.core.display.HTML object>"
            ],
            "text/html": [
              "\n",
              "<svg viewBox=\"0 0 200 300\" xmlns=\"http://www.w3.org/2000/svg\">\n",
              "  <!-- Candidate 1 -->\n",
              "  <rect x=\"0\" y=\"50\" width=\"50\" height=\"50\" stroke=\"black\" fill=\"none\"/>\n",
              "  <rect x=\"50\" y=\"0\" width=\"50\" height=\"50\" stroke=\"black\" fill=\"none\"/>\n",
              "  <rect x=\"100\" y=\"0\" width=\"50\" height=\"50\" stroke=\"black\" fill=\"none\"/>\n",
              "  <rect x=\"50\" y=\"50\" width=\"50\" height=\"50\" stroke=\"black\" fill=\"none\"/>\n",
              "  <rect x=\"50\" y=\"100\" width=\"50\" height=\"50\" stroke=\"black\" fill=\"none\"/>\n",
              "  <rect x=\"50\" y=\"150\" width=\"50\" height=\"50\" stroke=\"black\" fill=\"none\"/>\n",
              "</svg>\n"
            ]
          },
          "metadata": {}
        },
        {
          "output_type": "display_data",
          "data": {
            "text/plain": [
              "<IPython.core.display.HTML object>"
            ],
            "text/html": [
              "<h4>Cube Candidate 5</h4>"
            ]
          },
          "metadata": {}
        },
        {
          "output_type": "display_data",
          "data": {
            "text/plain": [
              "<IPython.core.display.HTML object>"
            ],
            "text/html": [
              "\n",
              "<svg viewBox=\"0 0 200 300\" xmlns=\"http://www.w3.org/2000/svg\">\n",
              "  <!-- Candidate 1 -->\n",
              "  <rect x=\"0\" y=\"100\" width=\"50\" height=\"50\" stroke=\"black\" fill=\"none\"/>\n",
              "  <rect x=\"50\" y=\"0\" width=\"50\" height=\"50\" stroke=\"black\" fill=\"none\"/>\n",
              "  <rect x=\"100\" y=\"0\" width=\"50\" height=\"50\" stroke=\"black\" fill=\"none\"/>\n",
              "  <rect x=\"50\" y=\"50\" width=\"50\" height=\"50\" stroke=\"black\" fill=\"none\"/>\n",
              "  <rect x=\"50\" y=\"100\" width=\"50\" height=\"50\" stroke=\"black\" fill=\"none\"/>\n",
              "  <rect x=\"50\" y=\"150\" width=\"50\" height=\"50\" stroke=\"black\" fill=\"none\"/>\n",
              "</svg>\n"
            ]
          },
          "metadata": {}
        },
        {
          "output_type": "display_data",
          "data": {
            "text/plain": [
              "<IPython.core.display.HTML object>"
            ],
            "text/html": [
              "<h4>Cube Candidate 6</h4>"
            ]
          },
          "metadata": {}
        },
        {
          "output_type": "display_data",
          "data": {
            "text/plain": [
              "<IPython.core.display.HTML object>"
            ],
            "text/html": [
              "\n",
              "<svg viewBox=\"0 0 200 300\" xmlns=\"http://www.w3.org/2000/svg\">\n",
              "  <!-- Candidate 1 -->\n",
              "  <rect x=\"0\" y=\"150\" width=\"50\" height=\"50\" stroke=\"black\" fill=\"none\"/>\n",
              "  <rect x=\"50\" y=\"0\" width=\"50\" height=\"50\" stroke=\"black\" fill=\"none\"/>\n",
              "  <rect x=\"100\" y=\"0\" width=\"50\" height=\"50\" stroke=\"black\" fill=\"none\"/>\n",
              "  <rect x=\"50\" y=\"50\" width=\"50\" height=\"50\" stroke=\"black\" fill=\"none\"/>\n",
              "  <rect x=\"50\" y=\"100\" width=\"50\" height=\"50\" stroke=\"black\" fill=\"none\"/>\n",
              "  <rect x=\"50\" y=\"150\" width=\"50\" height=\"50\" stroke=\"black\" fill=\"none\"/>\n",
              "</svg>\n"
            ]
          },
          "metadata": {}
        },
        {
          "output_type": "display_data",
          "data": {
            "text/plain": [
              "<IPython.core.display.HTML object>"
            ],
            "text/html": [
              "<h4>Cube Candidate 7</h4>"
            ]
          },
          "metadata": {}
        },
        {
          "output_type": "display_data",
          "data": {
            "text/plain": [
              "<IPython.core.display.HTML object>"
            ],
            "text/html": [
              "\n",
              "<svg viewBox=\"0 0 200 300\" xmlns=\"http://www.w3.org/2000/svg\">\n",
              "  <!-- Candidate 1 -->\n",
              "  <rect x=\"0\" y=\"50\" width=\"50\" height=\"50\" stroke=\"black\" fill=\"none\"/>\n",
              "  <rect x=\"100\" y=\"50\" width=\"50\" height=\"50\" stroke=\"black\" fill=\"none\"/>\n",
              "  <rect x=\"100\" y=\"0\" width=\"50\" height=\"50\" stroke=\"black\" fill=\"none\"/>\n",
              "  <rect x=\"50\" y=\"50\" width=\"50\" height=\"50\" stroke=\"black\" fill=\"none\"/>\n",
              "  <rect x=\"50\" y=\"100\" width=\"50\" height=\"50\" stroke=\"black\" fill=\"none\"/>\n",
              "  <rect x=\"50\" y=\"150\" width=\"50\" height=\"50\" stroke=\"black\" fill=\"none\"/>\n",
              "</svg>\n"
            ]
          },
          "metadata": {}
        },
        {
          "output_type": "display_data",
          "data": {
            "text/plain": [
              "<IPython.core.display.HTML object>"
            ],
            "text/html": [
              "<h4>Cube Candidate 8</h4>"
            ]
          },
          "metadata": {}
        },
        {
          "output_type": "display_data",
          "data": {
            "text/plain": [
              "<IPython.core.display.HTML object>"
            ],
            "text/html": [
              "\n",
              "<svg viewBox=\"0 0 200 300\" xmlns=\"http://www.w3.org/2000/svg\">\n",
              "  <!-- Candidate 1 -->\n",
              "  <rect x=\"0\" y=\"100\" width=\"50\" height=\"50\" stroke=\"black\" fill=\"none\"/>\n",
              "  <rect x=\"100\" y=\"50\" width=\"50\" height=\"50\" stroke=\"black\" fill=\"none\"/>\n",
              "  <rect x=\"100\" y=\"0\" width=\"50\" height=\"50\" stroke=\"black\" fill=\"none\"/>\n",
              "  <rect x=\"50\" y=\"50\" width=\"50\" height=\"50\" stroke=\"black\" fill=\"none\"/>\n",
              "  <rect x=\"50\" y=\"100\" width=\"50\" height=\"50\" stroke=\"black\" fill=\"none\"/>\n",
              "  <rect x=\"50\" y=\"150\" width=\"50\" height=\"50\" stroke=\"black\" fill=\"none\"/>\n",
              "</svg>\n"
            ]
          },
          "metadata": {}
        },
        {
          "output_type": "display_data",
          "data": {
            "text/plain": [
              "<IPython.core.display.HTML object>"
            ],
            "text/html": [
              "<h4>Cube Candidate 9</h4>"
            ]
          },
          "metadata": {}
        },
        {
          "output_type": "display_data",
          "data": {
            "text/plain": [
              "<IPython.core.display.HTML object>"
            ],
            "text/html": [
              "\n",
              "<svg viewBox=\"0 0 200 300\" xmlns=\"http://www.w3.org/2000/svg\">\n",
              "  <!-- Candidate 1 -->\n",
              "  <rect x=\"0\" y=\"100\" width=\"50\" height=\"50\" stroke=\"black\" fill=\"none\"/>\n",
              "  <rect x=\"50\" y=\"0\" width=\"50\" height=\"50\" stroke=\"black\" fill=\"none\"/>\n",
              "  <rect x=\"100\" y=\"0\" width=\"50\" height=\"50\" stroke=\"black\" fill=\"none\"/>\n",
              "  <rect x=\"50\" y=\"50\" width=\"50\" height=\"50\" stroke=\"black\" fill=\"none\"/>\n",
              "  <rect x=\"50\" y=\"100\" width=\"50\" height=\"50\" stroke=\"black\" fill=\"none\"/>\n",
              "  <rect x=\"0\" y=\"150\" width=\"50\" height=\"50\" stroke=\"black\" fill=\"none\"/>\n",
              "</svg>\n"
            ]
          },
          "metadata": {}
        },
        {
          "output_type": "display_data",
          "data": {
            "text/plain": [
              "<IPython.core.display.HTML object>"
            ],
            "text/html": [
              "<h4>Cube Candidate 10</h4>"
            ]
          },
          "metadata": {}
        },
        {
          "output_type": "display_data",
          "data": {
            "text/plain": [
              "<IPython.core.display.HTML object>"
            ],
            "text/html": [
              "\n",
              "<svg viewBox=\"0 0 200 300\" xmlns=\"http://www.w3.org/2000/svg\">\n",
              "  <!-- Candidate 1 -->\n",
              "  <rect x=\"0\" y=\"100\" width=\"50\" height=\"50\" stroke=\"black\" fill=\"none\"/>\n",
              "  <rect x=\"100\" y=\"50\" width=\"50\" height=\"50\" stroke=\"black\" fill=\"none\"/>\n",
              "  <rect x=\"100\" y=\"0\" width=\"50\" height=\"50\" stroke=\"black\" fill=\"none\"/>\n",
              "  <rect x=\"50\" y=\"50\" width=\"50\" height=\"50\" stroke=\"black\" fill=\"none\"/>\n",
              "  <rect x=\"50\" y=\"100\" width=\"50\" height=\"50\" stroke=\"black\" fill=\"none\"/>\n",
              "  <rect x=\"0\" y=\"150\" width=\"50\" height=\"50\" stroke=\"black\" fill=\"none\"/>\n",
              "</svg>\n"
            ]
          },
          "metadata": {}
        },
        {
          "output_type": "display_data",
          "data": {
            "text/plain": [
              "<IPython.core.display.HTML object>"
            ],
            "text/html": [
              "<h4>Cube Candidate 11</h4>"
            ]
          },
          "metadata": {}
        },
        {
          "output_type": "display_data",
          "data": {
            "text/plain": [
              "<IPython.core.display.HTML object>"
            ],
            "text/html": [
              "\n",
              "<svg viewBox=\"0 0 200 300\" xmlns=\"http://www.w3.org/2000/svg\">\n",
              "  <!-- Candidate 1 -->\n",
              "  <rect x=\"50\" y=\"0\" width=\"50\" height=\"50\" stroke=\"black\" fill=\"none\"/>\n",
              "  <rect x=\"50\" y=\"50\" width=\"50\" height=\"50\" stroke=\"black\" fill=\"none\"/>\n",
              "  <rect x=\"50\" y=\"100\" width=\"50\" height=\"50\" stroke=\"black\" fill=\"none\"/>\n",
              "  <rect x=\"0\" y=\"100\" width=\"50\" height=\"50\" stroke=\"black\" fill=\"none\"/>\n",
              "  <rect x=\"0\" y=\"150\" width=\"50\" height=\"50\" stroke=\"black\" fill=\"none\"/>\n",
              "  <rect x=\"0\" y=\"200\" width=\"50\" height=\"50\" stroke=\"black\" fill=\"none\"/>\n",
              "</svg>\n"
            ]
          },
          "metadata": {}
        }
      ]
    },
    {
      "cell_type": "markdown",
      "source": [
        "Main attributes for tweaking computation and results.\n",
        "- **tolerance**:\n",
        "- **offset**:\n",
        "- **partial_solution**\n",
        "- **rotations**\n",
        "- **persist**\n",
        "\n",
        "Below is a script that takes the unfolding candidates from the previous cell and displays the packings of all original unfoldings along with each one's packaging according to packaide's internal logic.\n",
        "> The reason we're displaying both is because we want to make sure that one of our original unfoldings is not already the most effiecient one before throwing it on packaide (which seems to be not super accurate at times)."
      ],
      "metadata": {
        "id": "NKqNh1kuTExD"
      }
    },
    {
      "cell_type": "code",
      "source": [
        "from IPython.display import HTML, display\n",
        "from xml.dom import minidom\n",
        "import packaide\n",
        "import shapely.geometry\n",
        "\n",
        "# --- Helper function with 300px default width ---\n",
        "def display_svg(svg_str, width=300):\n",
        "    html_str = f'<div style=\"width: {width}px;\">{svg_str}</div>'\n",
        "    display(HTML(html_str))\n",
        "\n",
        "# --- Bounding box overlay function ---\n",
        "def add_bounding_box_to_svg(svg_str, tolerance=1):\n",
        "    _, polygons = packaide.extract_shapely_polygons(svg_str, tolerance)\n",
        "    union_poly = None\n",
        "    for boundary, _ in polygons:\n",
        "        union_poly = boundary if union_poly is None else union_poly.union(boundary)\n",
        "    if union_poly is None:\n",
        "        return svg_str\n",
        "\n",
        "    envelope = union_poly.envelope\n",
        "    minx, miny, maxx, maxy = envelope.bounds\n",
        "    width_rect = maxx - minx\n",
        "    height_rect = maxy - miny\n",
        "\n",
        "    doc = minidom.parseString(svg_str)\n",
        "    svg_elem = doc.getElementsByTagName(\"svg\")[0]\n",
        "\n",
        "    # Set viewBox to 300x300\n",
        "    svg_elem.setAttribute(\"viewBox\", \"0 0 300 300\")\n",
        "\n",
        "    rect_elem = doc.createElement(\"rect\")\n",
        "    rect_elem.setAttribute(\"x\", str(minx))\n",
        "    rect_elem.setAttribute(\"y\", str(miny))\n",
        "    rect_elem.setAttribute(\"width\", str(width_rect))\n",
        "    rect_elem.setAttribute(\"height\", str(height_rect))\n",
        "    rect_elem.setAttribute(\"stroke\", \"red\")\n",
        "    rect_elem.setAttribute(\"fill\", \"none\")\n",
        "    rect_elem.setAttribute(\"stroke-dasharray\", \"4\")\n",
        "    svg_elem.appendChild(rect_elem)\n",
        "\n",
        "    return doc.toxml()\n",
        "\n",
        "# --- Geometry utilities ---\n",
        "def compute_union_polygon(svg_str, tolerance=1):\n",
        "    _, polygons = packaide.extract_shapely_polygons(svg_str, tolerance)\n",
        "    union_poly = None\n",
        "    for boundary, _ in polygons:\n",
        "        union_poly = boundary if union_poly is None else union_poly.union(boundary)\n",
        "    return union_poly\n",
        "\n",
        "def compute_utilization(svg_str, tolerance=1):\n",
        "    union_poly = compute_union_polygon(svg_str, tolerance)\n",
        "    if not union_poly:\n",
        "        return 0\n",
        "    shape_area = union_poly.area\n",
        "    bbox_area = union_poly.envelope.area\n",
        "    return shape_area / bbox_area if bbox_area else 0\n",
        "\n",
        "# --- Main processing with unified 300x300 view ---\n",
        "print(\"Processing cube nets in 300x300 view:\\n\")\n",
        "results = []\n",
        "\n",
        "for i, candidate_svg in enumerate(correct_cube_candidates):\n",
        "    print(f\"\\n--- Candidate {i+1} ---\")\n",
        "\n",
        "    # Process original version\n",
        "    doc = minidom.parseString(candidate_svg)\n",
        "    svg_elem = doc.getElementsByTagName(\"svg\")[0]\n",
        "    svg_elem.setAttribute(\"viewBox\", \"0 0 300 300\")\n",
        "    updated_candidate = doc.toxml()\n",
        "\n",
        "    union_poly = compute_union_polygon(updated_candidate)\n",
        "    if not union_poly:\n",
        "        print(\"Skipping invalid candidate\")\n",
        "        continue\n",
        "\n",
        "    # Dynamic sheet sizing\n",
        "    minx, miny, maxx, maxy = union_poly.envelope.bounds\n",
        "    sheet_size = max(maxx - minx, maxy - miny) + 20  # Size + buffer\n",
        "    dynamic_sheet = packaide.blank_sheet(sheet_size, sheet_size)\n",
        "\n",
        "    # Original analysis\n",
        "    original_with_bbox = add_bounding_box_to_svg(updated_candidate)\n",
        "    original_util = compute_utilization(updated_candidate)\n",
        "    print(f\"Original Utilization: {original_util:.3f}\")\n",
        "    display_svg(original_with_bbox)\n",
        "    results.append((i, \"original\", original_util, original_with_bbox))\n",
        "\n",
        "    # Packed analysis\n",
        "    result, _, _ = packaide.pack(\n",
        "        [dynamic_sheet],\n",
        "        updated_candidate,\n",
        "        tolerance=1,\n",
        "        offset=2,\n",
        "        rotations=6,\n",
        "        partial_solution=True\n",
        "    )\n",
        "\n",
        "    if not result:\n",
        "        print(\"Packing failed\")\n",
        "        continue\n",
        "\n",
        "    # Process packed result\n",
        "    _, packed_svg = result[0]\n",
        "    packed_with_bbox = add_bounding_box_to_svg(packed_svg)\n",
        "    packed_util = compute_utilization(packed_svg)\n",
        "\n",
        "    print(f\"Packed Utilization: {packed_util:.3f}\")\n",
        "    display_svg(packed_with_bbox)\n",
        "    results.append((i, \"packed\", packed_util, packed_with_bbox))\n",
        "\n",
        "# --- Results analysis ---\n",
        "max_util = max((entry[2] for entry in results), default=0)\n",
        "best_results = [entry for entry in results if abs(entry[2] - max_util) < 0.01]\n",
        "\n",
        "print(\"\\n=== Optimal Packing ===\")\n",
        "print(f\"Maximum Utilization Achieved: {max_util:.3f}\")\n",
        "\n",
        "# Find first unique best packing\n",
        "seen = set()\n",
        "best_shown = False\n",
        "for cand in best_results:\n",
        "    idx, version, util, svg = cand\n",
        "    if svg not in seen:\n",
        "        seen.add(svg)\n",
        "        if not best_shown:  # Show only the first unique best\n",
        "            display_svg(svg)\n",
        "            best_shown = True\n",
        "            break  # Exit after showing first best\n",
        "\n",
        "if not best_shown:\n",
        "    print(\"\\nNo valid best packing found\")"
      ],
      "metadata": {
        "colab": {
          "base_uri": "https://localhost:8080/",
          "height": 1000
        },
        "id": "uMRzBCEl0jMn",
        "outputId": "e37f13e0-48a3-4828-d660-8d0884bae038",
        "collapsed": true
      },
      "execution_count": 97,
      "outputs": [
        {
          "output_type": "stream",
          "name": "stdout",
          "text": [
            "Processing cube nets in 300x300 view:\n",
            "\n",
            "\n",
            "--- Candidate 1 ---\n",
            "Original Utilization: 0.517\n"
          ]
        },
        {
          "output_type": "display_data",
          "data": {
            "text/plain": [
              "<IPython.core.display.HTML object>"
            ],
            "text/html": [
              "<div style=\"width: 300px;\"><?xml version=\"1.0\" ?><svg xmlns=\"http://www.w3.org/2000/svg\" viewBox=\"0 0 300 300\">\n",
              "  <!-- Candidate 1: Classic cross candidate -->\n",
              "  <rect x=\"0\" y=\"0\" width=\"50\" height=\"50\" stroke=\"black\" fill=\"none\"/>\n",
              "  <rect x=\"50\" y=\"0\" width=\"50\" height=\"50\" stroke=\"black\" fill=\"none\"/>\n",
              "  <rect x=\"100\" y=\"0\" width=\"50\" height=\"50\" stroke=\"black\" fill=\"none\"/>\n",
              "  <rect x=\"50\" y=\"50\" width=\"50\" height=\"50\" stroke=\"black\" fill=\"none\"/>\n",
              "  <rect x=\"50\" y=\"100\" width=\"50\" height=\"50\" stroke=\"black\" fill=\"none\"/>\n",
              "  <rect x=\"50\" y=\"150\" width=\"50\" height=\"50\" stroke=\"black\" fill=\"none\"/>\n",
              "<rect x=\"-1.5\" y=\"-1.5\" width=\"153.0\" height=\"203.0\" stroke=\"red\" fill=\"none\" stroke-dasharray=\"4\"/></svg></div>"
            ]
          },
          "metadata": {}
        },
        {
          "output_type": "stream",
          "name": "stdout",
          "text": [
            "Packed Utilization: 0.917\n"
          ]
        },
        {
          "output_type": "display_data",
          "data": {
            "text/plain": [
              "<IPython.core.display.HTML object>"
            ],
            "text/html": [
              "<div style=\"width: 300px;\"><?xml version=\"1.0\" ?><svg viewBox=\"0 0 300 300\" width=\"223.0\" height=\"223.0\">\n",
              "\t<path d=\"M 0,0 L 50,0 L 50,50 L 0,50 Z\" color=\"black\" fill=\"none\" stroke=\"black\" transform=\"translate(3.500,3.500) rotate(0.000,-3.500,-3.500)\"/>\n",
              "\t<path d=\"M 50,0 L 100,0 L 100,50 L 50,50 Z\" color=\"black\" fill=\"none\" stroke=\"black\" transform=\"translate(-46.500,60.500) rotate(0.000,46.500,-3.500)\"/>\n",
              "\t<path d=\"M 100,0 L 150,0 L 150,50 L 100,50 Z\" color=\"black\" fill=\"none\" stroke=\"black\" transform=\"translate(-96.500,117.500) rotate(0.000,96.500,-3.500)\"/>\n",
              "\t<path d=\"M 50,50 L 100,50 L 100,100 L 50,100 Z\" color=\"black\" fill=\"none\" stroke=\"black\" transform=\"translate(10.500,-46.500) rotate(0.000,46.500,46.500)\"/>\n",
              "\t<path d=\"M 50,100 L 100,100 L 100,150 L 50,150 Z\" color=\"black\" fill=\"none\" stroke=\"black\" transform=\"translate(10.500,-39.500) rotate(0.000,46.500,96.500)\"/>\n",
              "\t<path d=\"M 50,150 L 100,150 L 100,200 L 50,200 Z\" color=\"black\" fill=\"none\" stroke=\"black\" transform=\"translate(10.500,-32.500) rotate(0.000,46.500,146.500)\"/>\n",
              "<rect x=\"2.0\" y=\"2.0\" width=\"110.0\" height=\"167.0\" stroke=\"red\" fill=\"none\" stroke-dasharray=\"4\"/></svg></div>"
            ]
          },
          "metadata": {}
        },
        {
          "output_type": "stream",
          "name": "stdout",
          "text": [
            "\n",
            "--- Candidate 2 ---\n",
            "Original Utilization: 0.517\n"
          ]
        },
        {
          "output_type": "display_data",
          "data": {
            "text/plain": [
              "<IPython.core.display.HTML object>"
            ],
            "text/html": [
              "<div style=\"width: 300px;\"><?xml version=\"1.0\" ?><svg xmlns=\"http://www.w3.org/2000/svg\" viewBox=\"0 0 300 300\">\n",
              "  <!-- Candidate 2 -->\n",
              "  <rect x=\"0\" y=\"50\" width=\"50\" height=\"50\" stroke=\"black\" fill=\"none\"/>\n",
              "  <rect x=\"50\" y=\"50\" width=\"50\" height=\"50\" stroke=\"black\" fill=\"none\"/>\n",
              "  <rect x=\"100\" y=\"50\" width=\"50\" height=\"50\" stroke=\"black\" fill=\"none\"/>\n",
              "  <rect x=\"150\" y=\"50\" width=\"50\" height=\"50\" stroke=\"black\" fill=\"none\"/>\n",
              "  <rect x=\"50\" y=\"0\" width=\"50\" height=\"50\" stroke=\"black\" fill=\"none\"/>\n",
              "  <rect x=\"100\" y=\"100\" width=\"50\" height=\"50\" stroke=\"black\" fill=\"none\"/>\n",
              "<rect x=\"-1.5\" y=\"-1.5\" width=\"203.0\" height=\"153.0\" stroke=\"red\" fill=\"none\" stroke-dasharray=\"4\"/></svg></div>"
            ]
          },
          "metadata": {}
        },
        {
          "output_type": "stream",
          "name": "stdout",
          "text": [
            "Packed Utilization: 0.917\n"
          ]
        },
        {
          "output_type": "display_data",
          "data": {
            "text/plain": [
              "<IPython.core.display.HTML object>"
            ],
            "text/html": [
              "<div style=\"width: 300px;\"><?xml version=\"1.0\" ?><svg viewBox=\"0 0 300 300\" width=\"223.0\" height=\"223.0\">\n",
              "\t<path d=\"M 0,50 L 50,50 L 50,100 L 0,100 Z\" color=\"black\" fill=\"none\" stroke=\"black\" transform=\"translate(3.500,-46.500) rotate(0.000,-3.500,46.500)\"/>\n",
              "\t<path d=\"M 50,50 L 100,50 L 100,100 L 50,100 Z\" color=\"black\" fill=\"none\" stroke=\"black\" transform=\"translate(-46.500,10.500) rotate(0.000,46.500,46.500)\"/>\n",
              "\t<path d=\"M 100,50 L 150,50 L 150,100 L 100,100 Z\" color=\"black\" fill=\"none\" stroke=\"black\" transform=\"translate(-96.500,67.500) rotate(0.000,96.500,46.500)\"/>\n",
              "\t<path d=\"M 150,50 L 200,50 L 200,100 L 150,100 Z\" color=\"black\" fill=\"none\" stroke=\"black\" transform=\"translate(-89.500,-46.500) rotate(0.000,146.500,46.500)\"/>\n",
              "\t<path d=\"M 50,0 L 100,0 L 100,50 L 50,50 Z\" color=\"black\" fill=\"none\" stroke=\"black\" transform=\"translate(10.500,60.500) rotate(0.000,46.500,-3.500)\"/>\n",
              "\t<path d=\"M 100,100 L 150,100 L 150,150 L 100,150 Z\" color=\"black\" fill=\"none\" stroke=\"black\" transform=\"translate(-39.500,17.500) rotate(0.000,96.500,96.500)\"/>\n",
              "<rect x=\"2.0\" y=\"2.0\" width=\"110.0\" height=\"167.0\" stroke=\"red\" fill=\"none\" stroke-dasharray=\"4\"/></svg></div>"
            ]
          },
          "metadata": {}
        },
        {
          "output_type": "stream",
          "name": "stdout",
          "text": [
            "\n",
            "--- Candidate 3 ---\n",
            "Original Utilization: 0.517\n"
          ]
        },
        {
          "output_type": "display_data",
          "data": {
            "text/plain": [
              "<IPython.core.display.HTML object>"
            ],
            "text/html": [
              "<div style=\"width: 300px;\"><?xml version=\"1.0\" ?><svg xmlns=\"http://www.w3.org/2000/svg\" viewBox=\"0 0 300 300\">\n",
              "  <!-- Candidate 3: T-shape candidate -->\n",
              "  <rect x=\"50\" y=\"0\" width=\"50\" height=\"50\" stroke=\"black\" fill=\"none\"/>\n",
              "  <rect x=\"50\" y=\"50\" width=\"50\" height=\"50\" stroke=\"black\" fill=\"none\"/>\n",
              "  <rect x=\"50\" y=\"100\" width=\"50\" height=\"50\" stroke=\"black\" fill=\"none\"/>\n",
              "  <rect x=\"0\" y=\"50\" width=\"50\" height=\"50\" stroke=\"black\" fill=\"none\"/>\n",
              "  <rect x=\"100\" y=\"50\" width=\"50\" height=\"50\" stroke=\"black\" fill=\"none\"/>\n",
              "  <rect x=\"50\" y=\"150\" width=\"50\" height=\"50\" stroke=\"black\" fill=\"none\"/>\n",
              "<rect x=\"-1.5\" y=\"-1.5\" width=\"153.0\" height=\"203.0\" stroke=\"red\" fill=\"none\" stroke-dasharray=\"4\"/></svg></div>"
            ]
          },
          "metadata": {}
        },
        {
          "output_type": "stream",
          "name": "stdout",
          "text": [
            "Packed Utilization: 0.917\n"
          ]
        },
        {
          "output_type": "display_data",
          "data": {
            "text/plain": [
              "<IPython.core.display.HTML object>"
            ],
            "text/html": [
              "<div style=\"width: 300px;\"><?xml version=\"1.0\" ?><svg viewBox=\"0 0 300 300\" width=\"223.0\" height=\"223.0\">\n",
              "\t<path d=\"M 50,0 L 100,0 L 100,50 L 50,50 Z\" color=\"black\" fill=\"none\" stroke=\"black\" transform=\"translate(-46.500,3.500) rotate(0.000,46.500,-3.500)\"/>\n",
              "\t<path d=\"M 50,50 L 100,50 L 100,100 L 50,100 Z\" color=\"black\" fill=\"none\" stroke=\"black\" transform=\"translate(-46.500,10.500) rotate(0.000,46.500,46.500)\"/>\n",
              "\t<path d=\"M 50,100 L 100,100 L 100,150 L 50,150 Z\" color=\"black\" fill=\"none\" stroke=\"black\" transform=\"translate(-46.500,17.500) rotate(0.000,46.500,96.500)\"/>\n",
              "\t<path d=\"M 0,50 L 50,50 L 50,100 L 0,100 Z\" color=\"black\" fill=\"none\" stroke=\"black\" transform=\"translate(60.500,-46.500) rotate(0.000,-3.500,46.500)\"/>\n",
              "\t<path d=\"M 100,50 L 150,50 L 150,100 L 100,100 Z\" color=\"black\" fill=\"none\" stroke=\"black\" transform=\"translate(-39.500,10.500) rotate(0.000,96.500,46.500)\"/>\n",
              "\t<path d=\"M 50,150 L 100,150 L 100,200 L 50,200 Z\" color=\"black\" fill=\"none\" stroke=\"black\" transform=\"translate(10.500,-32.500) rotate(0.000,46.500,146.500)\"/>\n",
              "<rect x=\"2.0\" y=\"2.0\" width=\"110.0\" height=\"167.0\" stroke=\"red\" fill=\"none\" stroke-dasharray=\"4\"/></svg></div>"
            ]
          },
          "metadata": {}
        },
        {
          "output_type": "stream",
          "name": "stdout",
          "text": [
            "\n",
            "--- Candidate 4 ---\n",
            "Original Utilization: 0.517\n"
          ]
        },
        {
          "output_type": "display_data",
          "data": {
            "text/plain": [
              "<IPython.core.display.HTML object>"
            ],
            "text/html": [
              "<div style=\"width: 300px;\"><?xml version=\"1.0\" ?><svg xmlns=\"http://www.w3.org/2000/svg\" viewBox=\"0 0 300 300\">\n",
              "  <!-- Candidate 1: Classic cross candidate -->\n",
              "  <rect x=\"0\" y=\"50\" width=\"50\" height=\"50\" stroke=\"black\" fill=\"none\"/>\n",
              "  <rect x=\"50\" y=\"0\" width=\"50\" height=\"50\" stroke=\"black\" fill=\"none\"/>\n",
              "  <rect x=\"100\" y=\"0\" width=\"50\" height=\"50\" stroke=\"black\" fill=\"none\"/>\n",
              "  <rect x=\"50\" y=\"50\" width=\"50\" height=\"50\" stroke=\"black\" fill=\"none\"/>\n",
              "  <rect x=\"50\" y=\"100\" width=\"50\" height=\"50\" stroke=\"black\" fill=\"none\"/>\n",
              "  <rect x=\"50\" y=\"150\" width=\"50\" height=\"50\" stroke=\"black\" fill=\"none\"/>\n",
              "<rect x=\"-1.5\" y=\"-1.5\" width=\"153.0\" height=\"203.0\" stroke=\"red\" fill=\"none\" stroke-dasharray=\"4\"/></svg></div>"
            ]
          },
          "metadata": {}
        },
        {
          "output_type": "stream",
          "name": "stdout",
          "text": [
            "Packed Utilization: 0.917\n"
          ]
        },
        {
          "output_type": "display_data",
          "data": {
            "text/plain": [
              "<IPython.core.display.HTML object>"
            ],
            "text/html": [
              "<div style=\"width: 300px;\"><?xml version=\"1.0\" ?><svg viewBox=\"0 0 300 300\" width=\"223.0\" height=\"223.0\">\n",
              "\t<path d=\"M 0,50 L 50,50 L 50,100 L 0,100 Z\" color=\"black\" fill=\"none\" stroke=\"black\" transform=\"translate(3.500,-46.500) rotate(0.000,-3.500,46.500)\"/>\n",
              "\t<path d=\"M 50,0 L 100,0 L 100,50 L 50,50 Z\" color=\"black\" fill=\"none\" stroke=\"black\" transform=\"translate(-46.500,60.500) rotate(0.000,46.500,-3.500)\"/>\n",
              "\t<path d=\"M 100,0 L 150,0 L 150,50 L 100,50 Z\" color=\"black\" fill=\"none\" stroke=\"black\" transform=\"translate(-96.500,117.500) rotate(0.000,96.500,-3.500)\"/>\n",
              "\t<path d=\"M 50,50 L 100,50 L 100,100 L 50,100 Z\" color=\"black\" fill=\"none\" stroke=\"black\" transform=\"translate(10.500,-46.500) rotate(0.000,46.500,46.500)\"/>\n",
              "\t<path d=\"M 50,100 L 100,100 L 100,150 L 50,150 Z\" color=\"black\" fill=\"none\" stroke=\"black\" transform=\"translate(10.500,-39.500) rotate(0.000,46.500,96.500)\"/>\n",
              "\t<path d=\"M 50,150 L 100,150 L 100,200 L 50,200 Z\" color=\"black\" fill=\"none\" stroke=\"black\" transform=\"translate(10.500,-32.500) rotate(0.000,46.500,146.500)\"/>\n",
              "<rect x=\"2.0\" y=\"2.0\" width=\"110.0\" height=\"167.0\" stroke=\"red\" fill=\"none\" stroke-dasharray=\"4\"/></svg></div>"
            ]
          },
          "metadata": {}
        },
        {
          "output_type": "stream",
          "name": "stdout",
          "text": [
            "\n",
            "--- Candidate 5 ---\n",
            "Original Utilization: 0.517\n"
          ]
        },
        {
          "output_type": "display_data",
          "data": {
            "text/plain": [
              "<IPython.core.display.HTML object>"
            ],
            "text/html": [
              "<div style=\"width: 300px;\"><?xml version=\"1.0\" ?><svg xmlns=\"http://www.w3.org/2000/svg\" viewBox=\"0 0 300 300\">\n",
              "  <!-- Candidate 1: Classic cross candidate -->\n",
              "  <rect x=\"0\" y=\"100\" width=\"50\" height=\"50\" stroke=\"black\" fill=\"none\"/>\n",
              "  <rect x=\"50\" y=\"0\" width=\"50\" height=\"50\" stroke=\"black\" fill=\"none\"/>\n",
              "  <rect x=\"100\" y=\"0\" width=\"50\" height=\"50\" stroke=\"black\" fill=\"none\"/>\n",
              "  <rect x=\"50\" y=\"50\" width=\"50\" height=\"50\" stroke=\"black\" fill=\"none\"/>\n",
              "  <rect x=\"50\" y=\"100\" width=\"50\" height=\"50\" stroke=\"black\" fill=\"none\"/>\n",
              "  <rect x=\"50\" y=\"150\" width=\"50\" height=\"50\" stroke=\"black\" fill=\"none\"/>\n",
              "<rect x=\"-1.5\" y=\"-1.5\" width=\"153.0\" height=\"203.0\" stroke=\"red\" fill=\"none\" stroke-dasharray=\"4\"/></svg></div>"
            ]
          },
          "metadata": {}
        },
        {
          "output_type": "stream",
          "name": "stdout",
          "text": [
            "Packed Utilization: 0.917\n"
          ]
        },
        {
          "output_type": "display_data",
          "data": {
            "text/plain": [
              "<IPython.core.display.HTML object>"
            ],
            "text/html": [
              "<div style=\"width: 300px;\"><?xml version=\"1.0\" ?><svg viewBox=\"0 0 300 300\" width=\"223.0\" height=\"223.0\">\n",
              "\t<path d=\"M 0,100 L 50,100 L 50,150 L 0,150 Z\" color=\"black\" fill=\"none\" stroke=\"black\" transform=\"translate(3.500,-96.500) rotate(0.000,-3.500,96.500)\"/>\n",
              "\t<path d=\"M 50,0 L 100,0 L 100,50 L 50,50 Z\" color=\"black\" fill=\"none\" stroke=\"black\" transform=\"translate(-46.500,60.500) rotate(0.000,46.500,-3.500)\"/>\n",
              "\t<path d=\"M 100,0 L 150,0 L 150,50 L 100,50 Z\" color=\"black\" fill=\"none\" stroke=\"black\" transform=\"translate(-96.500,117.500) rotate(0.000,96.500,-3.500)\"/>\n",
              "\t<path d=\"M 50,50 L 100,50 L 100,100 L 50,100 Z\" color=\"black\" fill=\"none\" stroke=\"black\" transform=\"translate(10.500,-46.500) rotate(0.000,46.500,46.500)\"/>\n",
              "\t<path d=\"M 50,100 L 100,100 L 100,150 L 50,150 Z\" color=\"black\" fill=\"none\" stroke=\"black\" transform=\"translate(10.500,-39.500) rotate(0.000,46.500,96.500)\"/>\n",
              "\t<path d=\"M 50,150 L 100,150 L 100,200 L 50,200 Z\" color=\"black\" fill=\"none\" stroke=\"black\" transform=\"translate(10.500,-32.500) rotate(0.000,46.500,146.500)\"/>\n",
              "<rect x=\"2.0\" y=\"2.0\" width=\"110.0\" height=\"167.0\" stroke=\"red\" fill=\"none\" stroke-dasharray=\"4\"/></svg></div>"
            ]
          },
          "metadata": {}
        },
        {
          "output_type": "stream",
          "name": "stdout",
          "text": [
            "\n",
            "--- Candidate 6 ---\n",
            "Original Utilization: 0.517\n"
          ]
        },
        {
          "output_type": "display_data",
          "data": {
            "text/plain": [
              "<IPython.core.display.HTML object>"
            ],
            "text/html": [
              "<div style=\"width: 300px;\"><?xml version=\"1.0\" ?><svg xmlns=\"http://www.w3.org/2000/svg\" viewBox=\"0 0 300 300\">\n",
              "  <!-- Candidate 1: Classic cross candidate -->\n",
              "  <rect x=\"0\" y=\"150\" width=\"50\" height=\"50\" stroke=\"black\" fill=\"none\"/>\n",
              "  <rect x=\"50\" y=\"0\" width=\"50\" height=\"50\" stroke=\"black\" fill=\"none\"/>\n",
              "  <rect x=\"100\" y=\"0\" width=\"50\" height=\"50\" stroke=\"black\" fill=\"none\"/>\n",
              "  <rect x=\"50\" y=\"50\" width=\"50\" height=\"50\" stroke=\"black\" fill=\"none\"/>\n",
              "  <rect x=\"50\" y=\"100\" width=\"50\" height=\"50\" stroke=\"black\" fill=\"none\"/>\n",
              "  <rect x=\"50\" y=\"150\" width=\"50\" height=\"50\" stroke=\"black\" fill=\"none\"/>\n",
              "<rect x=\"-1.5\" y=\"-1.5\" width=\"153.0\" height=\"203.0\" stroke=\"red\" fill=\"none\" stroke-dasharray=\"4\"/></svg></div>"
            ]
          },
          "metadata": {}
        },
        {
          "output_type": "stream",
          "name": "stdout",
          "text": [
            "Packed Utilization: 0.917\n"
          ]
        },
        {
          "output_type": "display_data",
          "data": {
            "text/plain": [
              "<IPython.core.display.HTML object>"
            ],
            "text/html": [
              "<div style=\"width: 300px;\"><?xml version=\"1.0\" ?><svg viewBox=\"0 0 300 300\" width=\"223.0\" height=\"223.0\">\n",
              "\t<path d=\"M 0,150 L 50,150 L 50,200 L 0,200 Z\" color=\"black\" fill=\"none\" stroke=\"black\" transform=\"translate(3.500,-146.500) rotate(0.000,-3.500,146.500)\"/>\n",
              "\t<path d=\"M 50,0 L 100,0 L 100,50 L 50,50 Z\" color=\"black\" fill=\"none\" stroke=\"black\" transform=\"translate(-46.500,60.500) rotate(0.000,46.500,-3.500)\"/>\n",
              "\t<path d=\"M 100,0 L 150,0 L 150,50 L 100,50 Z\" color=\"black\" fill=\"none\" stroke=\"black\" transform=\"translate(-96.500,117.500) rotate(0.000,96.500,-3.500)\"/>\n",
              "\t<path d=\"M 50,50 L 100,50 L 100,100 L 50,100 Z\" color=\"black\" fill=\"none\" stroke=\"black\" transform=\"translate(10.500,-46.500) rotate(0.000,46.500,46.500)\"/>\n",
              "\t<path d=\"M 50,100 L 100,100 L 100,150 L 50,150 Z\" color=\"black\" fill=\"none\" stroke=\"black\" transform=\"translate(10.500,-39.500) rotate(0.000,46.500,96.500)\"/>\n",
              "\t<path d=\"M 50,150 L 100,150 L 100,200 L 50,200 Z\" color=\"black\" fill=\"none\" stroke=\"black\" transform=\"translate(10.500,-32.500) rotate(0.000,46.500,146.500)\"/>\n",
              "<rect x=\"2.0\" y=\"2.0\" width=\"110.0\" height=\"167.0\" stroke=\"red\" fill=\"none\" stroke-dasharray=\"4\"/></svg></div>"
            ]
          },
          "metadata": {}
        },
        {
          "output_type": "stream",
          "name": "stdout",
          "text": [
            "\n",
            "--- Candidate 7 ---\n",
            "Original Utilization: 0.517\n"
          ]
        },
        {
          "output_type": "display_data",
          "data": {
            "text/plain": [
              "<IPython.core.display.HTML object>"
            ],
            "text/html": [
              "<div style=\"width: 300px;\"><?xml version=\"1.0\" ?><svg xmlns=\"http://www.w3.org/2000/svg\" viewBox=\"0 0 300 300\">\n",
              "  <!-- Candidate 1: Classic cross candidate -->\n",
              "  <rect x=\"0\" y=\"50\" width=\"50\" height=\"50\" stroke=\"black\" fill=\"none\"/>\n",
              "  <rect x=\"100\" y=\"50\" width=\"50\" height=\"50\" stroke=\"black\" fill=\"none\"/>\n",
              "  <rect x=\"100\" y=\"0\" width=\"50\" height=\"50\" stroke=\"black\" fill=\"none\"/>\n",
              "  <rect x=\"50\" y=\"50\" width=\"50\" height=\"50\" stroke=\"black\" fill=\"none\"/>\n",
              "  <rect x=\"50\" y=\"100\" width=\"50\" height=\"50\" stroke=\"black\" fill=\"none\"/>\n",
              "  <rect x=\"50\" y=\"150\" width=\"50\" height=\"50\" stroke=\"black\" fill=\"none\"/>\n",
              "<rect x=\"-1.5\" y=\"-1.5\" width=\"153.0\" height=\"203.0\" stroke=\"red\" fill=\"none\" stroke-dasharray=\"4\"/></svg></div>"
            ]
          },
          "metadata": {}
        },
        {
          "output_type": "stream",
          "name": "stdout",
          "text": [
            "Packed Utilization: 0.917\n"
          ]
        },
        {
          "output_type": "display_data",
          "data": {
            "text/plain": [
              "<IPython.core.display.HTML object>"
            ],
            "text/html": [
              "<div style=\"width: 300px;\"><?xml version=\"1.0\" ?><svg viewBox=\"0 0 300 300\" width=\"223.0\" height=\"223.0\">\n",
              "\t<path d=\"M 0,50 L 50,50 L 50,100 L 0,100 Z\" color=\"black\" fill=\"none\" stroke=\"black\" transform=\"translate(3.500,-46.500) rotate(0.000,-3.500,46.500)\"/>\n",
              "\t<path d=\"M 100,50 L 150,50 L 150,100 L 100,100 Z\" color=\"black\" fill=\"none\" stroke=\"black\" transform=\"translate(-96.500,10.500) rotate(0.000,96.500,46.500)\"/>\n",
              "\t<path d=\"M 100,0 L 150,0 L 150,50 L 100,50 Z\" color=\"black\" fill=\"none\" stroke=\"black\" transform=\"translate(-96.500,117.500) rotate(0.000,96.500,-3.500)\"/>\n",
              "\t<path d=\"M 50,50 L 100,50 L 100,100 L 50,100 Z\" color=\"black\" fill=\"none\" stroke=\"black\" transform=\"translate(10.500,-46.500) rotate(0.000,46.500,46.500)\"/>\n",
              "\t<path d=\"M 50,100 L 100,100 L 100,150 L 50,150 Z\" color=\"black\" fill=\"none\" stroke=\"black\" transform=\"translate(10.500,-39.500) rotate(0.000,46.500,96.500)\"/>\n",
              "\t<path d=\"M 50,150 L 100,150 L 100,200 L 50,200 Z\" color=\"black\" fill=\"none\" stroke=\"black\" transform=\"translate(10.500,-32.500) rotate(0.000,46.500,146.500)\"/>\n",
              "<rect x=\"2.0\" y=\"2.0\" width=\"110.0\" height=\"167.0\" stroke=\"red\" fill=\"none\" stroke-dasharray=\"4\"/></svg></div>"
            ]
          },
          "metadata": {}
        },
        {
          "output_type": "stream",
          "name": "stdout",
          "text": [
            "\n",
            "--- Candidate 8 ---\n",
            "Original Utilization: 0.517\n"
          ]
        },
        {
          "output_type": "display_data",
          "data": {
            "text/plain": [
              "<IPython.core.display.HTML object>"
            ],
            "text/html": [
              "<div style=\"width: 300px;\"><?xml version=\"1.0\" ?><svg xmlns=\"http://www.w3.org/2000/svg\" viewBox=\"0 0 300 300\">\n",
              "  <!-- Candidate 1: Classic cross candidate -->\n",
              "  <rect x=\"0\" y=\"100\" width=\"50\" height=\"50\" stroke=\"black\" fill=\"none\"/>\n",
              "  <rect x=\"100\" y=\"50\" width=\"50\" height=\"50\" stroke=\"black\" fill=\"none\"/>\n",
              "  <rect x=\"100\" y=\"0\" width=\"50\" height=\"50\" stroke=\"black\" fill=\"none\"/>\n",
              "  <rect x=\"50\" y=\"50\" width=\"50\" height=\"50\" stroke=\"black\" fill=\"none\"/>\n",
              "  <rect x=\"50\" y=\"100\" width=\"50\" height=\"50\" stroke=\"black\" fill=\"none\"/>\n",
              "  <rect x=\"50\" y=\"150\" width=\"50\" height=\"50\" stroke=\"black\" fill=\"none\"/>\n",
              "<rect x=\"-1.5\" y=\"-1.5\" width=\"153.0\" height=\"203.0\" stroke=\"red\" fill=\"none\" stroke-dasharray=\"4\"/></svg></div>"
            ]
          },
          "metadata": {}
        },
        {
          "output_type": "stream",
          "name": "stdout",
          "text": [
            "Packed Utilization: 0.917\n"
          ]
        },
        {
          "output_type": "display_data",
          "data": {
            "text/plain": [
              "<IPython.core.display.HTML object>"
            ],
            "text/html": [
              "<div style=\"width: 300px;\"><?xml version=\"1.0\" ?><svg viewBox=\"0 0 300 300\" width=\"223.0\" height=\"223.0\">\n",
              "\t<path d=\"M 0,100 L 50,100 L 50,150 L 0,150 Z\" color=\"black\" fill=\"none\" stroke=\"black\" transform=\"translate(3.500,-96.500) rotate(0.000,-3.500,96.500)\"/>\n",
              "\t<path d=\"M 100,50 L 150,50 L 150,100 L 100,100 Z\" color=\"black\" fill=\"none\" stroke=\"black\" transform=\"translate(-96.500,10.500) rotate(0.000,96.500,46.500)\"/>\n",
              "\t<path d=\"M 100,0 L 150,0 L 150,50 L 100,50 Z\" color=\"black\" fill=\"none\" stroke=\"black\" transform=\"translate(-96.500,117.500) rotate(0.000,96.500,-3.500)\"/>\n",
              "\t<path d=\"M 50,50 L 100,50 L 100,100 L 50,100 Z\" color=\"black\" fill=\"none\" stroke=\"black\" transform=\"translate(10.500,-46.500) rotate(0.000,46.500,46.500)\"/>\n",
              "\t<path d=\"M 50,100 L 100,100 L 100,150 L 50,150 Z\" color=\"black\" fill=\"none\" stroke=\"black\" transform=\"translate(10.500,-39.500) rotate(0.000,46.500,96.500)\"/>\n",
              "\t<path d=\"M 50,150 L 100,150 L 100,200 L 50,200 Z\" color=\"black\" fill=\"none\" stroke=\"black\" transform=\"translate(10.500,-32.500) rotate(0.000,46.500,146.500)\"/>\n",
              "<rect x=\"2.0\" y=\"2.0\" width=\"110.0\" height=\"167.0\" stroke=\"red\" fill=\"none\" stroke-dasharray=\"4\"/></svg></div>"
            ]
          },
          "metadata": {}
        },
        {
          "output_type": "stream",
          "name": "stdout",
          "text": [
            "\n",
            "--- Candidate 9 ---\n",
            "Original Utilization: 0.517\n"
          ]
        },
        {
          "output_type": "display_data",
          "data": {
            "text/plain": [
              "<IPython.core.display.HTML object>"
            ],
            "text/html": [
              "<div style=\"width: 300px;\"><?xml version=\"1.0\" ?><svg xmlns=\"http://www.w3.org/2000/svg\" viewBox=\"0 0 300 300\">\n",
              "  <!-- Candidate 1: Classic cross candidate -->\n",
              "  <rect x=\"0\" y=\"100\" width=\"50\" height=\"50\" stroke=\"black\" fill=\"none\"/>\n",
              "  <rect x=\"50\" y=\"0\" width=\"50\" height=\"50\" stroke=\"black\" fill=\"none\"/>\n",
              "  <rect x=\"100\" y=\"0\" width=\"50\" height=\"50\" stroke=\"black\" fill=\"none\"/>\n",
              "  <rect x=\"50\" y=\"50\" width=\"50\" height=\"50\" stroke=\"black\" fill=\"none\"/>\n",
              "  <rect x=\"50\" y=\"100\" width=\"50\" height=\"50\" stroke=\"black\" fill=\"none\"/>\n",
              "  <rect x=\"0\" y=\"150\" width=\"50\" height=\"50\" stroke=\"black\" fill=\"none\"/>\n",
              "<rect x=\"-1.5\" y=\"-1.5\" width=\"153.0\" height=\"203.0\" stroke=\"red\" fill=\"none\" stroke-dasharray=\"4\"/></svg></div>"
            ]
          },
          "metadata": {}
        },
        {
          "output_type": "stream",
          "name": "stdout",
          "text": [
            "Packed Utilization: 0.917\n"
          ]
        },
        {
          "output_type": "display_data",
          "data": {
            "text/plain": [
              "<IPython.core.display.HTML object>"
            ],
            "text/html": [
              "<div style=\"width: 300px;\"><?xml version=\"1.0\" ?><svg viewBox=\"0 0 300 300\" width=\"223.0\" height=\"223.0\">\n",
              "\t<path d=\"M 0,100 L 50,100 L 50,150 L 0,150 Z\" color=\"black\" fill=\"none\" stroke=\"black\" transform=\"translate(3.500,-96.500) rotate(0.000,-3.500,96.500)\"/>\n",
              "\t<path d=\"M 50,0 L 100,0 L 100,50 L 50,50 Z\" color=\"black\" fill=\"none\" stroke=\"black\" transform=\"translate(-46.500,60.500) rotate(0.000,46.500,-3.500)\"/>\n",
              "\t<path d=\"M 100,0 L 150,0 L 150,50 L 100,50 Z\" color=\"black\" fill=\"none\" stroke=\"black\" transform=\"translate(-96.500,117.500) rotate(0.000,96.500,-3.500)\"/>\n",
              "\t<path d=\"M 50,50 L 100,50 L 100,100 L 50,100 Z\" color=\"black\" fill=\"none\" stroke=\"black\" transform=\"translate(10.500,-46.500) rotate(0.000,46.500,46.500)\"/>\n",
              "\t<path d=\"M 50,100 L 100,100 L 100,150 L 50,150 Z\" color=\"black\" fill=\"none\" stroke=\"black\" transform=\"translate(10.500,-39.500) rotate(0.000,46.500,96.500)\"/>\n",
              "\t<path d=\"M 0,150 L 50,150 L 50,200 L 0,200 Z\" color=\"black\" fill=\"none\" stroke=\"black\" transform=\"translate(60.500,-32.500) rotate(0.000,-3.500,146.500)\"/>\n",
              "<rect x=\"2.0\" y=\"2.0\" width=\"110.0\" height=\"167.0\" stroke=\"red\" fill=\"none\" stroke-dasharray=\"4\"/></svg></div>"
            ]
          },
          "metadata": {}
        },
        {
          "output_type": "stream",
          "name": "stdout",
          "text": [
            "\n",
            "--- Candidate 10 ---\n",
            "Original Utilization: 0.517\n"
          ]
        },
        {
          "output_type": "display_data",
          "data": {
            "text/plain": [
              "<IPython.core.display.HTML object>"
            ],
            "text/html": [
              "<div style=\"width: 300px;\"><?xml version=\"1.0\" ?><svg xmlns=\"http://www.w3.org/2000/svg\" viewBox=\"0 0 300 300\">\n",
              "  <!-- Candidate 1: Classic cross candidate -->\n",
              "  <rect x=\"0\" y=\"100\" width=\"50\" height=\"50\" stroke=\"black\" fill=\"none\"/>\n",
              "  <rect x=\"100\" y=\"50\" width=\"50\" height=\"50\" stroke=\"black\" fill=\"none\"/>\n",
              "  <rect x=\"100\" y=\"0\" width=\"50\" height=\"50\" stroke=\"black\" fill=\"none\"/>\n",
              "  <rect x=\"50\" y=\"50\" width=\"50\" height=\"50\" stroke=\"black\" fill=\"none\"/>\n",
              "  <rect x=\"50\" y=\"100\" width=\"50\" height=\"50\" stroke=\"black\" fill=\"none\"/>\n",
              "  <rect x=\"0\" y=\"150\" width=\"50\" height=\"50\" stroke=\"black\" fill=\"none\"/>\n",
              "<rect x=\"-1.5\" y=\"-1.5\" width=\"153.0\" height=\"203.0\" stroke=\"red\" fill=\"none\" stroke-dasharray=\"4\"/></svg></div>"
            ]
          },
          "metadata": {}
        },
        {
          "output_type": "stream",
          "name": "stdout",
          "text": [
            "Packed Utilization: 0.917\n"
          ]
        },
        {
          "output_type": "display_data",
          "data": {
            "text/plain": [
              "<IPython.core.display.HTML object>"
            ],
            "text/html": [
              "<div style=\"width: 300px;\"><?xml version=\"1.0\" ?><svg viewBox=\"0 0 300 300\" width=\"223.0\" height=\"223.0\">\n",
              "\t<path d=\"M 0,100 L 50,100 L 50,150 L 0,150 Z\" color=\"black\" fill=\"none\" stroke=\"black\" transform=\"translate(3.500,-96.500) rotate(0.000,-3.500,96.500)\"/>\n",
              "\t<path d=\"M 100,50 L 150,50 L 150,100 L 100,100 Z\" color=\"black\" fill=\"none\" stroke=\"black\" transform=\"translate(-96.500,10.500) rotate(0.000,96.500,46.500)\"/>\n",
              "\t<path d=\"M 100,0 L 150,0 L 150,50 L 100,50 Z\" color=\"black\" fill=\"none\" stroke=\"black\" transform=\"translate(-96.500,117.500) rotate(0.000,96.500,-3.500)\"/>\n",
              "\t<path d=\"M 50,50 L 100,50 L 100,100 L 50,100 Z\" color=\"black\" fill=\"none\" stroke=\"black\" transform=\"translate(10.500,-46.500) rotate(0.000,46.500,46.500)\"/>\n",
              "\t<path d=\"M 50,100 L 100,100 L 100,150 L 50,150 Z\" color=\"black\" fill=\"none\" stroke=\"black\" transform=\"translate(10.500,-39.500) rotate(0.000,46.500,96.500)\"/>\n",
              "\t<path d=\"M 0,150 L 50,150 L 50,200 L 0,200 Z\" color=\"black\" fill=\"none\" stroke=\"black\" transform=\"translate(60.500,-32.500) rotate(0.000,-3.500,146.500)\"/>\n",
              "<rect x=\"2.0\" y=\"2.0\" width=\"110.0\" height=\"167.0\" stroke=\"red\" fill=\"none\" stroke-dasharray=\"4\"/></svg></div>"
            ]
          },
          "metadata": {}
        },
        {
          "output_type": "stream",
          "name": "stdout",
          "text": [
            "\n",
            "--- Candidate 11 ---\n",
            "Original Utilization: 0.616\n"
          ]
        },
        {
          "output_type": "display_data",
          "data": {
            "text/plain": [
              "<IPython.core.display.HTML object>"
            ],
            "text/html": [
              "<div style=\"width: 300px;\"><?xml version=\"1.0\" ?><svg xmlns=\"http://www.w3.org/2000/svg\" viewBox=\"0 0 300 300\">\n",
              "  <!-- Candidate 1: Classic cross candidate -->\n",
              "  <rect x=\"50\" y=\"0\" width=\"50\" height=\"50\" stroke=\"black\" fill=\"none\"/>\n",
              "  <rect x=\"50\" y=\"50\" width=\"50\" height=\"50\" stroke=\"black\" fill=\"none\"/>\n",
              "  <rect x=\"50\" y=\"100\" width=\"50\" height=\"50\" stroke=\"black\" fill=\"none\"/>\n",
              "  <rect x=\"0\" y=\"100\" width=\"50\" height=\"50\" stroke=\"black\" fill=\"none\"/>\n",
              "  <rect x=\"0\" y=\"150\" width=\"50\" height=\"50\" stroke=\"black\" fill=\"none\"/>\n",
              "  <rect x=\"0\" y=\"200\" width=\"50\" height=\"50\" stroke=\"black\" fill=\"none\"/>\n",
              "<rect x=\"-1.5\" y=\"-1.5\" width=\"103.0\" height=\"253.0\" stroke=\"red\" fill=\"none\" stroke-dasharray=\"4\"/></svg></div>"
            ]
          },
          "metadata": {}
        },
        {
          "output_type": "stream",
          "name": "stdout",
          "text": [
            "Packed Utilization: 0.684\n"
          ]
        },
        {
          "output_type": "display_data",
          "data": {
            "text/plain": [
              "<IPython.core.display.HTML object>"
            ],
            "text/html": [
              "<div style=\"width: 300px;\"><?xml version=\"1.0\" ?><svg viewBox=\"0 0 300 300\" width=\"273.0\" height=\"273.0\">\n",
              "\t<path d=\"M 50,0 L 100,0 L 100,50 L 50,50 Z\" color=\"black\" fill=\"none\" stroke=\"black\" transform=\"translate(-46.500,3.500) rotate(0.000,46.500,-3.500)\"/>\n",
              "\t<path d=\"M 50,50 L 100,50 L 100,100 L 50,100 Z\" color=\"black\" fill=\"none\" stroke=\"black\" transform=\"translate(-46.500,10.500) rotate(0.000,46.500,46.500)\"/>\n",
              "\t<path d=\"M 50,100 L 100,100 L 100,150 L 50,150 Z\" color=\"black\" fill=\"none\" stroke=\"black\" transform=\"translate(-46.500,17.500) rotate(0.000,46.500,96.500)\"/>\n",
              "\t<path d=\"M 0,100 L 50,100 L 50,150 L 0,150 Z\" color=\"black\" fill=\"none\" stroke=\"black\" transform=\"translate(3.500,74.500) rotate(0.000,-3.500,96.500)\"/>\n",
              "\t<path d=\"M 0,150 L 50,150 L 50,200 L 0,200 Z\" color=\"black\" fill=\"none\" stroke=\"black\" transform=\"translate(60.500,-146.500) rotate(0.000,-3.500,146.500)\"/>\n",
              "\t<path d=\"M 0,200 L 50,200 L 50,250 L 0,250 Z\" color=\"black\" fill=\"none\" stroke=\"black\" transform=\"translate(60.500,-139.500) rotate(0.000,-3.500,196.500)\"/>\n",
              "<rect x=\"2.0\" y=\"2.0\" width=\"110.0\" height=\"224.0\" stroke=\"red\" fill=\"none\" stroke-dasharray=\"4\"/></svg></div>"
            ]
          },
          "metadata": {}
        },
        {
          "output_type": "stream",
          "name": "stdout",
          "text": [
            "\n",
            "=== Optimal Packing ===\n",
            "Maximum Utilization Achieved: 0.917\n"
          ]
        },
        {
          "output_type": "display_data",
          "data": {
            "text/plain": [
              "<IPython.core.display.HTML object>"
            ],
            "text/html": [
              "<div style=\"width: 300px;\"><?xml version=\"1.0\" ?><svg viewBox=\"0 0 300 300\" width=\"223.0\" height=\"223.0\">\n",
              "\t<path d=\"M 0,0 L 50,0 L 50,50 L 0,50 Z\" color=\"black\" fill=\"none\" stroke=\"black\" transform=\"translate(3.500,3.500) rotate(0.000,-3.500,-3.500)\"/>\n",
              "\t<path d=\"M 50,0 L 100,0 L 100,50 L 50,50 Z\" color=\"black\" fill=\"none\" stroke=\"black\" transform=\"translate(-46.500,60.500) rotate(0.000,46.500,-3.500)\"/>\n",
              "\t<path d=\"M 100,0 L 150,0 L 150,50 L 100,50 Z\" color=\"black\" fill=\"none\" stroke=\"black\" transform=\"translate(-96.500,117.500) rotate(0.000,96.500,-3.500)\"/>\n",
              "\t<path d=\"M 50,50 L 100,50 L 100,100 L 50,100 Z\" color=\"black\" fill=\"none\" stroke=\"black\" transform=\"translate(10.500,-46.500) rotate(0.000,46.500,46.500)\"/>\n",
              "\t<path d=\"M 50,100 L 100,100 L 100,150 L 50,150 Z\" color=\"black\" fill=\"none\" stroke=\"black\" transform=\"translate(10.500,-39.500) rotate(0.000,46.500,96.500)\"/>\n",
              "\t<path d=\"M 50,150 L 100,150 L 100,200 L 50,200 Z\" color=\"black\" fill=\"none\" stroke=\"black\" transform=\"translate(10.500,-32.500) rotate(0.000,46.500,146.500)\"/>\n",
              "<rect x=\"2.0\" y=\"2.0\" width=\"110.0\" height=\"167.0\" stroke=\"red\" fill=\"none\" stroke-dasharray=\"4\"/></svg></div>"
            ]
          },
          "metadata": {}
        }
      ]
    }
  ]
}
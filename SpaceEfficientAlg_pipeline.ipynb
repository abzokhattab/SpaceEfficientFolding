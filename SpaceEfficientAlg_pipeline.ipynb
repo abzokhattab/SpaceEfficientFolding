{
  "nbformat": 4,
  "nbformat_minor": 0,
  "metadata": {
    "colab": {
      "provenance": [],
      "collapsed_sections": [
        "yKa8RuPhsyR7",
        "cdTOW_UltDsp",
        "M3FOA5QHtR5m"
      ],
      "include_colab_link": true
    },
    "kernelspec": {
      "name": "python3",
      "display_name": "Python 3"
    },
    "language_info": {
      "name": "python"
    }
  },
  "cells": [
    {
      "cell_type": "markdown",
      "metadata": {
        "id": "view-in-github",
        "colab_type": "text"
      },
      "source": [
        "<a href=\"https://colab.research.google.com/github/abzokhattab/SpaceEfficientFolding/blob/main/SpaceEfficientAlg_pipeline.ipynb\" target=\"_parent\"><img src=\"https://colab.research.google.com/assets/colab-badge.svg\" alt=\"Open In Colab\"/></a>"
      ]
    },
    {
      "cell_type": "markdown",
      "source": [
        "#Requirements and Packaide Setup"
      ],
      "metadata": {
        "id": "yKa8RuPhsyR7"
      }
    },
    {
      "cell_type": "code",
      "execution_count": null,
      "metadata": {
        "colab": {
          "base_uri": "https://localhost:8080/"
        },
        "collapsed": true,
        "id": "pZq3dh3IssiL",
        "outputId": "d7167844-5ae6-4f32-ab9b-1595d9b9fccb"
      },
      "outputs": [
        {
          "output_type": "stream",
          "name": "stdout",
          "text": [
            "W: Skipping acquire of configured file 'main/source/Sources' as repository 'https://r2u.stat.illinois.edu/ubuntu jammy InRelease' does not seem to provide it (sources.list entry misspelt?)\n",
            "Reading package lists... Done\n",
            "Building dependency tree... Done\n",
            "Reading state information... Done\n",
            "cmake is already the newest version (3.22.1-1ubuntu1.22.04.2).\n",
            "0 upgraded, 0 newly installed, 0 to remove and 22 not upgraded.\n",
            "Reading package lists... Done\n",
            "Building dependency tree... Done\n",
            "Reading state information... Done\n",
            "libboost-all-dev is already the newest version (1.74.0.3ubuntu7).\n",
            "0 upgraded, 0 newly installed, 0 to remove and 22 not upgraded.\n",
            "Reading package lists... Done\n",
            "Building dependency tree... Done\n",
            "Reading state information... Done\n",
            "The following additional packages will be installed:\n",
            "  libgmp-dev libgmpxx4ldbl libmpfr-dev\n",
            "Suggested packages:\n",
            "  libmpfi-dev libntl-dev gmp-doc libgmp10-doc libmpfr-doc\n",
            "The following NEW packages will be installed:\n",
            "  libcgal-dev libgmp-dev libgmpxx4ldbl libmpfr-dev\n",
            "0 upgraded, 4 newly installed, 0 to remove and 22 not upgraded.\n",
            "Need to get 5,402 kB of archives.\n",
            "After this operation, 43.7 MB of additional disk space will be used.\n",
            "Get:1 http://archive.ubuntu.com/ubuntu jammy/main amd64 libgmpxx4ldbl amd64 2:6.2.1+dfsg-3ubuntu1 [9,580 B]\n",
            "Get:2 http://archive.ubuntu.com/ubuntu jammy/main amd64 libgmp-dev amd64 2:6.2.1+dfsg-3ubuntu1 [337 kB]\n",
            "Get:3 http://archive.ubuntu.com/ubuntu jammy/main amd64 libmpfr-dev amd64 4.1.0-3build3 [271 kB]\n",
            "Get:4 http://archive.ubuntu.com/ubuntu jammy/universe amd64 libcgal-dev amd64 5.4-1 [4,784 kB]\n",
            "Fetched 5,402 kB in 1s (4,002 kB/s)\n",
            "debconf: unable to initialize frontend: Dialog\n",
            "debconf: (No usable dialog-like program is installed, so the dialog based frontend cannot be used. at /usr/share/perl5/Debconf/FrontEnd/Dialog.pm line 78, <> line 4.)\n",
            "debconf: falling back to frontend: Readline\n",
            "debconf: unable to initialize frontend: Readline\n",
            "debconf: (This frontend requires a controlling tty.)\n",
            "debconf: falling back to frontend: Teletype\n",
            "dpkg-preconfigure: unable to re-open stdin: \n",
            "Selecting previously unselected package libgmpxx4ldbl:amd64.\n",
            "(Reading database ... 124950 files and directories currently installed.)\n",
            "Preparing to unpack .../libgmpxx4ldbl_2%3a6.2.1+dfsg-3ubuntu1_amd64.deb ...\n",
            "Unpacking libgmpxx4ldbl:amd64 (2:6.2.1+dfsg-3ubuntu1) ...\n",
            "Selecting previously unselected package libgmp-dev:amd64.\n",
            "Preparing to unpack .../libgmp-dev_2%3a6.2.1+dfsg-3ubuntu1_amd64.deb ...\n",
            "Unpacking libgmp-dev:amd64 (2:6.2.1+dfsg-3ubuntu1) ...\n",
            "Selecting previously unselected package libmpfr-dev:amd64.\n",
            "Preparing to unpack .../libmpfr-dev_4.1.0-3build3_amd64.deb ...\n",
            "Unpacking libmpfr-dev:amd64 (4.1.0-3build3) ...\n",
            "Selecting previously unselected package libcgal-dev:amd64.\n",
            "Preparing to unpack .../libcgal-dev_5.4-1_amd64.deb ...\n",
            "Unpacking libcgal-dev:amd64 (5.4-1) ...\n",
            "Setting up libgmpxx4ldbl:amd64 (2:6.2.1+dfsg-3ubuntu1) ...\n",
            "Setting up libgmp-dev:amd64 (2:6.2.1+dfsg-3ubuntu1) ...\n",
            "Setting up libmpfr-dev:amd64 (4.1.0-3build3) ...\n",
            "Setting up libcgal-dev:amd64 (5.4-1) ...\n",
            "Processing triggers for man-db (2.10.2-1) ...\n",
            "Processing triggers for libc-bin (2.35-0ubuntu3.8) ...\n",
            "/sbin/ldconfig.real: /usr/local/lib/libumf.so.0 is not a symbolic link\n",
            "\n",
            "/sbin/ldconfig.real: /usr/local/lib/libtcm.so.1 is not a symbolic link\n",
            "\n",
            "/sbin/ldconfig.real: /usr/local/lib/libur_adapter_opencl.so.0 is not a symbolic link\n",
            "\n",
            "/sbin/ldconfig.real: /usr/local/lib/libtbbbind_2_0.so.3 is not a symbolic link\n",
            "\n",
            "/sbin/ldconfig.real: /usr/local/lib/libtbbbind_2_5.so.3 is not a symbolic link\n",
            "\n",
            "/sbin/ldconfig.real: /usr/local/lib/libtbbmalloc.so.2 is not a symbolic link\n",
            "\n",
            "/sbin/ldconfig.real: /usr/local/lib/libtbbbind.so.3 is not a symbolic link\n",
            "\n",
            "/sbin/ldconfig.real: /usr/local/lib/libur_adapter_level_zero.so.0 is not a symbolic link\n",
            "\n",
            "/sbin/ldconfig.real: /usr/local/lib/libtcm_debug.so.1 is not a symbolic link\n",
            "\n",
            "/sbin/ldconfig.real: /usr/local/lib/libhwloc.so.15 is not a symbolic link\n",
            "\n",
            "/sbin/ldconfig.real: /usr/local/lib/libtbb.so.12 is not a symbolic link\n",
            "\n",
            "/sbin/ldconfig.real: /usr/local/lib/libtbbmalloc_proxy.so.2 is not a symbolic link\n",
            "\n",
            "/sbin/ldconfig.real: /usr/local/lib/libur_loader.so.0 is not a symbolic link\n",
            "\n",
            "Reading package lists... Done\n",
            "Building dependency tree... Done\n",
            "Reading state information... Done\n",
            "build-essential is already the newest version (12.9ubuntu3).\n",
            "git is already the newest version (1:2.34.1-1ubuntu1.12).\n",
            "0 upgraded, 0 newly installed, 0 to remove and 22 not upgraded.\n",
            "Reading package lists... Done\n",
            "Building dependency tree... Done\n",
            "Reading state information... Done\n",
            "python3-dev is already the newest version (3.10.6-1~22.04.1).\n",
            "python3-dev set to manually installed.\n",
            "0 upgraded, 0 newly installed, 0 to remove and 22 not upgraded.\n"
          ]
        }
      ],
      "source": [
        "# Update package lists quietly\n",
        "!sudo apt-get update -qq\n",
        "\n",
        "# Install CMake (version 3.13+)\n",
        "!sudo apt-get install -y cmake\n",
        "\n",
        "# Install Boost libraries (including Boost.Python)\n",
        "!sudo apt-get install -y libboost-all-dev\n",
        "\n",
        "# Install CGAL and its dependencies\n",
        "!sudo apt-get install -y libcgal-dev\n",
        "\n",
        "# Install other essential build tools\n",
        "!sudo apt-get install -y build-essential git\n",
        "\n",
        "# Install Python development headers (required for building Python bindings)\n",
        "!sudo apt-get install -y python3-dev"
      ]
    },
    {
      "cell_type": "code",
      "source": [
        "# Install Python packages\n",
        "!pip install shapely svgwrite parameterized svgelements libigl #igl"
      ],
      "metadata": {
        "colab": {
          "base_uri": "https://localhost:8080/"
        },
        "collapsed": true,
        "id": "KSXN1RYzs5-g",
        "outputId": "24f63f5f-748c-48c7-e8e3-f8a17d3fc954"
      },
      "execution_count": null,
      "outputs": [
        {
          "output_type": "stream",
          "name": "stdout",
          "text": [
            "Requirement already satisfied: shapely in /usr/local/lib/python3.11/dist-packages (2.0.6)\n",
            "Requirement already satisfied: svgwrite in /usr/local/lib/python3.11/dist-packages (1.4.3)\n",
            "Requirement already satisfied: parameterized in /usr/local/lib/python3.11/dist-packages (0.9.0)\n",
            "Requirement already satisfied: svgelements in /usr/local/lib/python3.11/dist-packages (1.9.6)\n",
            "Collecting libigl\n",
            "  Downloading libigl-2.5.1-cp311-cp311-manylinux_2_17_x86_64.manylinux2014_x86_64.whl.metadata (2.3 kB)\n",
            "Requirement already satisfied: numpy<3,>=1.14 in /usr/local/lib/python3.11/dist-packages (from shapely) (1.26.4)\n",
            "Requirement already satisfied: scipy in /usr/local/lib/python3.11/dist-packages (from libigl) (1.13.1)\n",
            "Downloading libigl-2.5.1-cp311-cp311-manylinux_2_17_x86_64.manylinux2014_x86_64.whl (16.2 MB)\n",
            "\u001b[2K   \u001b[90m━━━━━━━━━━━━━━━━━━━━━━━━━━━━━━━━━━━━━━━━\u001b[0m \u001b[32m16.2/16.2 MB\u001b[0m \u001b[31m48.3 MB/s\u001b[0m eta \u001b[36m0:00:00\u001b[0m\n",
            "\u001b[?25hInstalling collected packages: libigl\n",
            "Successfully installed libigl-2.5.1\n"
          ]
        }
      ]
    },
    {
      "cell_type": "code",
      "source": [
        "# Clone the Packaide repository\n",
        "!git clone https://github.com/DanielLiamAnderson/Packaide.git"
      ],
      "metadata": {
        "colab": {
          "base_uri": "https://localhost:8080/"
        },
        "collapsed": true,
        "id": "7xsH599rs8MD",
        "outputId": "baa1b348-2a44-4e93-b768-3f8ca2d8c736"
      },
      "execution_count": null,
      "outputs": [
        {
          "output_type": "stream",
          "name": "stdout",
          "text": [
            "Cloning into 'Packaide'...\n",
            "remote: Enumerating objects: 583, done.\u001b[K\n",
            "remote: Counting objects: 100% (117/117), done.\u001b[K\n",
            "remote: Compressing objects: 100% (63/63), done.\u001b[K\n",
            "remote: Total 583 (delta 51), reused 86 (delta 29), pack-reused 466 (from 1)\u001b[K\n",
            "Receiving objects: 100% (583/583), 300.82 KiB | 2.69 MiB/s, done.\n",
            "Resolving deltas: 100% (263/263), done.\n"
          ]
        }
      ]
    },
    {
      "cell_type": "code",
      "source": [
        "# Create a build directory and navigate into it\n",
        "# always come back to the parent dir if you don't want a problem\n",
        "%cd /content/Packaide\n",
        "!mkdir build\n",
        "%cd build\n",
        "\n",
        "# Configure the build with CMake\n",
        "!cmake -DBUILD_PYTHON_BINDINGS=ON ..\n",
        "\n",
        "# Compile the library using all available CPU cores\n",
        "!make -j$(nproc)\n",
        "!make check\n",
        "!sudo make install\n",
        "\n",
        "%cd /content/Packaide/python\n",
        "!pip install ."
      ],
      "metadata": {
        "colab": {
          "base_uri": "https://localhost:8080/"
        },
        "collapsed": true,
        "id": "DsNHoiu7s-Z1",
        "outputId": "0cae55b8-db9c-418e-90e0-b9607df400b1"
      },
      "execution_count": null,
      "outputs": [
        {
          "output_type": "stream",
          "name": "stdout",
          "text": [
            "/content/Packaide\n",
            "/content/Packaide/build\n",
            "-- The CXX compiler identification is GNU 11.4.0\n",
            "-- Detecting CXX compiler ABI info\n",
            "-- Detecting CXX compiler ABI info - done\n",
            "-- Check for working CXX compiler: /usr/bin/c++ - skipped\n",
            "-- Detecting CXX compile features\n",
            "-- Detecting CXX compile features - done\n",
            "-- --------------- General configuration -------------\n",
            "-- CMake Generator:                Unix Makefiles\n",
            "-- Compiler:                       GNU 11.4.0\n",
            "-- Build type:                     Release\n",
            "-- CMAKE_CXX_FLAGS:                \n",
            "-- CMAKE_CXX_FLAGS_DEBUG:          -g\n",
            "-- CMAKE_CXX_FLAGS_RELEASE:        -O3 -DNDEBUG\n",
            "-- CMAKE_CXX_FLAGS_RELWITHDEBINFO: -O2 -g -DNDEBUG -fno-omit-frame-pointer\n",
            "-- CMAKE_EXE_LINKER_FLAGS          \n",
            "-- CMAKE_INSTALL_PREFIX:           /usr/local\n",
            "-- ---------------------------------------------------\n",
            "\u001b[33mCMake Warning at /usr/lib/x86_64-linux-gnu/cmake/CGAL/CGALConfig.cmake:92 (message):\n",
            "  CGAL_DATA_DIR cannot be deduced, set the variable CGAL_DATA_DIR to set the\n",
            "  default value of CGAL::data_file_path()\n",
            "Call Stack (most recent call first):\n",
            "  CMakeLists.txt:51 (find_package)\n",
            "\n",
            "\u001b[0m\n",
            "-- Using header-only CGAL\n",
            "-- Targetting Unix Makefiles\n",
            "-- Using /usr/bin/c++ compiler.\n",
            "-- Found GMP: /usr/lib/x86_64-linux-gnu/libgmp.so\n",
            "-- Found MPFR: /usr/lib/x86_64-linux-gnu/libmpfr.so\n",
            "\u001b[33mCMake Warning (dev) at /usr/lib/x86_64-linux-gnu/cmake/CGAL/CGAL_SetupBoost.cmake:20 (find_package):\n",
            "  Policy CMP0167 is not set: The FindBoost module is removed.  Run \"cmake\n",
            "  --help-policy CMP0167\" for policy details.  Use the cmake_policy command to\n",
            "  set the policy and suppress this warning.\n",
            "\n",
            "Call Stack (most recent call first):\n",
            "  /usr/lib/x86_64-linux-gnu/cmake/CGAL/CGAL_SetupCGALDependencies.cmake:47 (include)\n",
            "  /usr/lib/x86_64-linux-gnu/cmake/CGAL/CGALConfig.cmake:153 (include)\n",
            "  CMakeLists.txt:51 (find_package)\n",
            "This warning is for project developers.  Use -Wno-dev to suppress it.\n",
            "\u001b[0m\n",
            "-- Found Boost: /usr/lib/x86_64-linux-gnu/cmake/Boost-1.74.0/BoostConfig.cmake (found suitable version \"1.74.0\", minimum required is \"1.48\")\n",
            "-- Boost include dirs: /usr/include\n",
            "-- Boost libraries:    \n",
            "-- Performing Test CMAKE_HAVE_LIBC_PTHREAD\n",
            "-- Performing Test CMAKE_HAVE_LIBC_PTHREAD - Success\n",
            "-- Found Threads: TRUE\n",
            "-- Using gcc version 4 or later. Adding -frounding-math\n",
            "-- Found Python3: /usr/local/bin/python (found version \"3.11.11\") found components: Interpreter\n",
            "\u001b[33mCMake Warning (dev) at src/CMakeLists.txt:11 (find_package):\n",
            "  Policy CMP0148 is not set: The FindPythonInterp and FindPythonLibs modules\n",
            "  are removed.  Run \"cmake --help-policy CMP0148\" for policy details.  Use\n",
            "  the cmake_policy command to set the policy and suppress this warning.\n",
            "\n",
            "This warning is for project developers.  Use -Wno-dev to suppress it.\n",
            "\u001b[0m\n",
            "-- Found PythonLibs: /usr/lib/x86_64-linux-gnu/libpython3.11.so (found version \"3.11.11\")\n",
            "\u001b[33mCMake Warning (dev) at src/CMakeLists.txt:12 (find_package):\n",
            "  Policy CMP0167 is not set: The FindBoost module is removed.  Run \"cmake\n",
            "  --help-policy CMP0167\" for policy details.  Use the cmake_policy command to\n",
            "  set the policy and suppress this warning.\n",
            "\n",
            "This warning is for project developers.  Use -Wno-dev to suppress it.\n",
            "\u001b[0m\n",
            "-- Found Boost: /usr/lib/x86_64-linux-gnu/cmake/Boost-1.74.0/BoostConfig.cmake (found version \"1.74.0\") found components: system python\n",
            "-- Configuring done (11.2s)\n",
            "-- Generating done (0.0s)\n",
            "\u001b[33mCMake Warning:\n",
            "  Manually-specified variables were not used by the project:\n",
            "\n",
            "    BUILD_PYTHON_BINDINGS\n",
            "\n",
            "\u001b[0m\n",
            "-- Build files have been written to: /content/Packaide/build\n",
            "[ 50%] \u001b[32mBuilding CXX object src/CMakeFiles/PackaideBindings.dir/bindings.cpp.o\u001b[0m\n",
            "In file included from \u001b[01m\u001b[K/usr/include/boost/smart_ptr/detail/sp_thread_sleep.hpp:22\u001b[m\u001b[K,\n",
            "                 from \u001b[01m\u001b[K/usr/include/boost/smart_ptr/detail/yield_k.hpp:23\u001b[m\u001b[K,\n",
            "                 from \u001b[01m\u001b[K/usr/include/boost/smart_ptr/detail/spinlock_gcc_atomic.hpp:14\u001b[m\u001b[K,\n",
            "                 from \u001b[01m\u001b[K/usr/include/boost/smart_ptr/detail/spinlock.hpp:42\u001b[m\u001b[K,\n",
            "                 from \u001b[01m\u001b[K/usr/include/boost/smart_ptr/detail/spinlock_pool.hpp:25\u001b[m\u001b[K,\n",
            "                 from \u001b[01m\u001b[K/usr/include/boost/smart_ptr/shared_ptr.hpp:29\u001b[m\u001b[K,\n",
            "                 from \u001b[01m\u001b[K/usr/include/boost/shared_ptr.hpp:17\u001b[m\u001b[K,\n",
            "                 from \u001b[01m\u001b[K/usr/include/boost/python/converter/shared_ptr_to_python.hpp:12\u001b[m\u001b[K,\n",
            "                 from \u001b[01m\u001b[K/usr/include/boost/python/converter/arg_to_python.hpp:15\u001b[m\u001b[K,\n",
            "                 from \u001b[01m\u001b[K/usr/include/boost/python/call.hpp:15\u001b[m\u001b[K,\n",
            "                 from \u001b[01m\u001b[K/usr/include/boost/python/object_core.hpp:14\u001b[m\u001b[K,\n",
            "                 from \u001b[01m\u001b[K/usr/include/boost/python/args.hpp:22\u001b[m\u001b[K,\n",
            "                 from \u001b[01m\u001b[K/usr/include/boost/python.hpp:11\u001b[m\u001b[K,\n",
            "                 from \u001b[01m\u001b[K/content/Packaide/src/bindings.cpp:5\u001b[m\u001b[K:\n",
            "\u001b[01m\u001b[K/usr/include/boost/bind.hpp:36:1:\u001b[m\u001b[K \u001b[01;36m\u001b[Knote: \u001b[m\u001b[K‘\u001b[01m\u001b[K#pragma message: The practice of declaring the Bind placeholders (_1, _2, ...) in the global namespace is deprecated. Please use <boost/bind/bind.hpp> + using namespace boost::placeholders, or define BOOST_BIND_GLOBAL_PLACEHOLDERS to retain the current behavior.\u001b[m\u001b[K’\n",
            "   36 | \u001b[01;36m\u001b[KBOOST_PRAGMA_MESSAGE\u001b[m\u001b[K(\n",
            "      | \u001b[01;36m\u001b[K^~~~~~~~~~~~~~~~~~~~\u001b[m\u001b[K\n",
            "\u001b[01m\u001b[K/usr/include/boost/detail/iterator.hpp:13:1:\u001b[m\u001b[K \u001b[01;36m\u001b[Knote: \u001b[m\u001b[K‘\u001b[01m\u001b[K#pragma message: This header is deprecated. Use <iterator> instead.\u001b[m\u001b[K’\n",
            "   13 | \u001b[01;36m\u001b[KBOOST_HEADER_DEPRECATED\u001b[m\u001b[K(\"<iterator>\")\n",
            "      | \u001b[01;36m\u001b[K^~~~~~~~~~~~~~~~~~~~~~~\u001b[m\u001b[K\n",
            "[100%] \u001b[32m\u001b[1mLinking CXX shared library PackaideBindings.so\u001b[0m\n",
            "[100%] Built target PackaideBindings\n",
            "[100%] Built target PackaideBindings\n",
            "Test project /content/Packaide/build\n",
            "      Start  1: DatasetPackingTests.test_blank_sheet_00_bee\n",
            " 1/28 Test  #1: DatasetPackingTests.test_blank_sheet_00_bee ................   Passed    1.26 sec\n",
            "      Start  2: DatasetPackingTests.test_blank_sheet_01_kyub1\n",
            " 2/28 Test  #2: DatasetPackingTests.test_blank_sheet_01_kyub1 ..............   Passed    1.65 sec\n",
            "      Start  3: DatasetPackingTests.test_blank_sheet_02_man\n",
            " 3/28 Test  #3: DatasetPackingTests.test_blank_sheet_02_man ................   Passed    0.65 sec\n",
            "      Start  4: DatasetPackingTests.test_blank_sheet_03_heel\n",
            " 4/28 Test  #4: DatasetPackingTests.test_blank_sheet_03_heel ...............   Passed    6.14 sec\n",
            "      Start  5: DatasetPackingTests.test_blank_sheet_04_alluserdesigns_0\n",
            " 5/28 Test  #5: DatasetPackingTests.test_blank_sheet_04_alluserdesigns_0 ...***Failed    3.00 sec\n",
            "test_blank_sheet_04_alluserdesigns_0 (__main__.DatasetPackingTests.test_blank_sheet_04_alluserdesigns_0) ... ERROR\n",
            "\n",
            "======================================================================\n",
            "ERROR: test_blank_sheet_04_alluserdesigns_0 (__main__.DatasetPackingTests.test_blank_sheet_04_alluserdesigns_0)\n",
            "----------------------------------------------------------------------\n",
            "Traceback (most recent call last):\n",
            "  File \"/usr/local/lib/python3.11/dist-packages/parameterized/parameterized.py\", line 620, in standalone_func\n",
            "    return func(*(a + p.args), **p.kwargs, **kw)\n",
            "           ^^^^^^^^^^^^^^^^^^^^^^^^^^^^^^^^^^^^^\n",
            "  File \"/content/Packaide/test/test_packing.py\", line 157, in test_blank_sheet\n",
            "    solution, placed, not_placed = packaide.pack(sheets, shapes, tolerance = tolerance, offset = offset, partial_solution = False, rotations = 1, persist = False)\n",
            "                                   ^^^^^^^^^^^^^^^^^^^^^^^^^^^^^^^^^^^^^^^^^^^^^^^^^^^^^^^^^^^^^^^^^^^^^^^^^^^^^^^^^^^^^^^^^^^^^^^^^^^^^^^^^^^^^^^^^^^^^^^^^^^^^^^\n",
            "  File \"/content/Packaide/python/packaide/packaide.py\", line 247, in pack\n",
            "    elements, polygons = extract_polygons(shapes, tolerance, offset)\n",
            "                         ^^^^^^^^^^^^^^^^^^^^^^^^^^^^^^^^^^^^^^^^^^^\n",
            "  File \"/content/Packaide/python/packaide/packaide.py\", line 155, in extract_polygons\n",
            "    for minihole in list(hole):\n",
            "                    ^^^^^^^^^^\n",
            "TypeError: 'MultiPolygon' object is not iterable\n",
            "\n",
            "----------------------------------------------------------------------\n",
            "Ran 1 test in 2.487s\n",
            "\n",
            "FAILED (errors=1)\n",
            "\n",
            "      Start  6: DatasetPackingTests.test_blank_sheet_05_alluserdesigns_1\n",
            " 6/28 Test  #6: DatasetPackingTests.test_blank_sheet_05_alluserdesigns_1 ...***Failed    1.53 sec\n",
            "test_blank_sheet_05_alluserdesigns_1 (__main__.DatasetPackingTests.test_blank_sheet_05_alluserdesigns_1) ... ERROR\n",
            "\n",
            "======================================================================\n",
            "ERROR: test_blank_sheet_05_alluserdesigns_1 (__main__.DatasetPackingTests.test_blank_sheet_05_alluserdesigns_1)\n",
            "----------------------------------------------------------------------\n",
            "Traceback (most recent call last):\n",
            "  File \"/usr/local/lib/python3.11/dist-packages/parameterized/parameterized.py\", line 620, in standalone_func\n",
            "    return func(*(a + p.args), **p.kwargs, **kw)\n",
            "           ^^^^^^^^^^^^^^^^^^^^^^^^^^^^^^^^^^^^^\n",
            "  File \"/content/Packaide/test/test_packing.py\", line 157, in test_blank_sheet\n",
            "    solution, placed, not_placed = packaide.pack(sheets, shapes, tolerance = tolerance, offset = offset, partial_solution = False, rotations = 1, persist = False)\n",
            "                                   ^^^^^^^^^^^^^^^^^^^^^^^^^^^^^^^^^^^^^^^^^^^^^^^^^^^^^^^^^^^^^^^^^^^^^^^^^^^^^^^^^^^^^^^^^^^^^^^^^^^^^^^^^^^^^^^^^^^^^^^^^^^^^^^\n",
            "  File \"/content/Packaide/python/packaide/packaide.py\", line 247, in pack\n",
            "    elements, polygons = extract_polygons(shapes, tolerance, offset)\n",
            "                         ^^^^^^^^^^^^^^^^^^^^^^^^^^^^^^^^^^^^^^^^^^^\n",
            "  File \"/content/Packaide/python/packaide/packaide.py\", line 155, in extract_polygons\n",
            "    for minihole in list(hole):\n",
            "                    ^^^^^^^^^^\n",
            "TypeError: 'MultiPolygon' object is not iterable\n",
            "\n",
            "----------------------------------------------------------------------\n",
            "Ran 1 test in 1.103s\n",
            "\n",
            "FAILED (errors=1)\n",
            "\n",
            "      Start  7: DatasetPackingTests.test_blank_sheet_06_alluserdesigns_2\n",
            " 7/28 Test  #7: DatasetPackingTests.test_blank_sheet_06_alluserdesigns_2 ...***Failed    1.37 sec\n",
            "test_blank_sheet_06_alluserdesigns_2 (__main__.DatasetPackingTests.test_blank_sheet_06_alluserdesigns_2) ... ERROR\n",
            "\n",
            "======================================================================\n",
            "ERROR: test_blank_sheet_06_alluserdesigns_2 (__main__.DatasetPackingTests.test_blank_sheet_06_alluserdesigns_2)\n",
            "----------------------------------------------------------------------\n",
            "Traceback (most recent call last):\n",
            "  File \"/usr/local/lib/python3.11/dist-packages/parameterized/parameterized.py\", line 620, in standalone_func\n",
            "    return func(*(a + p.args), **p.kwargs, **kw)\n",
            "           ^^^^^^^^^^^^^^^^^^^^^^^^^^^^^^^^^^^^^\n",
            "  File \"/content/Packaide/test/test_packing.py\", line 157, in test_blank_sheet\n",
            "    solution, placed, not_placed = packaide.pack(sheets, shapes, tolerance = tolerance, offset = offset, partial_solution = False, rotations = 1, persist = False)\n",
            "                                   ^^^^^^^^^^^^^^^^^^^^^^^^^^^^^^^^^^^^^^^^^^^^^^^^^^^^^^^^^^^^^^^^^^^^^^^^^^^^^^^^^^^^^^^^^^^^^^^^^^^^^^^^^^^^^^^^^^^^^^^^^^^^^^^\n",
            "  File \"/content/Packaide/python/packaide/packaide.py\", line 247, in pack\n",
            "    elements, polygons = extract_polygons(shapes, tolerance, offset)\n",
            "                         ^^^^^^^^^^^^^^^^^^^^^^^^^^^^^^^^^^^^^^^^^^^\n",
            "  File \"/content/Packaide/python/packaide/packaide.py\", line 155, in extract_polygons\n",
            "    for minihole in list(hole):\n",
            "                    ^^^^^^^^^^\n",
            "TypeError: 'MultiPolygon' object is not iterable\n",
            "\n",
            "----------------------------------------------------------------------\n",
            "Ran 1 test in 1.027s\n",
            "\n",
            "FAILED (errors=1)\n",
            "\n",
            "      Start  8: DatasetPackingTests.test_blank_sheet_07_alluserdesigns_3\n",
            " 8/28 Test  #8: DatasetPackingTests.test_blank_sheet_07_alluserdesigns_3 ...***Failed    1.25 sec\n",
            "test_blank_sheet_07_alluserdesigns_3 (__main__.DatasetPackingTests.test_blank_sheet_07_alluserdesigns_3) ... ERROR\n",
            "\n",
            "======================================================================\n",
            "ERROR: test_blank_sheet_07_alluserdesigns_3 (__main__.DatasetPackingTests.test_blank_sheet_07_alluserdesigns_3)\n",
            "----------------------------------------------------------------------\n",
            "Traceback (most recent call last):\n",
            "  File \"/usr/local/lib/python3.11/dist-packages/parameterized/parameterized.py\", line 620, in standalone_func\n",
            "    return func(*(a + p.args), **p.kwargs, **kw)\n",
            "           ^^^^^^^^^^^^^^^^^^^^^^^^^^^^^^^^^^^^^\n",
            "  File \"/content/Packaide/test/test_packing.py\", line 157, in test_blank_sheet\n",
            "    solution, placed, not_placed = packaide.pack(sheets, shapes, tolerance = tolerance, offset = offset, partial_solution = False, rotations = 1, persist = False)\n",
            "                                   ^^^^^^^^^^^^^^^^^^^^^^^^^^^^^^^^^^^^^^^^^^^^^^^^^^^^^^^^^^^^^^^^^^^^^^^^^^^^^^^^^^^^^^^^^^^^^^^^^^^^^^^^^^^^^^^^^^^^^^^^^^^^^^^\n",
            "  File \"/content/Packaide/python/packaide/packaide.py\", line 247, in pack\n",
            "    elements, polygons = extract_polygons(shapes, tolerance, offset)\n",
            "                         ^^^^^^^^^^^^^^^^^^^^^^^^^^^^^^^^^^^^^^^^^^^\n",
            "  File \"/content/Packaide/python/packaide/packaide.py\", line 155, in extract_polygons\n",
            "    for minihole in list(hole):\n",
            "                    ^^^^^^^^^^\n",
            "TypeError: 'MultiPolygon' object is not iterable\n",
            "\n",
            "----------------------------------------------------------------------\n",
            "Ran 1 test in 0.898s\n",
            "\n",
            "FAILED (errors=1)\n",
            "\n",
            "      Start  9: DatasetPackingTests.test_blank_sheet_08_alluserdesigns_4\n",
            " 9/28 Test  #9: DatasetPackingTests.test_blank_sheet_08_alluserdesigns_4 ...***Failed    1.77 sec\n",
            "test_blank_sheet_08_alluserdesigns_4 (__main__.DatasetPackingTests.test_blank_sheet_08_alluserdesigns_4) ... ERROR\n",
            "\n",
            "======================================================================\n",
            "ERROR: test_blank_sheet_08_alluserdesigns_4 (__main__.DatasetPackingTests.test_blank_sheet_08_alluserdesigns_4)\n",
            "----------------------------------------------------------------------\n",
            "Traceback (most recent call last):\n",
            "  File \"/usr/local/lib/python3.11/dist-packages/parameterized/parameterized.py\", line 620, in standalone_func\n",
            "    return func(*(a + p.args), **p.kwargs, **kw)\n",
            "           ^^^^^^^^^^^^^^^^^^^^^^^^^^^^^^^^^^^^^\n",
            "  File \"/content/Packaide/test/test_packing.py\", line 157, in test_blank_sheet\n",
            "    solution, placed, not_placed = packaide.pack(sheets, shapes, tolerance = tolerance, offset = offset, partial_solution = False, rotations = 1, persist = False)\n",
            "                                   ^^^^^^^^^^^^^^^^^^^^^^^^^^^^^^^^^^^^^^^^^^^^^^^^^^^^^^^^^^^^^^^^^^^^^^^^^^^^^^^^^^^^^^^^^^^^^^^^^^^^^^^^^^^^^^^^^^^^^^^^^^^^^^^\n",
            "  File \"/content/Packaide/python/packaide/packaide.py\", line 247, in pack\n",
            "    elements, polygons = extract_polygons(shapes, tolerance, offset)\n",
            "                         ^^^^^^^^^^^^^^^^^^^^^^^^^^^^^^^^^^^^^^^^^^^\n",
            "  File \"/content/Packaide/python/packaide/packaide.py\", line 155, in extract_polygons\n",
            "    for minihole in list(hole):\n",
            "                    ^^^^^^^^^^\n",
            "TypeError: 'MultiPolygon' object is not iterable\n",
            "\n",
            "----------------------------------------------------------------------\n",
            "Ran 1 test in 1.318s\n",
            "\n",
            "FAILED (errors=1)\n",
            "\n",
            "      Start 10: DatasetPackingTests.test_blank_sheet_09_alluserdesigns_5\n",
            "10/28 Test #10: DatasetPackingTests.test_blank_sheet_09_alluserdesigns_5 ...***Failed    2.06 sec\n",
            "test_blank_sheet_09_alluserdesigns_5 (__main__.DatasetPackingTests.test_blank_sheet_09_alluserdesigns_5) ... ERROR\n",
            "\n",
            "======================================================================\n",
            "ERROR: test_blank_sheet_09_alluserdesigns_5 (__main__.DatasetPackingTests.test_blank_sheet_09_alluserdesigns_5)\n",
            "----------------------------------------------------------------------\n",
            "Traceback (most recent call last):\n",
            "  File \"/usr/local/lib/python3.11/dist-packages/parameterized/parameterized.py\", line 620, in standalone_func\n",
            "    return func(*(a + p.args), **p.kwargs, **kw)\n",
            "           ^^^^^^^^^^^^^^^^^^^^^^^^^^^^^^^^^^^^^\n",
            "  File \"/content/Packaide/test/test_packing.py\", line 157, in test_blank_sheet\n",
            "    solution, placed, not_placed = packaide.pack(sheets, shapes, tolerance = tolerance, offset = offset, partial_solution = False, rotations = 1, persist = False)\n",
            "                                   ^^^^^^^^^^^^^^^^^^^^^^^^^^^^^^^^^^^^^^^^^^^^^^^^^^^^^^^^^^^^^^^^^^^^^^^^^^^^^^^^^^^^^^^^^^^^^^^^^^^^^^^^^^^^^^^^^^^^^^^^^^^^^^^\n",
            "  File \"/content/Packaide/python/packaide/packaide.py\", line 247, in pack\n",
            "    elements, polygons = extract_polygons(shapes, tolerance, offset)\n",
            "                         ^^^^^^^^^^^^^^^^^^^^^^^^^^^^^^^^^^^^^^^^^^^\n",
            "  File \"/content/Packaide/python/packaide/packaide.py\", line 155, in extract_polygons\n",
            "    for minihole in list(hole):\n",
            "                    ^^^^^^^^^^\n",
            "TypeError: 'MultiPolygon' object is not iterable\n",
            "\n",
            "----------------------------------------------------------------------\n",
            "Ran 1 test in 1.687s\n",
            "\n",
            "FAILED (errors=1)\n",
            "\n",
            "      Start 11: DatasetPackingTests.test_blank_sheet_10_alluserdesigns_6\n",
            "11/28 Test #11: DatasetPackingTests.test_blank_sheet_10_alluserdesigns_6 ...***Failed    1.68 sec\n",
            "test_blank_sheet_10_alluserdesigns_6 (__main__.DatasetPackingTests.test_blank_sheet_10_alluserdesigns_6) ... ERROR\n",
            "\n",
            "======================================================================\n",
            "ERROR: test_blank_sheet_10_alluserdesigns_6 (__main__.DatasetPackingTests.test_blank_sheet_10_alluserdesigns_6)\n",
            "----------------------------------------------------------------------\n",
            "Traceback (most recent call last):\n",
            "  File \"/usr/local/lib/python3.11/dist-packages/parameterized/parameterized.py\", line 620, in standalone_func\n",
            "    return func(*(a + p.args), **p.kwargs, **kw)\n",
            "           ^^^^^^^^^^^^^^^^^^^^^^^^^^^^^^^^^^^^^\n",
            "  File \"/content/Packaide/test/test_packing.py\", line 157, in test_blank_sheet\n",
            "    solution, placed, not_placed = packaide.pack(sheets, shapes, tolerance = tolerance, offset = offset, partial_solution = False, rotations = 1, persist = False)\n",
            "                                   ^^^^^^^^^^^^^^^^^^^^^^^^^^^^^^^^^^^^^^^^^^^^^^^^^^^^^^^^^^^^^^^^^^^^^^^^^^^^^^^^^^^^^^^^^^^^^^^^^^^^^^^^^^^^^^^^^^^^^^^^^^^^^^^\n",
            "  File \"/content/Packaide/python/packaide/packaide.py\", line 247, in pack\n",
            "    elements, polygons = extract_polygons(shapes, tolerance, offset)\n",
            "                         ^^^^^^^^^^^^^^^^^^^^^^^^^^^^^^^^^^^^^^^^^^^\n",
            "  File \"/content/Packaide/python/packaide/packaide.py\", line 155, in extract_polygons\n",
            "    for minihole in list(hole):\n",
            "                    ^^^^^^^^^^\n",
            "TypeError: 'MultiPolygon' object is not iterable\n",
            "\n",
            "----------------------------------------------------------------------\n",
            "Ran 1 test in 1.302s\n",
            "\n",
            "FAILED (errors=1)\n",
            "\n",
            "      Start 12: DatasetPackingTests.test_blank_sheet_11_alluserdesigns_7\n",
            "12/28 Test #12: DatasetPackingTests.test_blank_sheet_11_alluserdesigns_7 ...***Failed    2.21 sec\n",
            "test_blank_sheet_11_alluserdesigns_7 (__main__.DatasetPackingTests.test_blank_sheet_11_alluserdesigns_7) ... ERROR\n",
            "\n",
            "======================================================================\n",
            "ERROR: test_blank_sheet_11_alluserdesigns_7 (__main__.DatasetPackingTests.test_blank_sheet_11_alluserdesigns_7)\n",
            "----------------------------------------------------------------------\n",
            "Traceback (most recent call last):\n",
            "  File \"/usr/local/lib/python3.11/dist-packages/parameterized/parameterized.py\", line 620, in standalone_func\n",
            "    return func(*(a + p.args), **p.kwargs, **kw)\n",
            "           ^^^^^^^^^^^^^^^^^^^^^^^^^^^^^^^^^^^^^\n",
            "  File \"/content/Packaide/test/test_packing.py\", line 157, in test_blank_sheet\n",
            "    solution, placed, not_placed = packaide.pack(sheets, shapes, tolerance = tolerance, offset = offset, partial_solution = False, rotations = 1, persist = False)\n",
            "                                   ^^^^^^^^^^^^^^^^^^^^^^^^^^^^^^^^^^^^^^^^^^^^^^^^^^^^^^^^^^^^^^^^^^^^^^^^^^^^^^^^^^^^^^^^^^^^^^^^^^^^^^^^^^^^^^^^^^^^^^^^^^^^^^^\n",
            "  File \"/content/Packaide/python/packaide/packaide.py\", line 247, in pack\n",
            "    elements, polygons = extract_polygons(shapes, tolerance, offset)\n",
            "                         ^^^^^^^^^^^^^^^^^^^^^^^^^^^^^^^^^^^^^^^^^^^\n",
            "  File \"/content/Packaide/python/packaide/packaide.py\", line 155, in extract_polygons\n",
            "    for minihole in list(hole):\n",
            "                    ^^^^^^^^^^\n",
            "TypeError: 'MultiPolygon' object is not iterable\n",
            "\n",
            "----------------------------------------------------------------------\n",
            "Ran 1 test in 1.822s\n",
            "\n",
            "FAILED (errors=1)\n",
            "\n",
            "      Start 13: DatasetPackingTests.test_blank_sheet_12_alluserdesigns_8\n",
            "13/28 Test #13: DatasetPackingTests.test_blank_sheet_12_alluserdesigns_8 ...***Failed    2.58 sec\n",
            "test_blank_sheet_12_alluserdesigns_8 (__main__.DatasetPackingTests.test_blank_sheet_12_alluserdesigns_8) ... ERROR\n",
            "\n",
            "======================================================================\n",
            "ERROR: test_blank_sheet_12_alluserdesigns_8 (__main__.DatasetPackingTests.test_blank_sheet_12_alluserdesigns_8)\n",
            "----------------------------------------------------------------------\n",
            "Traceback (most recent call last):\n",
            "  File \"/usr/local/lib/python3.11/dist-packages/parameterized/parameterized.py\", line 620, in standalone_func\n",
            "    return func(*(a + p.args), **p.kwargs, **kw)\n",
            "           ^^^^^^^^^^^^^^^^^^^^^^^^^^^^^^^^^^^^^\n",
            "  File \"/content/Packaide/test/test_packing.py\", line 157, in test_blank_sheet\n",
            "    solution, placed, not_placed = packaide.pack(sheets, shapes, tolerance = tolerance, offset = offset, partial_solution = False, rotations = 1, persist = False)\n",
            "                                   ^^^^^^^^^^^^^^^^^^^^^^^^^^^^^^^^^^^^^^^^^^^^^^^^^^^^^^^^^^^^^^^^^^^^^^^^^^^^^^^^^^^^^^^^^^^^^^^^^^^^^^^^^^^^^^^^^^^^^^^^^^^^^^^\n",
            "  File \"/content/Packaide/python/packaide/packaide.py\", line 247, in pack\n",
            "    elements, polygons = extract_polygons(shapes, tolerance, offset)\n",
            "                         ^^^^^^^^^^^^^^^^^^^^^^^^^^^^^^^^^^^^^^^^^^^\n",
            "  File \"/content/Packaide/python/packaide/packaide.py\", line 155, in extract_polygons\n",
            "    for minihole in list(hole):\n",
            "                    ^^^^^^^^^^\n",
            "TypeError: 'MultiPolygon' object is not iterable\n",
            "\n",
            "----------------------------------------------------------------------\n",
            "Ran 1 test in 2.097s\n",
            "\n",
            "FAILED (errors=1)\n",
            "\n",
            "      Start 14: DatasetPackingTests.test_blank_sheet_13_alluserdesigns_9\n",
            "14/28 Test #14: DatasetPackingTests.test_blank_sheet_13_alluserdesigns_9 ...***Failed    1.38 sec\n",
            "test_blank_sheet_13_alluserdesigns_9 (__main__.DatasetPackingTests.test_blank_sheet_13_alluserdesigns_9) ... ERROR\n",
            "\n",
            "======================================================================\n",
            "ERROR: test_blank_sheet_13_alluserdesigns_9 (__main__.DatasetPackingTests.test_blank_sheet_13_alluserdesigns_9)\n",
            "----------------------------------------------------------------------\n",
            "Traceback (most recent call last):\n",
            "  File \"/usr/local/lib/python3.11/dist-packages/parameterized/parameterized.py\", line 620, in standalone_func\n",
            "    return func(*(a + p.args), **p.kwargs, **kw)\n",
            "           ^^^^^^^^^^^^^^^^^^^^^^^^^^^^^^^^^^^^^\n",
            "  File \"/content/Packaide/test/test_packing.py\", line 157, in test_blank_sheet\n",
            "    solution, placed, not_placed = packaide.pack(sheets, shapes, tolerance = tolerance, offset = offset, partial_solution = False, rotations = 1, persist = False)\n",
            "                                   ^^^^^^^^^^^^^^^^^^^^^^^^^^^^^^^^^^^^^^^^^^^^^^^^^^^^^^^^^^^^^^^^^^^^^^^^^^^^^^^^^^^^^^^^^^^^^^^^^^^^^^^^^^^^^^^^^^^^^^^^^^^^^^^\n",
            "  File \"/content/Packaide/python/packaide/packaide.py\", line 247, in pack\n",
            "    elements, polygons = extract_polygons(shapes, tolerance, offset)\n",
            "                         ^^^^^^^^^^^^^^^^^^^^^^^^^^^^^^^^^^^^^^^^^^^\n",
            "  File \"/content/Packaide/python/packaide/packaide.py\", line 155, in extract_polygons\n",
            "    for minihole in list(hole):\n",
            "                    ^^^^^^^^^^\n",
            "TypeError: 'MultiPolygon' object is not iterable\n",
            "\n",
            "----------------------------------------------------------------------\n",
            "Ran 1 test in 1.011s\n",
            "\n",
            "FAILED (errors=1)\n",
            "\n",
            "      Start 15: SimplePackingTests.test_multisheet\n",
            "15/28 Test #15: SimplePackingTests.test_multisheet .........................   Passed    0.50 sec\n",
            "      Start 16: SimplePackingTests.test_one_shape_one_hole\n",
            "16/28 Test #16: SimplePackingTests.test_one_shape_one_hole .................   Passed    0.39 sec\n",
            "      Start 17: SimplePackingTests.test_part_in_part\n",
            "17/28 Test #17: SimplePackingTests.test_part_in_part .......................   Passed    0.41 sec\n",
            "      Start 18: SimplePackingTests.test_part_with_hole\n",
            "18/28 Test #18: SimplePackingTests.test_part_with_hole .....................   Passed    0.40 sec\n",
            "      Start 19: SimplePackingTests.test_single_shape\n",
            "19/28 Test #19: SimplePackingTests.test_single_shape .......................   Passed    0.36 sec\n",
            "      Start 20: SimplePackingTests.test_two_shapes\n",
            "20/28 Test #20: SimplePackingTests.test_two_shapes .........................   Passed    0.40 sec\n",
            "      Start 21: SimplePackingTests.test_two_shapes_two_holes\n",
            "21/28 Test #21: SimplePackingTests.test_two_shapes_two_holes ...............   Passed    0.45 sec\n",
            "      Start 22: ValidatorTest.test_invalid_multisheet\n",
            "22/28 Test #22: ValidatorTest.test_invalid_multisheet ......................   Passed    0.37 sec\n",
            "      Start 23: ValidatorTest.test_off_sheet\n",
            "23/28 Test #23: ValidatorTest.test_off_sheet ...............................   Passed    0.34 sec\n",
            "      Start 24: ValidatorTest.test_overlapped_hole\n",
            "24/28 Test #24: ValidatorTest.test_overlapped_hole .........................   Passed    0.36 sec\n",
            "      Start 25: ValidatorTest.test_overlapped_parts\n",
            "25/28 Test #25: ValidatorTest.test_overlapped_parts ........................   Passed    0.34 sec\n",
            "      Start 26: ValidatorTest.test_part_in_part\n",
            "26/28 Test #26: ValidatorTest.test_part_in_part ............................   Passed    0.38 sec\n",
            "      Start 27: ValidatorTest.test_valid_multisheet\n",
            "27/28 Test #27: ValidatorTest.test_valid_multisheet ........................   Passed    0.39 sec\n",
            "      Start 28: ValidatorTest.test_valid_solution\n",
            "28/28 Test #28: ValidatorTest.test_valid_solution ..........................   Passed    0.36 sec\n",
            "\n",
            "64% tests passed\u001b[0;0m, \u001b[0;31m10 tests failed\u001b[0;0m out of 28\n",
            "\n",
            "Total Test time (real) =  34.04 sec\n",
            "\n",
            "The following tests FAILED:\n",
            "\t\u001b[0;31m  5 - DatasetPackingTests.test_blank_sheet_04_alluserdesigns_0 (Failed)\u001b[0;0m\n",
            "\t\u001b[0;31m  6 - DatasetPackingTests.test_blank_sheet_05_alluserdesigns_1 (Failed)\u001b[0;0m\n",
            "\t\u001b[0;31m  7 - DatasetPackingTests.test_blank_sheet_06_alluserdesigns_2 (Failed)\u001b[0;0m\n",
            "\t\u001b[0;31m  8 - DatasetPackingTests.test_blank_sheet_07_alluserdesigns_3 (Failed)\u001b[0;0m\n",
            "\t\u001b[0;31m  9 - DatasetPackingTests.test_blank_sheet_08_alluserdesigns_4 (Failed)\u001b[0;0m\n",
            "\t\u001b[0;31m 10 - DatasetPackingTests.test_blank_sheet_09_alluserdesigns_5 (Failed)\u001b[0;0m\n",
            "\t\u001b[0;31m 11 - DatasetPackingTests.test_blank_sheet_10_alluserdesigns_6 (Failed)\u001b[0;0m\n",
            "\t\u001b[0;31m 12 - DatasetPackingTests.test_blank_sheet_11_alluserdesigns_7 (Failed)\u001b[0;0m\n",
            "\t\u001b[0;31m 13 - DatasetPackingTests.test_blank_sheet_12_alluserdesigns_8 (Failed)\u001b[0;0m\n",
            "\t\u001b[0;31m 14 - DatasetPackingTests.test_blank_sheet_13_alluserdesigns_9 (Failed)\u001b[0;0m\n",
            "Errors while running CTest\n",
            "make[3]: *** [test/CMakeFiles/check.dir/build.make:70: test/CMakeFiles/check] Error 8\n",
            "make[2]: *** [CMakeFiles/Makefile2:209: test/CMakeFiles/check.dir/all] Error 2\n",
            "make[1]: *** [CMakeFiles/Makefile2:216: test/CMakeFiles/check.dir/rule] Error 2\n",
            "make: *** [Makefile:192: check] Error 2\n",
            "[100%] Built target PackaideBindings\n",
            "\u001b[36mInstall the project...\u001b[0m\n",
            "-- Install configuration: \"Release\"\n",
            "-- Installing: /usr/local/lib/python3.11/dist-packages/PackaideBindings.so\n",
            "/usr/local/lib/python3.11/dist-packages/setuptools/_distutils/cmd.py:66: SetuptoolsDeprecationWarning: setup.py install is deprecated.\n",
            "!!\n",
            "\n",
            "        ********************************************************************************\n",
            "        Please avoid running ``setup.py`` directly.\n",
            "        Instead, use pypa/build, pypa/installer or other\n",
            "        standards-based tools.\n",
            "\n",
            "        See https://blog.ganssle.io/articles/2021/10/setup-py-deprecated.html for details.\n",
            "        ********************************************************************************\n",
            "\n",
            "!!\n",
            "  self.initialize_options()\n",
            "/usr/local/lib/python3.11/dist-packages/setuptools/_distutils/cmd.py:66: EasyInstallDeprecationWarning: easy_install command is deprecated.\n",
            "!!\n",
            "\n",
            "        ********************************************************************************\n",
            "        Please avoid running ``setup.py`` and ``easy_install``.\n",
            "        Instead, use pypa/build, pypa/installer or other\n",
            "        standards-based tools.\n",
            "\n",
            "        See https://github.com/pypa/setuptools/issues/917 for details.\n",
            "        ********************************************************************************\n",
            "\n",
            "!!\n",
            "  self.initialize_options()\n",
            "zip_safe flag not set; analyzing archive contents...\n",
            "/content/Packaide/python\n",
            "\u001b[33mDEPRECATION: Loading egg at /usr/local/lib/python3.11/dist-packages/Packaide-1.0-py3.11.egg is deprecated. pip 24.3 will enforce this behaviour change. A possible replacement is to use pip for package installation. Discussion can be found at https://github.com/pypa/pip/issues/12330\u001b[0m\u001b[33m\n",
            "\u001b[0mProcessing /content/Packaide/python\n",
            "  Preparing metadata (setup.py) ... \u001b[?25l\u001b[?25hdone\n",
            "Building wheels for collected packages: Packaide\n",
            "  Building wheel for Packaide (setup.py) ... \u001b[?25l\u001b[?25hdone\n",
            "  Created wheel for Packaide: filename=Packaide-1.0-py3-none-any.whl size=5881 sha256=99dd0c41f70c7b8d1ddac5bf891a79e8f96c7503ff4d8ce0474f94005a80c7df\n",
            "  Stored in directory: /tmp/pip-ephem-wheel-cache-6ma9s3ys/wheels/06/5d/8e/f02f11d6653f2a4c02869f58775b923a5db8e8bf4e559cba47\n",
            "Successfully built Packaide\n",
            "Installing collected packages: Packaide\n",
            "  Attempting uninstall: Packaide\n",
            "    Found existing installation: Packaide 1.0\n",
            "    Uninstalling Packaide-1.0:\n",
            "      Successfully uninstalled Packaide-1.0\n",
            "Successfully installed Packaide-1.0\n"
          ]
        }
      ]
    },
    {
      "cell_type": "markdown",
      "source": [
        "#Test packaide Setup"
      ],
      "metadata": {
        "id": "cdTOW_UltDsp"
      }
    },
    {
      "cell_type": "code",
      "source": [
        "import packaide\n",
        "print(\"Packaide imported successfully!\")"
      ],
      "metadata": {
        "colab": {
          "base_uri": "https://localhost:8080/"
        },
        "id": "uuTd4qfgtGma",
        "outputId": "689f2bfb-20a2-4ea2-9285-b50a0e70ba84"
      },
      "execution_count": null,
      "outputs": [
        {
          "output_type": "stream",
          "name": "stdout",
          "text": [
            "Packaide imported successfully!\n"
          ]
        }
      ]
    },
    {
      "cell_type": "markdown",
      "source": [
        "###We you could test if its working fine using this example usage from packaide readme documentation"
      ],
      "metadata": {
        "id": "M3FOA5QHtR5m"
      }
    },
    {
      "cell_type": "code",
      "source": [
        "# Shapes are provided in SVG format\n",
        "shapes = \"\"\"\n",
        "<svg viewBox=\"0 0 432.13 593.04\">\n",
        "  <rect width=\"100\" height=\"50\" />\n",
        "  <rect width=\"50\" height=\"100\" />\n",
        "  <ellipse rx=\"20\" ry=\"20\" />\n",
        "</svg>\n",
        "\"\"\"\n",
        "\n",
        "# The target sheet / material is also represented as an SVG\n",
        "# document. Shapes given on the sheet are interpreted as\n",
        "# holes that must be avoided when placing new parts. In this\n",
        "# case, a square in the upper-left-hand corner.\n",
        "sheet = \"\"\"\n",
        "<svg width=\"300\" height=\"300\" viewBox=\"0 0 300 300\">\n",
        "  <rect x=\"0\" y=\"0\" width=\"100\" height=\"100\" />\n",
        "</svg>\n",
        "\"\"\"\n",
        "\n",
        "# Attempts to pack as many of the parts as possible.\n",
        "result, placed, fails = packaide.pack(\n",
        "  [sheet],                  # A list of sheets (SVG documents)\n",
        "  shapes,                   # An SVG document containing the parts\n",
        "  tolerance = 2.5,          # Discretization tolerance\n",
        "  offset = 5,               # The offset distance around each shape (dilation)\n",
        "  partial_solution = True,  # Whether to return a partial solution\n",
        "  rotations = 1,            # The number of rotations of parts to try\n",
        "  persist = True            # Cache results to speed up next run\n",
        ")\n",
        "\n",
        "# If partial_solution was False, then either every part is placed or none\n",
        "# are. Otherwise, as many as possible are placed. placed and fails denote\n",
        "# the number of parts that could be and could not be placed respectively\n",
        "print(\"{} parts were placed. {} parts could not fit on the sheets\".format(placed, fails))\n",
        "\n",
        "# The results are given by a list of pairs (i, out), where\n",
        "# i is the index of the sheet on which shapes were packed, and\n",
        "# out is an SVG representation of the parts that are to be\n",
        "# placed on that sheet.\n",
        "for i, out in result:\n",
        "  with open('result_sheet_{}.svg'.format(i), 'w') as f_out:\n",
        "    f_out.write(out)"
      ],
      "metadata": {
        "colab": {
          "base_uri": "https://localhost:8080/"
        },
        "id": "LO3yTtnctIJr",
        "outputId": "cd90d2b9-b433-4d64-f845-407aa4c7725c"
      },
      "execution_count": null,
      "outputs": [
        {
          "output_type": "stream",
          "name": "stdout",
          "text": [
            "3 parts were placed. 0 parts could not fit on the sheets\n"
          ]
        }
      ]
    },
    {
      "cell_type": "markdown",
      "source": [],
      "metadata": {
        "id": "Oi9HocvgiRst"
      }
    },
    {
      "cell_type": "markdown",
      "source": [
        "#Main"
      ],
      "metadata": {
        "id": "J2dLT4QF0aUp"
      }
    },
    {
      "cell_type": "markdown",
      "source": [
        "Below is a high level script that implements the pipeline. In this script we:\n",
        "\n",
        "- Define several candidate cube nets as SVG strings (you can add more candidates as needed).\n",
        "- Nest each candidate onto a blank sheet using Packaide.\n",
        "Extract the geometry of the placed shapes to compute both the union area (the actual area of the unfolding) and the area of its minimal bounding rectangle (the envelope).\n",
        "- Compute a utilization ratio (shape area divided by bounding box area) as a measure of how “tight” the unfolding is.\n",
        "- Select and save the candidate with the highest utilization.\n",
        "\n",
        "So far, we deploy:\n",
        "- Geometry Utilities:\n",
        "compute_union_polygon extracts and unions all placed polygons from the result.\n",
        "compute_bounding_box_area computes the area of the minimal rectangle that encloses the union of the shapes.\n",
        "compute_shape_area computes the total area of the shape.\n",
        "compute_utilization calculates the ratio of the shape area to its bounding box area.\n",
        "\n",
        "- Candidate Unfoldings:\n",
        "Three simple cube nets are hardcoded as SVG strings. (could be extended with additional candidates.)\n",
        "\n",
        "- Nesting via Packaide:\n",
        "For each candidate, we call packaide.pack to nest the unfolding on a blank sheet. Packaide returns a result (an SVG with the placed shapes).\n",
        "\n",
        "- Evaluation:\n",
        "For each nesting result, the script computes the utilization ratio. The candidate with the highest ratio is considered the best (i.e., it minimizes wasted space as measured by the bounding box).\n",
        "\n",
        "- Output:\n",
        "The best candidate’s nesting result is printed to the console and saved to an SVG file named optimal_unfolding.svg."
      ],
      "metadata": {
        "id": "Jpf1ewrshThp"
      }
    },
    {
      "cell_type": "markdown",
      "source": [
        "> Below is a hard coded list of all unfolding candidates of a cube."
      ],
      "metadata": {
        "id": "7m91-W6vKFTv"
      }
    },
    {
      "cell_type": "code",
      "source": [
        "from IPython.display import HTML, display\n",
        "\n",
        "def display_svg(svg_str, width=200):\n",
        "    \"\"\"\n",
        "    Display the SVG string in a container with the specified width.\n",
        "    \"\"\"\n",
        "    html_str = f'<div style=\"width: {width}px;\">{svg_str}</div>'\n",
        "    display(HTML(html_str))\n",
        "\n",
        "# Candidate 0: Cross net\n",
        "candidate0 = \"\"\"\n",
        "<svg viewBox=\"0 0 200 200\" xmlns=\"http://www.w3.org/2000/svg\">\n",
        "  <!-- Candidate 0: Cross net -->\n",
        "  <rect x=\"50\" y=\"50\" width=\"50\" height=\"50\" stroke=\"black\" fill=\"none\"/>\n",
        "  <rect x=\"0\" y=\"50\" width=\"50\" height=\"50\" stroke=\"black\" fill=\"none\"/>\n",
        "  <rect x=\"100\" y=\"50\" width=\"50\" height=\"50\" stroke=\"black\" fill=\"none\"/>\n",
        "  <rect x=\"50\" y=\"0\" width=\"50\" height=\"50\" stroke=\"black\" fill=\"none\"/>\n",
        "  <rect x=\"50\" y=\"100\" width=\"50\" height=\"50\" stroke=\"black\" fill=\"none\"/>\n",
        "  <rect x=\"50\" y=\"150\" width=\"50\" height=\"50\" stroke=\"black\" fill=\"none\"/>\n",
        "</svg>\n",
        "\"\"\"\n",
        "\n",
        "# Candidate 1: Row-extended net\n",
        "candidate1 = \"\"\"\n",
        "<svg viewBox=\"0 0 200 150\" xmlns=\"http://www.w3.org/2000/svg\">\n",
        "  <!-- Candidate 1: Row-extended net -->\n",
        "  <rect x=\"0\" y=\"50\" width=\"50\" height=\"50\" stroke=\"black\" fill=\"none\"/>\n",
        "  <rect x=\"50\" y=\"50\" width=\"50\" height=\"50\" stroke=\"black\" fill=\"none\"/>\n",
        "  <rect x=\"100\" y=\"50\" width=\"50\" height=\"50\" stroke=\"black\" fill=\"none\"/>\n",
        "  <rect x=\"150\" y=\"50\" width=\"50\" height=\"50\" stroke=\"black\" fill=\"none\"/>\n",
        "  <rect x=\"50\" y=\"0\" width=\"50\" height=\"50\" stroke=\"black\" fill=\"none\"/>\n",
        "  <rect x=\"50\" y=\"100\" width=\"50\" height=\"50\" stroke=\"black\" fill=\"none\"/>\n",
        "</svg>\n",
        "\"\"\"\n",
        "\n",
        "# Candidate 2: L-shaped net\n",
        "candidate2 = \"\"\"\n",
        "<svg viewBox=\"0 0 150 150\" xmlns=\"http://www.w3.org/2000/svg\">\n",
        "  <!-- Candidate 2: L-shaped net -->\n",
        "  <rect x=\"50\" y=\"0\" width=\"50\" height=\"50\" stroke=\"black\" fill=\"none\"/>\n",
        "  <rect x=\"50\" y=\"50\" width=\"50\" height=\"50\" stroke=\"black\" fill=\"none\"/>\n",
        "  <rect x=\"0\" y=\"50\" width=\"50\" height=\"50\" stroke=\"black\" fill=\"none\"/>\n",
        "  <rect x=\"100\" y=\"50\" width=\"50\" height=\"50\" stroke=\"black\" fill=\"none\"/>\n",
        "  <rect x=\"0\" y=\"100\" width=\"50\" height=\"50\" stroke=\"black\" fill=\"none\"/>\n",
        "  <rect x=\"50\" y=\"100\" width=\"50\" height=\"50\" stroke=\"black\" fill=\"none\"/>\n",
        "</svg>\n",
        "\"\"\"\n",
        "\n",
        "# Candidate 3: Alternate L-shaped net\n",
        "candidate3 = \"\"\"\n",
        "<svg viewBox=\"0 0 150 150\" xmlns=\"http://www.w3.org/2000/svg\">\n",
        "  <!-- Candidate 3: Alternate L-shaped net -->\n",
        "  <rect x=\"50\" y=\"0\" width=\"50\" height=\"50\" stroke=\"black\" fill=\"none\"/>\n",
        "  <rect x=\"0\" y=\"50\" width=\"50\" height=\"50\" stroke=\"black\" fill=\"none\"/>\n",
        "  <rect x=\"50\" y=\"50\" width=\"50\" height=\"50\" stroke=\"black\" fill=\"none\"/>\n",
        "  <rect x=\"100\" y=\"50\" width=\"50\" height=\"50\" stroke=\"black\" fill=\"none\"/>\n",
        "  <rect x=\"100\" y=\"100\" width=\"50\" height=\"50\" stroke=\"black\" fill=\"none\"/>\n",
        "  <rect x=\"50\" y=\"100\" width=\"50\" height=\"50\" stroke=\"black\" fill=\"none\"/>\n",
        "</svg>\n",
        "\"\"\"\n",
        "\n",
        "# Candidate 4: Offset net\n",
        "candidate4 = \"\"\"\n",
        "<svg viewBox=\"0 0 150 200\" xmlns=\"http://www.w3.org/2000/svg\">\n",
        "  <!-- Candidate 4: Offset net -->\n",
        "  <rect x=\"0\" y=\"0\" width=\"50\" height=\"50\" stroke=\"black\" fill=\"none\"/>\n",
        "  <rect x=\"50\" y=\"0\" width=\"50\" height=\"50\" stroke=\"black\" fill=\"none\"/>\n",
        "  <rect x=\"50\" y=\"50\" width=\"50\" height=\"50\" stroke=\"black\" fill=\"none\"/>\n",
        "  <rect x=\"100\" y=\"50\" width=\"50\" height=\"50\" stroke=\"black\" fill=\"none\"/>\n",
        "  <rect x=\"50\" y=\"100\" width=\"50\" height=\"50\" stroke=\"black\" fill=\"none\"/>\n",
        "  <rect x=\"50\" y=\"150\" width=\"50\" height=\"50\" stroke=\"black\" fill=\"none\"/>\n",
        "</svg>\n",
        "\"\"\"\n",
        "\n",
        "# Candidate 5: Extended row with branch\n",
        "candidate5 = \"\"\"\n",
        "<svg viewBox=\"0 0 200 150\" xmlns=\"http://www.w3.org/2000/svg\">\n",
        "  <!-- Candidate 5: Extended row with branch -->\n",
        "  <rect x=\"50\" y=\"0\" width=\"50\" height=\"50\" stroke=\"black\" fill=\"none\"/>\n",
        "  <rect x=\"0\" y=\"50\" width=\"50\" height=\"50\" stroke=\"black\" fill=\"none\"/>\n",
        "  <rect x=\"50\" y=\"50\" width=\"50\" height=\"50\" stroke=\"black\" fill=\"none\"/>\n",
        "  <rect x=\"100\" y=\"50\" width=\"50\" height=\"50\" stroke=\"black\" fill=\"none\"/>\n",
        "  <rect x=\"150\" y=\"50\" width=\"50\" height=\"50\" stroke=\"black\" fill=\"none\"/>\n",
        "  <rect x=\"100\" y=\"100\" width=\"50\" height=\"50\" stroke=\"black\" fill=\"none\"/>\n",
        "</svg>\n",
        "\"\"\"\n",
        "\n",
        "# Candidate 6: Vertical column attached off-center\n",
        "candidate6 = \"\"\"\n",
        "<svg viewBox=\"0 0 150 200\" xmlns=\"http://www.w3.org/2000/svg\">\n",
        "  <!-- Candidate 6: Vertical column attached off-center -->\n",
        "  <rect x=\"50\" y=\"0\" width=\"50\" height=\"50\" stroke=\"black\" fill=\"none\"/>\n",
        "  <rect x=\"50\" y=\"50\" width=\"50\" height=\"50\" stroke=\"black\" fill=\"none\"/>\n",
        "  <rect x=\"0\" y=\"100\" width=\"50\" height=\"50\" stroke=\"black\" fill=\"none\"/>\n",
        "  <rect x=\"50\" y=\"100\" width=\"50\" height=\"50\" stroke=\"black\" fill=\"none\"/>\n",
        "  <rect x=\"100\" y=\"100\" width=\"50\" height=\"50\" stroke=\"black\" fill=\"none\"/>\n",
        "  <rect x=\"50\" y=\"150\" width=\"50\" height=\"50\" stroke=\"black\" fill=\"none\"/>\n",
        "</svg>\n",
        "\"\"\"\n",
        "\n",
        "# Candidate 7: Shifted vertical net\n",
        "candidate7 = \"\"\"\n",
        "<svg viewBox=\"0 0 150 200\" xmlns=\"http://www.w3.org/2000/svg\">\n",
        "  <!-- Candidate 7: Shifted vertical net -->\n",
        "  <rect x=\"100\" y=\"0\" width=\"50\" height=\"50\" stroke=\"black\" fill=\"none\"/>\n",
        "  <rect x=\"0\" y=\"50\" width=\"50\" height=\"50\" stroke=\"black\" fill=\"none\"/>\n",
        "  <rect x=\"50\" y=\"50\" width=\"50\" height=\"50\" stroke=\"black\" fill=\"none\"/>\n",
        "  <rect x=\"100\" y=\"50\" width=\"50\" height=\"50\" stroke=\"black\" fill=\"none\"/>\n",
        "  <rect x=\"100\" y=\"100\" width=\"50\" height=\"50\" stroke=\"black\" fill=\"none\"/>\n",
        "  <rect x=\"100\" y=\"150\" width=\"50\" height=\"50\" stroke=\"black\" fill=\"none\"/>\n",
        "</svg>\n",
        "\"\"\"\n",
        "\n",
        "# Candidate 8: Left-column net\n",
        "candidate8 = \"\"\"\n",
        "<svg viewBox=\"0 0 150 150\" xmlns=\"http://www.w3.org/2000/svg\">\n",
        "  <!-- Candidate 8: Left-column net -->\n",
        "  <rect x=\"0\" y=\"0\" width=\"50\" height=\"50\" stroke=\"black\" fill=\"none\"/>\n",
        "  <rect x=\"50\" y=\"0\" width=\"50\" height=\"50\" stroke=\"black\" fill=\"none\"/>\n",
        "  <rect x=\"100\" y=\"0\" width=\"50\" height=\"50\" stroke=\"black\" fill=\"none\"/>\n",
        "  <rect x=\"0\" y=\"50\" width=\"50\" height=\"50\" stroke=\"black\" fill=\"none\"/>\n",
        "  <rect x=\"50\" y=\"50\" width=\"50\" height=\"50\" stroke=\"black\" fill=\"none\"/>\n",
        "  <rect x=\"0\" y=\"100\" width=\"50\" height=\"50\" stroke=\"black\" fill=\"none\"/>\n",
        "</svg>\n",
        "\"\"\"\n",
        "\n",
        "# Candidate 9: Net with shifted coordinates\n",
        "candidate9 = \"\"\"\n",
        "<svg viewBox=\"50 50 150 150\" xmlns=\"http://www.w3.org/2000/svg\">\n",
        "  <!-- Candidate 9: Net with shifted coordinates -->\n",
        "  <rect x=\"50\" y=\"50\" width=\"50\" height=\"50\" stroke=\"black\" fill=\"none\"/>\n",
        "  <rect x=\"100\" y=\"50\" width=\"50\" height=\"50\" stroke=\"black\" fill=\"none\"/>\n",
        "  <rect x=\"150\" y=\"50\" width=\"50\" height=\"50\" stroke=\"black\" fill=\"none\"/>\n",
        "  <rect x=\"50\" y=\"100\" width=\"50\" height=\"50\" stroke=\"black\" fill=\"none\"/>\n",
        "  <rect x=\"50\" y=\"150\" width=\"50\" height=\"50\" stroke=\"black\" fill=\"none\"/>\n",
        "  <rect x=\"100\" y=\"150\" width=\"50\" height=\"50\" stroke=\"black\" fill=\"none\"/>\n",
        "</svg>\n",
        "\"\"\"\n",
        "\n",
        "# Candidate 10: Central row with top and bottom attachments\n",
        "candidate10 = \"\"\"\n",
        "<svg viewBox=\"0 0 150 150\" xmlns=\"http://www.w3.org/2000/svg\">\n",
        "  <!-- Candidate 10: Central row with top and bottom attachments -->\n",
        "  <rect x=\"50\" y=\"0\" width=\"50\" height=\"50\" stroke=\"black\" fill=\"none\"/>\n",
        "  <rect x=\"100\" y=\"0\" width=\"50\" height=\"50\" stroke=\"black\" fill=\"none\"/>\n",
        "  <rect x=\"0\" y=\"50\" width=\"50\" height=\"50\" stroke=\"black\" fill=\"none\"/>\n",
        "  <rect x=\"50\" y=\"50\" width=\"50\" height=\"50\" stroke=\"black\" fill=\"none\"/>\n",
        "  <rect x=\"100\" y=\"50\" width=\"50\" height=\"50\" stroke=\"black\" fill=\"none\"/>\n",
        "  <rect x=\"50\" y=\"100\" width=\"50\" height=\"50\" stroke=\"black\" fill=\"none\"/>\n",
        "</svg>\n",
        "\"\"\"\n",
        "\n",
        "# List of candidate unfoldings\n",
        "candidate_unfoldings = [\n",
        "    candidate0, candidate1, candidate2, candidate3, candidate4,\n",
        "    candidate5, candidate6, candidate7, candidate8, candidate9, candidate10\n",
        "]\n",
        "\n",
        "# Display each candidate using the helper function with a fixed width.\n",
        "for i, candidate in enumerate(candidate_unfoldings):\n",
        "    print(f\"Candidate {i}:\")\n",
        "    display_svg(candidate, width=200)\n"
      ],
      "metadata": {
        "colab": {
          "base_uri": "https://localhost:8080/",
          "height": 1000
        },
        "collapsed": true,
        "id": "nUNO9EdlIjPF",
        "outputId": "509e856b-c14e-4ccb-ff55-6b52299b4d63"
      },
      "execution_count": null,
      "outputs": [
        {
          "output_type": "stream",
          "name": "stdout",
          "text": [
            "Candidate 0:\n"
          ]
        },
        {
          "output_type": "display_data",
          "data": {
            "text/plain": [
              "<IPython.core.display.HTML object>"
            ],
            "text/html": [
              "<div style=\"width: 200px;\">\n",
              "<svg viewBox=\"0 0 200 200\" xmlns=\"http://www.w3.org/2000/svg\">\n",
              "  <!-- Candidate 0: Cross net -->\n",
              "  <rect x=\"50\" y=\"50\" width=\"50\" height=\"50\" stroke=\"black\" fill=\"none\"/>\n",
              "  <rect x=\"0\" y=\"50\" width=\"50\" height=\"50\" stroke=\"black\" fill=\"none\"/>\n",
              "  <rect x=\"100\" y=\"50\" width=\"50\" height=\"50\" stroke=\"black\" fill=\"none\"/>\n",
              "  <rect x=\"50\" y=\"0\" width=\"50\" height=\"50\" stroke=\"black\" fill=\"none\"/>\n",
              "  <rect x=\"50\" y=\"100\" width=\"50\" height=\"50\" stroke=\"black\" fill=\"none\"/>\n",
              "  <rect x=\"50\" y=\"150\" width=\"50\" height=\"50\" stroke=\"black\" fill=\"none\"/>\n",
              "</svg>\n",
              "</div>"
            ]
          },
          "metadata": {}
        },
        {
          "output_type": "stream",
          "name": "stdout",
          "text": [
            "Candidate 1:\n"
          ]
        },
        {
          "output_type": "display_data",
          "data": {
            "text/plain": [
              "<IPython.core.display.HTML object>"
            ],
            "text/html": [
              "<div style=\"width: 200px;\">\n",
              "<svg viewBox=\"0 0 200 150\" xmlns=\"http://www.w3.org/2000/svg\">\n",
              "  <!-- Candidate 1: Row-extended net -->\n",
              "  <rect x=\"0\" y=\"50\" width=\"50\" height=\"50\" stroke=\"black\" fill=\"none\"/>\n",
              "  <rect x=\"50\" y=\"50\" width=\"50\" height=\"50\" stroke=\"black\" fill=\"none\"/>\n",
              "  <rect x=\"100\" y=\"50\" width=\"50\" height=\"50\" stroke=\"black\" fill=\"none\"/>\n",
              "  <rect x=\"150\" y=\"50\" width=\"50\" height=\"50\" stroke=\"black\" fill=\"none\"/>\n",
              "  <rect x=\"50\" y=\"0\" width=\"50\" height=\"50\" stroke=\"black\" fill=\"none\"/>\n",
              "  <rect x=\"50\" y=\"100\" width=\"50\" height=\"50\" stroke=\"black\" fill=\"none\"/>\n",
              "</svg>\n",
              "</div>"
            ]
          },
          "metadata": {}
        },
        {
          "output_type": "stream",
          "name": "stdout",
          "text": [
            "Candidate 2:\n"
          ]
        },
        {
          "output_type": "display_data",
          "data": {
            "text/plain": [
              "<IPython.core.display.HTML object>"
            ],
            "text/html": [
              "<div style=\"width: 200px;\">\n",
              "<svg viewBox=\"0 0 150 150\" xmlns=\"http://www.w3.org/2000/svg\">\n",
              "  <!-- Candidate 2: L-shaped net -->\n",
              "  <rect x=\"50\" y=\"0\" width=\"50\" height=\"50\" stroke=\"black\" fill=\"none\"/>\n",
              "  <rect x=\"50\" y=\"50\" width=\"50\" height=\"50\" stroke=\"black\" fill=\"none\"/>\n",
              "  <rect x=\"0\" y=\"50\" width=\"50\" height=\"50\" stroke=\"black\" fill=\"none\"/>\n",
              "  <rect x=\"100\" y=\"50\" width=\"50\" height=\"50\" stroke=\"black\" fill=\"none\"/>\n",
              "  <rect x=\"0\" y=\"100\" width=\"50\" height=\"50\" stroke=\"black\" fill=\"none\"/>\n",
              "  <rect x=\"50\" y=\"100\" width=\"50\" height=\"50\" stroke=\"black\" fill=\"none\"/>\n",
              "</svg>\n",
              "</div>"
            ]
          },
          "metadata": {}
        },
        {
          "output_type": "stream",
          "name": "stdout",
          "text": [
            "Candidate 3:\n"
          ]
        },
        {
          "output_type": "display_data",
          "data": {
            "text/plain": [
              "<IPython.core.display.HTML object>"
            ],
            "text/html": [
              "<div style=\"width: 200px;\">\n",
              "<svg viewBox=\"0 0 150 150\" xmlns=\"http://www.w3.org/2000/svg\">\n",
              "  <!-- Candidate 3: Alternate L-shaped net -->\n",
              "  <rect x=\"50\" y=\"0\" width=\"50\" height=\"50\" stroke=\"black\" fill=\"none\"/>\n",
              "  <rect x=\"0\" y=\"50\" width=\"50\" height=\"50\" stroke=\"black\" fill=\"none\"/>\n",
              "  <rect x=\"50\" y=\"50\" width=\"50\" height=\"50\" stroke=\"black\" fill=\"none\"/>\n",
              "  <rect x=\"100\" y=\"50\" width=\"50\" height=\"50\" stroke=\"black\" fill=\"none\"/>\n",
              "  <rect x=\"100\" y=\"100\" width=\"50\" height=\"50\" stroke=\"black\" fill=\"none\"/>\n",
              "  <rect x=\"50\" y=\"100\" width=\"50\" height=\"50\" stroke=\"black\" fill=\"none\"/>\n",
              "</svg>\n",
              "</div>"
            ]
          },
          "metadata": {}
        },
        {
          "output_type": "stream",
          "name": "stdout",
          "text": [
            "Candidate 4:\n"
          ]
        },
        {
          "output_type": "display_data",
          "data": {
            "text/plain": [
              "<IPython.core.display.HTML object>"
            ],
            "text/html": [
              "<div style=\"width: 200px;\">\n",
              "<svg viewBox=\"0 0 150 200\" xmlns=\"http://www.w3.org/2000/svg\">\n",
              "  <!-- Candidate 4: Offset net -->\n",
              "  <rect x=\"0\" y=\"0\" width=\"50\" height=\"50\" stroke=\"black\" fill=\"none\"/>\n",
              "  <rect x=\"50\" y=\"0\" width=\"50\" height=\"50\" stroke=\"black\" fill=\"none\"/>\n",
              "  <rect x=\"50\" y=\"50\" width=\"50\" height=\"50\" stroke=\"black\" fill=\"none\"/>\n",
              "  <rect x=\"100\" y=\"50\" width=\"50\" height=\"50\" stroke=\"black\" fill=\"none\"/>\n",
              "  <rect x=\"50\" y=\"100\" width=\"50\" height=\"50\" stroke=\"black\" fill=\"none\"/>\n",
              "  <rect x=\"50\" y=\"150\" width=\"50\" height=\"50\" stroke=\"black\" fill=\"none\"/>\n",
              "</svg>\n",
              "</div>"
            ]
          },
          "metadata": {}
        },
        {
          "output_type": "stream",
          "name": "stdout",
          "text": [
            "Candidate 5:\n"
          ]
        },
        {
          "output_type": "display_data",
          "data": {
            "text/plain": [
              "<IPython.core.display.HTML object>"
            ],
            "text/html": [
              "<div style=\"width: 200px;\">\n",
              "<svg viewBox=\"0 0 200 150\" xmlns=\"http://www.w3.org/2000/svg\">\n",
              "  <!-- Candidate 5: Extended row with branch -->\n",
              "  <rect x=\"50\" y=\"0\" width=\"50\" height=\"50\" stroke=\"black\" fill=\"none\"/>\n",
              "  <rect x=\"0\" y=\"50\" width=\"50\" height=\"50\" stroke=\"black\" fill=\"none\"/>\n",
              "  <rect x=\"50\" y=\"50\" width=\"50\" height=\"50\" stroke=\"black\" fill=\"none\"/>\n",
              "  <rect x=\"100\" y=\"50\" width=\"50\" height=\"50\" stroke=\"black\" fill=\"none\"/>\n",
              "  <rect x=\"150\" y=\"50\" width=\"50\" height=\"50\" stroke=\"black\" fill=\"none\"/>\n",
              "  <rect x=\"100\" y=\"100\" width=\"50\" height=\"50\" stroke=\"black\" fill=\"none\"/>\n",
              "</svg>\n",
              "</div>"
            ]
          },
          "metadata": {}
        },
        {
          "output_type": "stream",
          "name": "stdout",
          "text": [
            "Candidate 6:\n"
          ]
        },
        {
          "output_type": "display_data",
          "data": {
            "text/plain": [
              "<IPython.core.display.HTML object>"
            ],
            "text/html": [
              "<div style=\"width: 200px;\">\n",
              "<svg viewBox=\"0 0 150 200\" xmlns=\"http://www.w3.org/2000/svg\">\n",
              "  <!-- Candidate 6: Vertical column attached off-center -->\n",
              "  <rect x=\"50\" y=\"0\" width=\"50\" height=\"50\" stroke=\"black\" fill=\"none\"/>\n",
              "  <rect x=\"50\" y=\"50\" width=\"50\" height=\"50\" stroke=\"black\" fill=\"none\"/>\n",
              "  <rect x=\"0\" y=\"100\" width=\"50\" height=\"50\" stroke=\"black\" fill=\"none\"/>\n",
              "  <rect x=\"50\" y=\"100\" width=\"50\" height=\"50\" stroke=\"black\" fill=\"none\"/>\n",
              "  <rect x=\"100\" y=\"100\" width=\"50\" height=\"50\" stroke=\"black\" fill=\"none\"/>\n",
              "  <rect x=\"50\" y=\"150\" width=\"50\" height=\"50\" stroke=\"black\" fill=\"none\"/>\n",
              "</svg>\n",
              "</div>"
            ]
          },
          "metadata": {}
        },
        {
          "output_type": "stream",
          "name": "stdout",
          "text": [
            "Candidate 7:\n"
          ]
        },
        {
          "output_type": "display_data",
          "data": {
            "text/plain": [
              "<IPython.core.display.HTML object>"
            ],
            "text/html": [
              "<div style=\"width: 200px;\">\n",
              "<svg viewBox=\"0 0 150 200\" xmlns=\"http://www.w3.org/2000/svg\">\n",
              "  <!-- Candidate 7: Shifted vertical net -->\n",
              "  <rect x=\"100\" y=\"0\" width=\"50\" height=\"50\" stroke=\"black\" fill=\"none\"/>\n",
              "  <rect x=\"0\" y=\"50\" width=\"50\" height=\"50\" stroke=\"black\" fill=\"none\"/>\n",
              "  <rect x=\"50\" y=\"50\" width=\"50\" height=\"50\" stroke=\"black\" fill=\"none\"/>\n",
              "  <rect x=\"100\" y=\"50\" width=\"50\" height=\"50\" stroke=\"black\" fill=\"none\"/>\n",
              "  <rect x=\"100\" y=\"100\" width=\"50\" height=\"50\" stroke=\"black\" fill=\"none\"/>\n",
              "  <rect x=\"100\" y=\"150\" width=\"50\" height=\"50\" stroke=\"black\" fill=\"none\"/>\n",
              "</svg>\n",
              "</div>"
            ]
          },
          "metadata": {}
        },
        {
          "output_type": "stream",
          "name": "stdout",
          "text": [
            "Candidate 8:\n"
          ]
        },
        {
          "output_type": "display_data",
          "data": {
            "text/plain": [
              "<IPython.core.display.HTML object>"
            ],
            "text/html": [
              "<div style=\"width: 200px;\">\n",
              "<svg viewBox=\"0 0 150 150\" xmlns=\"http://www.w3.org/2000/svg\">\n",
              "  <!-- Candidate 8: Left-column net -->\n",
              "  <rect x=\"0\" y=\"0\" width=\"50\" height=\"50\" stroke=\"black\" fill=\"none\"/>\n",
              "  <rect x=\"50\" y=\"0\" width=\"50\" height=\"50\" stroke=\"black\" fill=\"none\"/>\n",
              "  <rect x=\"100\" y=\"0\" width=\"50\" height=\"50\" stroke=\"black\" fill=\"none\"/>\n",
              "  <rect x=\"0\" y=\"50\" width=\"50\" height=\"50\" stroke=\"black\" fill=\"none\"/>\n",
              "  <rect x=\"50\" y=\"50\" width=\"50\" height=\"50\" stroke=\"black\" fill=\"none\"/>\n",
              "  <rect x=\"0\" y=\"100\" width=\"50\" height=\"50\" stroke=\"black\" fill=\"none\"/>\n",
              "</svg>\n",
              "</div>"
            ]
          },
          "metadata": {}
        },
        {
          "output_type": "stream",
          "name": "stdout",
          "text": [
            "Candidate 9:\n"
          ]
        },
        {
          "output_type": "display_data",
          "data": {
            "text/plain": [
              "<IPython.core.display.HTML object>"
            ],
            "text/html": [
              "<div style=\"width: 200px;\">\n",
              "<svg viewBox=\"50 50 150 150\" xmlns=\"http://www.w3.org/2000/svg\">\n",
              "  <!-- Candidate 9: Net with shifted coordinates -->\n",
              "  <rect x=\"50\" y=\"50\" width=\"50\" height=\"50\" stroke=\"black\" fill=\"none\"/>\n",
              "  <rect x=\"100\" y=\"50\" width=\"50\" height=\"50\" stroke=\"black\" fill=\"none\"/>\n",
              "  <rect x=\"150\" y=\"50\" width=\"50\" height=\"50\" stroke=\"black\" fill=\"none\"/>\n",
              "  <rect x=\"50\" y=\"100\" width=\"50\" height=\"50\" stroke=\"black\" fill=\"none\"/>\n",
              "  <rect x=\"50\" y=\"150\" width=\"50\" height=\"50\" stroke=\"black\" fill=\"none\"/>\n",
              "  <rect x=\"100\" y=\"150\" width=\"50\" height=\"50\" stroke=\"black\" fill=\"none\"/>\n",
              "</svg>\n",
              "</div>"
            ]
          },
          "metadata": {}
        },
        {
          "output_type": "stream",
          "name": "stdout",
          "text": [
            "Candidate 10:\n"
          ]
        },
        {
          "output_type": "display_data",
          "data": {
            "text/plain": [
              "<IPython.core.display.HTML object>"
            ],
            "text/html": [
              "<div style=\"width: 200px;\">\n",
              "<svg viewBox=\"0 0 150 150\" xmlns=\"http://www.w3.org/2000/svg\">\n",
              "  <!-- Candidate 10: Central row with top and bottom attachments -->\n",
              "  <rect x=\"50\" y=\"0\" width=\"50\" height=\"50\" stroke=\"black\" fill=\"none\"/>\n",
              "  <rect x=\"100\" y=\"0\" width=\"50\" height=\"50\" stroke=\"black\" fill=\"none\"/>\n",
              "  <rect x=\"0\" y=\"50\" width=\"50\" height=\"50\" stroke=\"black\" fill=\"none\"/>\n",
              "  <rect x=\"50\" y=\"50\" width=\"50\" height=\"50\" stroke=\"black\" fill=\"none\"/>\n",
              "  <rect x=\"100\" y=\"50\" width=\"50\" height=\"50\" stroke=\"black\" fill=\"none\"/>\n",
              "  <rect x=\"50\" y=\"100\" width=\"50\" height=\"50\" stroke=\"black\" fill=\"none\"/>\n",
              "</svg>\n",
              "</div>"
            ]
          },
          "metadata": {}
        }
      ]
    },
    {
      "cell_type": "markdown",
      "source": [
        "Main attributes for tweaking computation and results.\n",
        "> **tolerance**:\n",
        "- When converting SVG paths and shapes into polygons, Packaide “discretizes” (or approximates) the curves and lines by generating a set of points. The tolerance parameter controls how finely this discretization is done.\n",
        "- Smaller Tolerance:\n",
        "Generates more points per path, leading to a more accurate (and possibly more complex) polygon approximation.\n",
        "Can yield tighter and more precise packings because the shape is represented more exactly.\n",
        "However, it may increase computation time because there are more points to process.\n",
        "- Larger Tolerance:\n",
        "Results in a coarser approximation of the shape.\n",
        "May run faster, but it could lead to a less precise representation, potentially affecting the quality of the packing (i.e., the parts might not interlock as tightly).\n",
        "\n",
        "> **offset**:\n",
        "- The offset parameter specifies the extra space (or “margin”) that is added around each shape when it is being packed. This is equivalent to “dilating” the shape by a fixed distance.\n",
        "- Higher Offset:\n",
        "Increases the gap between placed parts.\n",
        "Ensures that there’s a safety margin so the parts don’t overlap—even when there might be slight inaccuracies.\n",
        "However, this extra space may lead to a less efficient use of the material (more waste).\n",
        "- Lower Offset:\n",
        "Minimizes the gap between parts, potentially increasing material utilization.\n",
        "But there’s a higher risk of overlap if the discretization (tolerance) isn’t precise enough or if slight errors occur in the packing process.\n",
        "\n",
        "> **partial_solution**:\n",
        "- When partial_solution is set to True, Packaide will return a solution that places as many parts as possible on the given sheet—even if it cannot place all of them. If set to False, Packaide will only return a result if it can place every part; otherwise, no solution is returned.\n",
        "- True:\n",
        "Provides a solution even when some parts cannot be placed.\n",
        "Useful when you want to maximize usage and are willing to accept that some parts may remain unplaced.\n",
        "- False:\n",
        "Only acceptable if every part fits.\n",
        "If not all parts can be placed, you get no solution at all.\n",
        "\n",
        "> **rotations**:\n",
        "- The rotations parameter tells Packaide how many orientations (rotations) of the shapes to consider when trying to pack them. A value of 1 means that only the original orientation is used.\n",
        "- Higher Values:\n",
        "Packaide will try additional rotations (e.g., for 4 rotations it might try 0°, 90°, 180°, and 270°).\n",
        "This can lead to a better packing layout because a rotated shape might fit more snugly into the available space.\n",
        "However, considering more rotations increases computation time.\n",
        "- Value of 1:\n",
        "Only the provided orientation is used.\n",
        "Faster computation but might miss a more efficient layout that a rotated shape could provide.\n",
        "\n",
        "> **persist**:\n",
        "- When persist is set to True, Packaide caches (stores) computed results—especially the non-fit polygons (NFPs) or other intermediate geometry calculations—to speed up subsequent packing operations if the same shapes are encountered again.\n",
        "- True:\n",
        "Speeds up repeated packing operations, particularly useful in iterative or interactive settings.\n",
        "Uses additional memory to store cached data.\n",
        "- False:\n",
        "No caching is done.\n",
        "Each packing operation is computed from scratch, which might be slower if you’re working with many similar shapes repeatedly.\n",
        "\n",
        "Below is a script that displays the packings of all original unfoldings along with each one's packaging according to packaide's internal logic.\n",
        "> The reason we're displaying both is because we want to make sure that one of our original unfoldings is not already the most effiecient one before throwing it on packaide (which seems to be not super efficient at times)."
      ],
      "metadata": {
        "id": "NKqNh1kuTExD"
      }
    },
    {
      "cell_type": "code",
      "source": [
        "from IPython.display import HTML, display\n",
        "from xml.dom import minidom\n",
        "import packaide\n",
        "import shapely.geometry\n",
        "\n",
        "# --- Helper function to display an SVG string in a fixed-width container ---\n",
        "def display_svg(svg_str, width=200):\n",
        "    html_str = f'<div style=\"width: {width}px;\">{svg_str}</div>'\n",
        "    display(HTML(html_str))\n",
        "\n",
        "# --- Function to add a bounding box overlay to an SVG string ---\n",
        "def add_bounding_box_to_svg(svg_str, tolerance=1):\n",
        "    # Compute the union polygon using Packaide's extraction\n",
        "    _, polygons = packaide.extract_shapely_polygons(svg_str, tolerance)\n",
        "    union_poly = None\n",
        "    for boundary, _ in polygons:\n",
        "        if union_poly is None:\n",
        "            union_poly = boundary\n",
        "        else:\n",
        "            union_poly = union_poly.union(boundary)\n",
        "    if union_poly is None:\n",
        "        return svg_str  # nothing to overlay\n",
        "\n",
        "    envelope = union_poly.envelope\n",
        "    minx, miny, maxx, maxy = envelope.bounds\n",
        "    width_rect = maxx - minx\n",
        "    height_rect = maxy - miny\n",
        "\n",
        "    # Parse the SVG string into a DOM document\n",
        "    doc = minidom.parseString(svg_str)\n",
        "    svg_elem = doc.getElementsByTagName(\"svg\")[0]\n",
        "\n",
        "    # Create a new <rect> element for the bounding box\n",
        "    rect_elem = doc.createElement(\"rect\")\n",
        "    rect_elem.setAttribute(\"x\", str(minx))\n",
        "    rect_elem.setAttribute(\"y\", str(miny))\n",
        "    rect_elem.setAttribute(\"width\", str(width_rect))\n",
        "    rect_elem.setAttribute(\"height\", str(height_rect))\n",
        "    rect_elem.setAttribute(\"stroke\", \"red\")\n",
        "    rect_elem.setAttribute(\"fill\", \"none\")\n",
        "    rect_elem.setAttribute(\"stroke-dasharray\", \"4\")\n",
        "\n",
        "    # Append the bounding box rectangle to the SVG element\n",
        "    svg_elem.appendChild(rect_elem)\n",
        "\n",
        "    return doc.toxml()\n",
        "\n",
        "# --- (Re)Use the geometry utility function to compute utilization ---\n",
        "def compute_union_polygon(placed_svg, tolerance=1):\n",
        "    _, polygons = packaide.extract_shapely_polygons(placed_svg, tolerance)\n",
        "    union_poly = None\n",
        "    for boundary, _ in polygons:\n",
        "        if union_poly is None:\n",
        "            union_poly = boundary\n",
        "        else:\n",
        "            union_poly = union_poly.union(boundary)\n",
        "    return union_poly\n",
        "\n",
        "def compute_utilization(placed_svg, tolerance=1):\n",
        "    union_poly = compute_union_polygon(placed_svg, tolerance)\n",
        "    if union_poly is None:\n",
        "        return 0\n",
        "    shape_area = union_poly.area\n",
        "    bbox_area = union_poly.envelope.area\n",
        "    if bbox_area == 0:\n",
        "        return 0\n",
        "    return shape_area / bbox_area\n",
        "\n",
        "# --- Use your blank sheet (from previous cell) ---\n",
        "sheet_width = 300\n",
        "sheet_height = 300\n",
        "sheet_svg = packaide.blank_sheet(sheet_width, sheet_height)\n",
        "\n",
        "print(\"Displaying each candidate net in two versions:\\n\" +\n",
        "      \"1. The ORIGINAL candidate (with its own bounding box)\\n\" +\n",
        "      \"2. The PACKED version as processed by Packaide (with its bounding box)\\n\")\n",
        "\n",
        "# Iterate over each candidate from candidate_unfoldings (assumed defined in Cell 1)\n",
        "for i, candidate_svg in enumerate(candidate_unfoldings):\n",
        "    print(f\"\\nCandidate {i}:\")\n",
        "\n",
        "    # --- ORIGINAL candidate version ---\n",
        "    original_box_svg = add_bounding_box_to_svg(candidate_svg, tolerance=1)\n",
        "    original_util = compute_utilization(candidate_svg, tolerance=1)\n",
        "    print(f\"  Original Utilization: {original_util:.2f}\")\n",
        "    display_svg(original_box_svg, width=200)\n",
        "\n",
        "    # --- PACKED candidate version ---\n",
        "    result, placed, fails = packaide.pack(\n",
        "        [sheet_svg],\n",
        "        candidate_svg,\n",
        "        tolerance=1,\n",
        "        offset=1,\n",
        "        partial_solution=True,\n",
        "        rotations=4,\n",
        "        persist=False\n",
        "    )\n",
        "    if not result:\n",
        "        print(\"  Packed version: Packing failed.\")\n",
        "        continue\n",
        "    sheet_idx, packed_svg = result[0]\n",
        "    packed_box_svg = add_bounding_box_to_svg(packed_svg, tolerance=1)\n",
        "    packed_util = compute_utilization(packed_svg, tolerance=1)\n",
        "    print(f\"  Packed Utilization: {packed_util:.2f}\")\n",
        "    display_svg(packed_box_svg, width=200)\n"
      ],
      "metadata": {
        "colab": {
          "base_uri": "https://localhost:8080/",
          "height": 1000
        },
        "id": "-d5o_9CeMMmu",
        "outputId": "7a42cc84-9342-4c3a-9ceb-8a1f7a69297c"
      },
      "execution_count": null,
      "outputs": [
        {
          "output_type": "stream",
          "name": "stdout",
          "text": [
            "Displaying each candidate net in two versions:\n",
            "1. The ORIGINAL candidate (with its own bounding box)\n",
            "2. The PACKED version as processed by Packaide (with its bounding box)\n",
            "\n",
            "\n",
            "Candidate 0:\n",
            "  Original Utilization: 0.52\n"
          ]
        },
        {
          "output_type": "display_data",
          "data": {
            "text/plain": [
              "<IPython.core.display.HTML object>"
            ],
            "text/html": [
              "<div style=\"width: 200px;\"><?xml version=\"1.0\" ?><svg xmlns=\"http://www.w3.org/2000/svg\" viewBox=\"0 0 200 200\">\n",
              "  <!-- Candidate 0: Cross net -->\n",
              "  <rect x=\"50\" y=\"50\" width=\"50\" height=\"50\" stroke=\"black\" fill=\"none\"/>\n",
              "  <rect x=\"0\" y=\"50\" width=\"50\" height=\"50\" stroke=\"black\" fill=\"none\"/>\n",
              "  <rect x=\"100\" y=\"50\" width=\"50\" height=\"50\" stroke=\"black\" fill=\"none\"/>\n",
              "  <rect x=\"50\" y=\"0\" width=\"50\" height=\"50\" stroke=\"black\" fill=\"none\"/>\n",
              "  <rect x=\"50\" y=\"100\" width=\"50\" height=\"50\" stroke=\"black\" fill=\"none\"/>\n",
              "  <rect x=\"50\" y=\"150\" width=\"50\" height=\"50\" stroke=\"black\" fill=\"none\"/>\n",
              "<rect x=\"-1.5\" y=\"-1.5\" width=\"153.0\" height=\"203.0\" stroke=\"red\" fill=\"none\" stroke-dasharray=\"4\"/></svg></div>"
            ]
          },
          "metadata": {}
        },
        {
          "output_type": "stream",
          "name": "stdout",
          "text": [
            "  Packed Utilization: 0.57\n"
          ]
        },
        {
          "output_type": "display_data",
          "data": {
            "text/plain": [
              "<IPython.core.display.HTML object>"
            ],
            "text/html": [
              "<div style=\"width: 200px;\"><?xml version=\"1.0\" ?><svg viewBox=\"0 0 300 300\" width=\"300\" height=\"300\">\n",
              "\t<path d=\"M 50,50 L 100,50 L 100,100 L 50,100 Z\" color=\"black\" fill=\"none\" stroke=\"black\" transform=\"translate(-47.500,-47.500) rotate(0.000,47.500,47.500)\"/>\n",
              "\t<path d=\"M 0,50 L 50,50 L 50,100 L 0,100 Z\" color=\"black\" fill=\"none\" stroke=\"black\" transform=\"translate(2.500,7.500) rotate(0.000,-2.500,47.500)\"/>\n",
              "\t<path d=\"M 100,50 L 150,50 L 150,100 L 100,100 Z\" color=\"black\" fill=\"none\" stroke=\"black\" transform=\"translate(-97.500,62.500) rotate(0.000,97.500,47.500)\"/>\n",
              "\t<path d=\"M 50,0 L 100,0 L 100,50 L 50,50 Z\" color=\"black\" fill=\"none\" stroke=\"black\" transform=\"translate(-47.500,167.500) rotate(0.000,47.500,-2.500)\"/>\n",
              "\t<path d=\"M 50,100 L 100,100 L 100,150 L 50,150 Z\" color=\"black\" fill=\"none\" stroke=\"black\" transform=\"translate(-47.500,122.500) rotate(0.000,47.500,97.500)\"/>\n",
              "\t<path d=\"M 50,150 L 100,150 L 100,200 L 50,200 Z\" color=\"black\" fill=\"none\" stroke=\"black\" transform=\"translate(7.500,-147.500) rotate(0.000,47.500,147.500)\"/>\n",
              "<rect x=\"1.0\" y=\"1.0\" width=\"108.0\" height=\"273.0\" stroke=\"red\" fill=\"none\" stroke-dasharray=\"4\"/></svg></div>"
            ]
          },
          "metadata": {}
        },
        {
          "output_type": "stream",
          "name": "stdout",
          "text": [
            "\n",
            "Candidate 1:\n",
            "  Original Utilization: 0.52\n"
          ]
        },
        {
          "output_type": "display_data",
          "data": {
            "text/plain": [
              "<IPython.core.display.HTML object>"
            ],
            "text/html": [
              "<div style=\"width: 200px;\"><?xml version=\"1.0\" ?><svg xmlns=\"http://www.w3.org/2000/svg\" viewBox=\"0 0 200 150\">\n",
              "  <!-- Candidate 1: Row-extended net -->\n",
              "  <rect x=\"0\" y=\"50\" width=\"50\" height=\"50\" stroke=\"black\" fill=\"none\"/>\n",
              "  <rect x=\"50\" y=\"50\" width=\"50\" height=\"50\" stroke=\"black\" fill=\"none\"/>\n",
              "  <rect x=\"100\" y=\"50\" width=\"50\" height=\"50\" stroke=\"black\" fill=\"none\"/>\n",
              "  <rect x=\"150\" y=\"50\" width=\"50\" height=\"50\" stroke=\"black\" fill=\"none\"/>\n",
              "  <rect x=\"50\" y=\"0\" width=\"50\" height=\"50\" stroke=\"black\" fill=\"none\"/>\n",
              "  <rect x=\"50\" y=\"100\" width=\"50\" height=\"50\" stroke=\"black\" fill=\"none\"/>\n",
              "<rect x=\"-1.5\" y=\"-1.5\" width=\"203.0\" height=\"153.0\" stroke=\"red\" fill=\"none\" stroke-dasharray=\"4\"/></svg></div>"
            ]
          },
          "metadata": {}
        },
        {
          "output_type": "stream",
          "name": "stdout",
          "text": [
            "  Packed Utilization: 0.57\n"
          ]
        },
        {
          "output_type": "display_data",
          "data": {
            "text/plain": [
              "<IPython.core.display.HTML object>"
            ],
            "text/html": [
              "<div style=\"width: 200px;\"><?xml version=\"1.0\" ?><svg viewBox=\"0 0 300 300\" width=\"300\" height=\"300\">\n",
              "\t<path d=\"M 0,50 L 50,50 L 50,100 L 0,100 Z\" color=\"black\" fill=\"none\" stroke=\"black\" transform=\"translate(2.500,-47.500) rotate(0.000,-2.500,47.500)\"/>\n",
              "\t<path d=\"M 50,50 L 100,50 L 100,100 L 50,100 Z\" color=\"black\" fill=\"none\" stroke=\"black\" transform=\"translate(-47.500,7.500) rotate(0.000,47.500,47.500)\"/>\n",
              "\t<path d=\"M 100,50 L 150,50 L 150,100 L 100,100 Z\" color=\"black\" fill=\"none\" stroke=\"black\" transform=\"translate(-97.500,62.500) rotate(0.000,97.500,47.500)\"/>\n",
              "\t<path d=\"M 150,50 L 200,50 L 200,100 L 150,100 Z\" color=\"black\" fill=\"none\" stroke=\"black\" transform=\"translate(-147.500,117.500) rotate(0.000,147.500,47.500)\"/>\n",
              "\t<path d=\"M 50,0 L 100,0 L 100,50 L 50,50 Z\" color=\"black\" fill=\"none\" stroke=\"black\" transform=\"translate(-47.500,222.500) rotate(0.000,47.500,-2.500)\"/>\n",
              "\t<path d=\"M 50,100 L 100,100 L 100,150 L 50,150 Z\" color=\"black\" fill=\"none\" stroke=\"black\" transform=\"translate(7.500,-97.500) rotate(0.000,47.500,97.500)\"/>\n",
              "<rect x=\"1.0\" y=\"1.0\" width=\"108.0\" height=\"273.0\" stroke=\"red\" fill=\"none\" stroke-dasharray=\"4\"/></svg></div>"
            ]
          },
          "metadata": {}
        },
        {
          "output_type": "stream",
          "name": "stdout",
          "text": [
            "\n",
            "Candidate 2:\n",
            "  Original Utilization: 0.68\n"
          ]
        },
        {
          "output_type": "display_data",
          "data": {
            "text/plain": [
              "<IPython.core.display.HTML object>"
            ],
            "text/html": [
              "<div style=\"width: 200px;\"><?xml version=\"1.0\" ?><svg xmlns=\"http://www.w3.org/2000/svg\" viewBox=\"0 0 150 150\">\n",
              "  <!-- Candidate 2: L-shaped net -->\n",
              "  <rect x=\"50\" y=\"0\" width=\"50\" height=\"50\" stroke=\"black\" fill=\"none\"/>\n",
              "  <rect x=\"50\" y=\"50\" width=\"50\" height=\"50\" stroke=\"black\" fill=\"none\"/>\n",
              "  <rect x=\"0\" y=\"50\" width=\"50\" height=\"50\" stroke=\"black\" fill=\"none\"/>\n",
              "  <rect x=\"100\" y=\"50\" width=\"50\" height=\"50\" stroke=\"black\" fill=\"none\"/>\n",
              "  <rect x=\"0\" y=\"100\" width=\"50\" height=\"50\" stroke=\"black\" fill=\"none\"/>\n",
              "  <rect x=\"50\" y=\"100\" width=\"50\" height=\"50\" stroke=\"black\" fill=\"none\"/>\n",
              "<rect x=\"-1.5\" y=\"-1.5\" width=\"153.0\" height=\"153.0\" stroke=\"red\" fill=\"none\" stroke-dasharray=\"4\"/></svg></div>"
            ]
          },
          "metadata": {}
        },
        {
          "output_type": "stream",
          "name": "stdout",
          "text": [
            "  Packed Utilization: 0.57\n"
          ]
        },
        {
          "output_type": "display_data",
          "data": {
            "text/plain": [
              "<IPython.core.display.HTML object>"
            ],
            "text/html": [
              "<div style=\"width: 200px;\"><?xml version=\"1.0\" ?><svg viewBox=\"0 0 300 300\" width=\"300\" height=\"300\">\n",
              "\t<path d=\"M 50,0 L 100,0 L 100,50 L 50,50 Z\" color=\"black\" fill=\"none\" stroke=\"black\" transform=\"translate(-47.500,2.500) rotate(0.000,47.500,-2.500)\"/>\n",
              "\t<path d=\"M 50,50 L 100,50 L 100,100 L 50,100 Z\" color=\"black\" fill=\"none\" stroke=\"black\" transform=\"translate(-47.500,7.500) rotate(0.000,47.500,47.500)\"/>\n",
              "\t<path d=\"M 0,50 L 50,50 L 50,100 L 0,100 Z\" color=\"black\" fill=\"none\" stroke=\"black\" transform=\"translate(2.500,62.500) rotate(0.000,-2.500,47.500)\"/>\n",
              "\t<path d=\"M 100,50 L 150,50 L 150,100 L 100,100 Z\" color=\"black\" fill=\"none\" stroke=\"black\" transform=\"translate(-97.500,117.500) rotate(0.000,97.500,47.500)\"/>\n",
              "\t<path d=\"M 0,100 L 50,100 L 50,150 L 0,150 Z\" color=\"black\" fill=\"none\" stroke=\"black\" transform=\"translate(2.500,122.500) rotate(0.000,-2.500,97.500)\"/>\n",
              "\t<path d=\"M 50,100 L 100,100 L 100,150 L 50,150 Z\" color=\"black\" fill=\"none\" stroke=\"black\" transform=\"translate(7.500,-97.500) rotate(0.000,47.500,97.500)\"/>\n",
              "<rect x=\"1.0\" y=\"1.0\" width=\"108.0\" height=\"273.0\" stroke=\"red\" fill=\"none\" stroke-dasharray=\"4\"/></svg></div>"
            ]
          },
          "metadata": {}
        },
        {
          "output_type": "stream",
          "name": "stdout",
          "text": [
            "\n",
            "Candidate 3:\n",
            "  Original Utilization: 0.68\n"
          ]
        },
        {
          "output_type": "display_data",
          "data": {
            "text/plain": [
              "<IPython.core.display.HTML object>"
            ],
            "text/html": [
              "<div style=\"width: 200px;\"><?xml version=\"1.0\" ?><svg xmlns=\"http://www.w3.org/2000/svg\" viewBox=\"0 0 150 150\">\n",
              "  <!-- Candidate 3: Alternate L-shaped net -->\n",
              "  <rect x=\"50\" y=\"0\" width=\"50\" height=\"50\" stroke=\"black\" fill=\"none\"/>\n",
              "  <rect x=\"0\" y=\"50\" width=\"50\" height=\"50\" stroke=\"black\" fill=\"none\"/>\n",
              "  <rect x=\"50\" y=\"50\" width=\"50\" height=\"50\" stroke=\"black\" fill=\"none\"/>\n",
              "  <rect x=\"100\" y=\"50\" width=\"50\" height=\"50\" stroke=\"black\" fill=\"none\"/>\n",
              "  <rect x=\"100\" y=\"100\" width=\"50\" height=\"50\" stroke=\"black\" fill=\"none\"/>\n",
              "  <rect x=\"50\" y=\"100\" width=\"50\" height=\"50\" stroke=\"black\" fill=\"none\"/>\n",
              "<rect x=\"-1.5\" y=\"-1.5\" width=\"153.0\" height=\"153.0\" stroke=\"red\" fill=\"none\" stroke-dasharray=\"4\"/></svg></div>"
            ]
          },
          "metadata": {}
        },
        {
          "output_type": "stream",
          "name": "stdout",
          "text": [
            "  Packed Utilization: 0.57\n"
          ]
        },
        {
          "output_type": "display_data",
          "data": {
            "text/plain": [
              "<IPython.core.display.HTML object>"
            ],
            "text/html": [
              "<div style=\"width: 200px;\"><?xml version=\"1.0\" ?><svg viewBox=\"0 0 300 300\" width=\"300\" height=\"300\">\n",
              "\t<path d=\"M 50,0 L 100,0 L 100,50 L 50,50 Z\" color=\"black\" fill=\"none\" stroke=\"black\" transform=\"translate(-47.500,2.500) rotate(0.000,47.500,-2.500)\"/>\n",
              "\t<path d=\"M 0,50 L 50,50 L 50,100 L 0,100 Z\" color=\"black\" fill=\"none\" stroke=\"black\" transform=\"translate(2.500,7.500) rotate(0.000,-2.500,47.500)\"/>\n",
              "\t<path d=\"M 50,50 L 100,50 L 100,100 L 50,100 Z\" color=\"black\" fill=\"none\" stroke=\"black\" transform=\"translate(-47.500,62.500) rotate(0.000,47.500,47.500)\"/>\n",
              "\t<path d=\"M 100,50 L 150,50 L 150,100 L 100,100 Z\" color=\"black\" fill=\"none\" stroke=\"black\" transform=\"translate(-97.500,117.500) rotate(0.000,97.500,47.500)\"/>\n",
              "\t<path d=\"M 100,100 L 150,100 L 150,150 L 100,150 Z\" color=\"black\" fill=\"none\" stroke=\"black\" transform=\"translate(-97.500,122.500) rotate(0.000,97.500,97.500)\"/>\n",
              "\t<path d=\"M 50,100 L 100,100 L 100,150 L 50,150 Z\" color=\"black\" fill=\"none\" stroke=\"black\" transform=\"translate(7.500,-97.500) rotate(0.000,47.500,97.500)\"/>\n",
              "<rect x=\"1.0\" y=\"1.0\" width=\"108.0\" height=\"273.0\" stroke=\"red\" fill=\"none\" stroke-dasharray=\"4\"/></svg></div>"
            ]
          },
          "metadata": {}
        },
        {
          "output_type": "stream",
          "name": "stdout",
          "text": [
            "\n",
            "Candidate 4:\n",
            "  Original Utilization: 0.52\n"
          ]
        },
        {
          "output_type": "display_data",
          "data": {
            "text/plain": [
              "<IPython.core.display.HTML object>"
            ],
            "text/html": [
              "<div style=\"width: 200px;\"><?xml version=\"1.0\" ?><svg xmlns=\"http://www.w3.org/2000/svg\" viewBox=\"0 0 150 200\">\n",
              "  <!-- Candidate 4: Offset net -->\n",
              "  <rect x=\"0\" y=\"0\" width=\"50\" height=\"50\" stroke=\"black\" fill=\"none\"/>\n",
              "  <rect x=\"50\" y=\"0\" width=\"50\" height=\"50\" stroke=\"black\" fill=\"none\"/>\n",
              "  <rect x=\"50\" y=\"50\" width=\"50\" height=\"50\" stroke=\"black\" fill=\"none\"/>\n",
              "  <rect x=\"100\" y=\"50\" width=\"50\" height=\"50\" stroke=\"black\" fill=\"none\"/>\n",
              "  <rect x=\"50\" y=\"100\" width=\"50\" height=\"50\" stroke=\"black\" fill=\"none\"/>\n",
              "  <rect x=\"50\" y=\"150\" width=\"50\" height=\"50\" stroke=\"black\" fill=\"none\"/>\n",
              "<rect x=\"-1.5\" y=\"-1.5\" width=\"153.0\" height=\"203.0\" stroke=\"red\" fill=\"none\" stroke-dasharray=\"4\"/></svg></div>"
            ]
          },
          "metadata": {}
        },
        {
          "output_type": "stream",
          "name": "stdout",
          "text": [
            "  Packed Utilization: 0.57\n"
          ]
        },
        {
          "output_type": "display_data",
          "data": {
            "text/plain": [
              "<IPython.core.display.HTML object>"
            ],
            "text/html": [
              "<div style=\"width: 200px;\"><?xml version=\"1.0\" ?><svg viewBox=\"0 0 300 300\" width=\"300\" height=\"300\">\n",
              "\t<path d=\"M 0,0 L 50,0 L 50,50 L 0,50 Z\" color=\"black\" fill=\"none\" stroke=\"black\" transform=\"translate(2.500,2.500) rotate(0.000,-2.500,-2.500)\"/>\n",
              "\t<path d=\"M 50,0 L 100,0 L 100,50 L 50,50 Z\" color=\"black\" fill=\"none\" stroke=\"black\" transform=\"translate(-47.500,57.500) rotate(0.000,47.500,-2.500)\"/>\n",
              "\t<path d=\"M 50,50 L 100,50 L 100,100 L 50,100 Z\" color=\"black\" fill=\"none\" stroke=\"black\" transform=\"translate(-47.500,62.500) rotate(0.000,47.500,47.500)\"/>\n",
              "\t<path d=\"M 100,50 L 150,50 L 150,100 L 100,100 Z\" color=\"black\" fill=\"none\" stroke=\"black\" transform=\"translate(-97.500,117.500) rotate(0.000,97.500,47.500)\"/>\n",
              "\t<path d=\"M 50,100 L 100,100 L 100,150 L 50,150 Z\" color=\"black\" fill=\"none\" stroke=\"black\" transform=\"translate(-47.500,122.500) rotate(0.000,47.500,97.500)\"/>\n",
              "\t<path d=\"M 50,150 L 100,150 L 100,200 L 50,200 Z\" color=\"black\" fill=\"none\" stroke=\"black\" transform=\"translate(7.500,-147.500) rotate(0.000,47.500,147.500)\"/>\n",
              "<rect x=\"1.0\" y=\"1.0\" width=\"108.0\" height=\"273.0\" stroke=\"red\" fill=\"none\" stroke-dasharray=\"4\"/></svg></div>"
            ]
          },
          "metadata": {}
        },
        {
          "output_type": "stream",
          "name": "stdout",
          "text": [
            "\n",
            "Candidate 5:\n",
            "  Original Utilization: 0.52\n"
          ]
        },
        {
          "output_type": "display_data",
          "data": {
            "text/plain": [
              "<IPython.core.display.HTML object>"
            ],
            "text/html": [
              "<div style=\"width: 200px;\"><?xml version=\"1.0\" ?><svg xmlns=\"http://www.w3.org/2000/svg\" viewBox=\"0 0 200 150\">\n",
              "  <!-- Candidate 5: Extended row with branch -->\n",
              "  <rect x=\"50\" y=\"0\" width=\"50\" height=\"50\" stroke=\"black\" fill=\"none\"/>\n",
              "  <rect x=\"0\" y=\"50\" width=\"50\" height=\"50\" stroke=\"black\" fill=\"none\"/>\n",
              "  <rect x=\"50\" y=\"50\" width=\"50\" height=\"50\" stroke=\"black\" fill=\"none\"/>\n",
              "  <rect x=\"100\" y=\"50\" width=\"50\" height=\"50\" stroke=\"black\" fill=\"none\"/>\n",
              "  <rect x=\"150\" y=\"50\" width=\"50\" height=\"50\" stroke=\"black\" fill=\"none\"/>\n",
              "  <rect x=\"100\" y=\"100\" width=\"50\" height=\"50\" stroke=\"black\" fill=\"none\"/>\n",
              "<rect x=\"-1.5\" y=\"-1.5\" width=\"203.0\" height=\"153.0\" stroke=\"red\" fill=\"none\" stroke-dasharray=\"4\"/></svg></div>"
            ]
          },
          "metadata": {}
        },
        {
          "output_type": "stream",
          "name": "stdout",
          "text": [
            "  Packed Utilization: 0.57\n"
          ]
        },
        {
          "output_type": "display_data",
          "data": {
            "text/plain": [
              "<IPython.core.display.HTML object>"
            ],
            "text/html": [
              "<div style=\"width: 200px;\"><?xml version=\"1.0\" ?><svg viewBox=\"0 0 300 300\" width=\"300\" height=\"300\">\n",
              "\t<path d=\"M 50,0 L 100,0 L 100,50 L 50,50 Z\" color=\"black\" fill=\"none\" stroke=\"black\" transform=\"translate(-47.500,2.500) rotate(0.000,47.500,-2.500)\"/>\n",
              "\t<path d=\"M 0,50 L 50,50 L 50,100 L 0,100 Z\" color=\"black\" fill=\"none\" stroke=\"black\" transform=\"translate(2.500,7.500) rotate(0.000,-2.500,47.500)\"/>\n",
              "\t<path d=\"M 50,50 L 100,50 L 100,100 L 50,100 Z\" color=\"black\" fill=\"none\" stroke=\"black\" transform=\"translate(-47.500,62.500) rotate(0.000,47.500,47.500)\"/>\n",
              "\t<path d=\"M 100,50 L 150,50 L 150,100 L 100,100 Z\" color=\"black\" fill=\"none\" stroke=\"black\" transform=\"translate(-97.500,117.500) rotate(0.000,97.500,47.500)\"/>\n",
              "\t<path d=\"M 150,50 L 200,50 L 200,100 L 150,100 Z\" color=\"black\" fill=\"none\" stroke=\"black\" transform=\"translate(-147.500,172.500) rotate(0.000,147.500,47.500)\"/>\n",
              "\t<path d=\"M 100,100 L 150,100 L 150,150 L 100,150 Z\" color=\"black\" fill=\"none\" stroke=\"black\" transform=\"translate(-42.500,-97.500) rotate(0.000,97.500,97.500)\"/>\n",
              "<rect x=\"1.0\" y=\"1.0\" width=\"108.0\" height=\"273.0\" stroke=\"red\" fill=\"none\" stroke-dasharray=\"4\"/></svg></div>"
            ]
          },
          "metadata": {}
        },
        {
          "output_type": "stream",
          "name": "stdout",
          "text": [
            "\n",
            "Candidate 6:\n",
            "  Original Utilization: 0.52\n"
          ]
        },
        {
          "output_type": "display_data",
          "data": {
            "text/plain": [
              "<IPython.core.display.HTML object>"
            ],
            "text/html": [
              "<div style=\"width: 200px;\"><?xml version=\"1.0\" ?><svg xmlns=\"http://www.w3.org/2000/svg\" viewBox=\"0 0 150 200\">\n",
              "  <!-- Candidate 6: Vertical column attached off-center -->\n",
              "  <rect x=\"50\" y=\"0\" width=\"50\" height=\"50\" stroke=\"black\" fill=\"none\"/>\n",
              "  <rect x=\"50\" y=\"50\" width=\"50\" height=\"50\" stroke=\"black\" fill=\"none\"/>\n",
              "  <rect x=\"0\" y=\"100\" width=\"50\" height=\"50\" stroke=\"black\" fill=\"none\"/>\n",
              "  <rect x=\"50\" y=\"100\" width=\"50\" height=\"50\" stroke=\"black\" fill=\"none\"/>\n",
              "  <rect x=\"100\" y=\"100\" width=\"50\" height=\"50\" stroke=\"black\" fill=\"none\"/>\n",
              "  <rect x=\"50\" y=\"150\" width=\"50\" height=\"50\" stroke=\"black\" fill=\"none\"/>\n",
              "<rect x=\"-1.5\" y=\"-1.5\" width=\"153.0\" height=\"203.0\" stroke=\"red\" fill=\"none\" stroke-dasharray=\"4\"/></svg></div>"
            ]
          },
          "metadata": {}
        },
        {
          "output_type": "stream",
          "name": "stdout",
          "text": [
            "  Packed Utilization: 0.57\n"
          ]
        },
        {
          "output_type": "display_data",
          "data": {
            "text/plain": [
              "<IPython.core.display.HTML object>"
            ],
            "text/html": [
              "<div style=\"width: 200px;\"><?xml version=\"1.0\" ?><svg viewBox=\"0 0 300 300\" width=\"300\" height=\"300\">\n",
              "\t<path d=\"M 50,0 L 100,0 L 100,50 L 50,50 Z\" color=\"black\" fill=\"none\" stroke=\"black\" transform=\"translate(-47.500,2.500) rotate(0.000,47.500,-2.500)\"/>\n",
              "\t<path d=\"M 50,50 L 100,50 L 100,100 L 50,100 Z\" color=\"black\" fill=\"none\" stroke=\"black\" transform=\"translate(-47.500,7.500) rotate(0.000,47.500,47.500)\"/>\n",
              "\t<path d=\"M 0,100 L 50,100 L 50,150 L 0,150 Z\" color=\"black\" fill=\"none\" stroke=\"black\" transform=\"translate(2.500,12.500) rotate(0.000,-2.500,97.500)\"/>\n",
              "\t<path d=\"M 50,100 L 100,100 L 100,150 L 50,150 Z\" color=\"black\" fill=\"none\" stroke=\"black\" transform=\"translate(-47.500,67.500) rotate(0.000,47.500,97.500)\"/>\n",
              "\t<path d=\"M 100,100 L 150,100 L 150,150 L 100,150 Z\" color=\"black\" fill=\"none\" stroke=\"black\" transform=\"translate(-97.500,122.500) rotate(0.000,97.500,97.500)\"/>\n",
              "\t<path d=\"M 50,150 L 100,150 L 100,200 L 50,200 Z\" color=\"black\" fill=\"none\" stroke=\"black\" transform=\"translate(7.500,-147.500) rotate(0.000,47.500,147.500)\"/>\n",
              "<rect x=\"1.0\" y=\"1.0\" width=\"108.0\" height=\"273.0\" stroke=\"red\" fill=\"none\" stroke-dasharray=\"4\"/></svg></div>"
            ]
          },
          "metadata": {}
        },
        {
          "output_type": "stream",
          "name": "stdout",
          "text": [
            "\n",
            "Candidate 7:\n",
            "  Original Utilization: 0.52\n"
          ]
        },
        {
          "output_type": "display_data",
          "data": {
            "text/plain": [
              "<IPython.core.display.HTML object>"
            ],
            "text/html": [
              "<div style=\"width: 200px;\"><?xml version=\"1.0\" ?><svg xmlns=\"http://www.w3.org/2000/svg\" viewBox=\"0 0 150 200\">\n",
              "  <!-- Candidate 7: Shifted vertical net -->\n",
              "  <rect x=\"100\" y=\"0\" width=\"50\" height=\"50\" stroke=\"black\" fill=\"none\"/>\n",
              "  <rect x=\"0\" y=\"50\" width=\"50\" height=\"50\" stroke=\"black\" fill=\"none\"/>\n",
              "  <rect x=\"50\" y=\"50\" width=\"50\" height=\"50\" stroke=\"black\" fill=\"none\"/>\n",
              "  <rect x=\"100\" y=\"50\" width=\"50\" height=\"50\" stroke=\"black\" fill=\"none\"/>\n",
              "  <rect x=\"100\" y=\"100\" width=\"50\" height=\"50\" stroke=\"black\" fill=\"none\"/>\n",
              "  <rect x=\"100\" y=\"150\" width=\"50\" height=\"50\" stroke=\"black\" fill=\"none\"/>\n",
              "<rect x=\"-1.5\" y=\"-1.5\" width=\"153.0\" height=\"203.0\" stroke=\"red\" fill=\"none\" stroke-dasharray=\"4\"/></svg></div>"
            ]
          },
          "metadata": {}
        },
        {
          "output_type": "stream",
          "name": "stdout",
          "text": [
            "  Packed Utilization: 0.57\n"
          ]
        },
        {
          "output_type": "display_data",
          "data": {
            "text/plain": [
              "<IPython.core.display.HTML object>"
            ],
            "text/html": [
              "<div style=\"width: 200px;\"><?xml version=\"1.0\" ?><svg viewBox=\"0 0 300 300\" width=\"300\" height=\"300\">\n",
              "\t<path d=\"M 100,0 L 150,0 L 150,50 L 100,50 Z\" color=\"black\" fill=\"none\" stroke=\"black\" transform=\"translate(-97.500,2.500) rotate(0.000,97.500,-2.500)\"/>\n",
              "\t<path d=\"M 0,50 L 50,50 L 50,100 L 0,100 Z\" color=\"black\" fill=\"none\" stroke=\"black\" transform=\"translate(2.500,7.500) rotate(0.000,-2.500,47.500)\"/>\n",
              "\t<path d=\"M 50,50 L 100,50 L 100,100 L 50,100 Z\" color=\"black\" fill=\"none\" stroke=\"black\" transform=\"translate(-47.500,62.500) rotate(0.000,47.500,47.500)\"/>\n",
              "\t<path d=\"M 100,50 L 150,50 L 150,100 L 100,100 Z\" color=\"black\" fill=\"none\" stroke=\"black\" transform=\"translate(-97.500,117.500) rotate(0.000,97.500,47.500)\"/>\n",
              "\t<path d=\"M 100,100 L 150,100 L 150,150 L 100,150 Z\" color=\"black\" fill=\"none\" stroke=\"black\" transform=\"translate(-97.500,122.500) rotate(0.000,97.500,97.500)\"/>\n",
              "\t<path d=\"M 100,150 L 150,150 L 150,200 L 100,200 Z\" color=\"black\" fill=\"none\" stroke=\"black\" transform=\"translate(-42.500,-147.500) rotate(0.000,97.500,147.500)\"/>\n",
              "<rect x=\"1.0\" y=\"1.0\" width=\"108.0\" height=\"273.0\" stroke=\"red\" fill=\"none\" stroke-dasharray=\"4\"/></svg></div>"
            ]
          },
          "metadata": {}
        },
        {
          "output_type": "stream",
          "name": "stdout",
          "text": [
            "\n",
            "Candidate 8:\n",
            "  Original Utilization: 0.68\n"
          ]
        },
        {
          "output_type": "display_data",
          "data": {
            "text/plain": [
              "<IPython.core.display.HTML object>"
            ],
            "text/html": [
              "<div style=\"width: 200px;\"><?xml version=\"1.0\" ?><svg xmlns=\"http://www.w3.org/2000/svg\" viewBox=\"0 0 150 150\">\n",
              "  <!-- Candidate 8: Left-column net -->\n",
              "  <rect x=\"0\" y=\"0\" width=\"50\" height=\"50\" stroke=\"black\" fill=\"none\"/>\n",
              "  <rect x=\"50\" y=\"0\" width=\"50\" height=\"50\" stroke=\"black\" fill=\"none\"/>\n",
              "  <rect x=\"100\" y=\"0\" width=\"50\" height=\"50\" stroke=\"black\" fill=\"none\"/>\n",
              "  <rect x=\"0\" y=\"50\" width=\"50\" height=\"50\" stroke=\"black\" fill=\"none\"/>\n",
              "  <rect x=\"50\" y=\"50\" width=\"50\" height=\"50\" stroke=\"black\" fill=\"none\"/>\n",
              "  <rect x=\"0\" y=\"100\" width=\"50\" height=\"50\" stroke=\"black\" fill=\"none\"/>\n",
              "<rect x=\"-1.5\" y=\"-1.5\" width=\"153.0\" height=\"153.0\" stroke=\"red\" fill=\"none\" stroke-dasharray=\"4\"/></svg></div>"
            ]
          },
          "metadata": {}
        },
        {
          "output_type": "stream",
          "name": "stdout",
          "text": [
            "  Packed Utilization: 0.57\n"
          ]
        },
        {
          "output_type": "display_data",
          "data": {
            "text/plain": [
              "<IPython.core.display.HTML object>"
            ],
            "text/html": [
              "<div style=\"width: 200px;\"><?xml version=\"1.0\" ?><svg viewBox=\"0 0 300 300\" width=\"300\" height=\"300\">\n",
              "\t<path d=\"M 0,0 L 50,0 L 50,50 L 0,50 Z\" color=\"black\" fill=\"none\" stroke=\"black\" transform=\"translate(2.500,2.500) rotate(0.000,-2.500,-2.500)\"/>\n",
              "\t<path d=\"M 50,0 L 100,0 L 100,50 L 50,50 Z\" color=\"black\" fill=\"none\" stroke=\"black\" transform=\"translate(-47.500,57.500) rotate(0.000,47.500,-2.500)\"/>\n",
              "\t<path d=\"M 100,0 L 150,0 L 150,50 L 100,50 Z\" color=\"black\" fill=\"none\" stroke=\"black\" transform=\"translate(-97.500,112.500) rotate(0.000,97.500,-2.500)\"/>\n",
              "\t<path d=\"M 0,50 L 50,50 L 50,100 L 0,100 Z\" color=\"black\" fill=\"none\" stroke=\"black\" transform=\"translate(2.500,117.500) rotate(0.000,-2.500,47.500)\"/>\n",
              "\t<path d=\"M 50,50 L 100,50 L 100,100 L 50,100 Z\" color=\"black\" fill=\"none\" stroke=\"black\" transform=\"translate(-47.500,172.500) rotate(0.000,47.500,47.500)\"/>\n",
              "\t<path d=\"M 0,100 L 50,100 L 50,150 L 0,150 Z\" color=\"black\" fill=\"none\" stroke=\"black\" transform=\"translate(57.500,-97.500) rotate(0.000,-2.500,97.500)\"/>\n",
              "<rect x=\"1.0\" y=\"1.0\" width=\"108.0\" height=\"273.0\" stroke=\"red\" fill=\"none\" stroke-dasharray=\"4\"/></svg></div>"
            ]
          },
          "metadata": {}
        },
        {
          "output_type": "stream",
          "name": "stdout",
          "text": [
            "\n",
            "Candidate 9:\n",
            "  Original Utilization: 0.69\n"
          ]
        },
        {
          "output_type": "display_data",
          "data": {
            "text/plain": [
              "<IPython.core.display.HTML object>"
            ],
            "text/html": [
              "<div style=\"width: 200px;\"><?xml version=\"1.0\" ?><svg xmlns=\"http://www.w3.org/2000/svg\" viewBox=\"50 50 150 150\">\n",
              "  <!-- Candidate 9: Net with shifted coordinates -->\n",
              "  <rect x=\"50\" y=\"50\" width=\"50\" height=\"50\" stroke=\"black\" fill=\"none\"/>\n",
              "  <rect x=\"100\" y=\"50\" width=\"50\" height=\"50\" stroke=\"black\" fill=\"none\"/>\n",
              "  <rect x=\"150\" y=\"50\" width=\"50\" height=\"50\" stroke=\"black\" fill=\"none\"/>\n",
              "  <rect x=\"50\" y=\"100\" width=\"50\" height=\"50\" stroke=\"black\" fill=\"none\"/>\n",
              "  <rect x=\"50\" y=\"150\" width=\"50\" height=\"50\" stroke=\"black\" fill=\"none\"/>\n",
              "  <rect x=\"100\" y=\"150\" width=\"50\" height=\"50\" stroke=\"black\" fill=\"none\"/>\n",
              "<rect x=\"-1.5\" y=\"-1.5\" width=\"153.0\" height=\"153.0\" stroke=\"red\" fill=\"none\" stroke-dasharray=\"4\"/></svg></div>"
            ]
          },
          "metadata": {}
        },
        {
          "output_type": "stream",
          "name": "stdout",
          "text": [
            "  Packed Utilization: 0.57\n"
          ]
        },
        {
          "output_type": "display_data",
          "data": {
            "text/plain": [
              "<IPython.core.display.HTML object>"
            ],
            "text/html": [
              "<div style=\"width: 200px;\"><?xml version=\"1.0\" ?><svg viewBox=\"0 0 300 300\" width=\"300\" height=\"300\">\n",
              "\t<path d=\"M 0,0 L 50,0 L 50,50 L 0,50 Z\" color=\"black\" fill=\"none\" stroke=\"black\" transform=\"translate(2.500,2.500) rotate(0.000,-2.500,-2.500)\"/>\n",
              "\t<path d=\"M 50,0 L 100,0 L 100,50 L 50,50 Z\" color=\"black\" fill=\"none\" stroke=\"black\" transform=\"translate(-47.500,57.500) rotate(0.000,47.500,-2.500)\"/>\n",
              "\t<path d=\"M 100,0 L 150,0 L 150,50 L 100,50 Z\" color=\"black\" fill=\"none\" stroke=\"black\" transform=\"translate(-97.500,112.500) rotate(0.000,97.500,-2.500)\"/>\n",
              "\t<path d=\"M 0,50 L 50,50 L 50,100 L 0,100 Z\" color=\"black\" fill=\"none\" stroke=\"black\" transform=\"translate(2.500,117.500) rotate(0.000,-2.500,47.500)\"/>\n",
              "\t<path d=\"M 0,100 L 50,100 L 50,150 L 0,150 Z\" color=\"black\" fill=\"none\" stroke=\"black\" transform=\"translate(2.500,122.500) rotate(0.000,-2.500,97.500)\"/>\n",
              "\t<path d=\"M 50,100 L 100,100 L 100,150 L 50,150 Z\" color=\"black\" fill=\"none\" stroke=\"black\" transform=\"translate(7.500,-97.500) rotate(0.000,47.500,97.500)\"/>\n",
              "<rect x=\"1.0\" y=\"1.0\" width=\"108.0\" height=\"273.0\" stroke=\"red\" fill=\"none\" stroke-dasharray=\"4\"/></svg></div>"
            ]
          },
          "metadata": {}
        },
        {
          "output_type": "stream",
          "name": "stdout",
          "text": [
            "\n",
            "Candidate 10:\n",
            "  Original Utilization: 0.68\n"
          ]
        },
        {
          "output_type": "display_data",
          "data": {
            "text/plain": [
              "<IPython.core.display.HTML object>"
            ],
            "text/html": [
              "<div style=\"width: 200px;\"><?xml version=\"1.0\" ?><svg xmlns=\"http://www.w3.org/2000/svg\" viewBox=\"0 0 150 150\">\n",
              "  <!-- Candidate 10: Central row with top and bottom attachments -->\n",
              "  <rect x=\"50\" y=\"0\" width=\"50\" height=\"50\" stroke=\"black\" fill=\"none\"/>\n",
              "  <rect x=\"100\" y=\"0\" width=\"50\" height=\"50\" stroke=\"black\" fill=\"none\"/>\n",
              "  <rect x=\"0\" y=\"50\" width=\"50\" height=\"50\" stroke=\"black\" fill=\"none\"/>\n",
              "  <rect x=\"50\" y=\"50\" width=\"50\" height=\"50\" stroke=\"black\" fill=\"none\"/>\n",
              "  <rect x=\"100\" y=\"50\" width=\"50\" height=\"50\" stroke=\"black\" fill=\"none\"/>\n",
              "  <rect x=\"50\" y=\"100\" width=\"50\" height=\"50\" stroke=\"black\" fill=\"none\"/>\n",
              "<rect x=\"-1.5\" y=\"-1.5\" width=\"153.0\" height=\"153.0\" stroke=\"red\" fill=\"none\" stroke-dasharray=\"4\"/></svg></div>"
            ]
          },
          "metadata": {}
        },
        {
          "output_type": "stream",
          "name": "stdout",
          "text": [
            "  Packed Utilization: 0.57\n"
          ]
        },
        {
          "output_type": "display_data",
          "data": {
            "text/plain": [
              "<IPython.core.display.HTML object>"
            ],
            "text/html": [
              "<div style=\"width: 200px;\"><?xml version=\"1.0\" ?><svg viewBox=\"0 0 300 300\" width=\"300\" height=\"300\">\n",
              "\t<path d=\"M 50,0 L 100,0 L 100,50 L 50,50 Z\" color=\"black\" fill=\"none\" stroke=\"black\" transform=\"translate(-47.500,2.500) rotate(0.000,47.500,-2.500)\"/>\n",
              "\t<path d=\"M 100,0 L 150,0 L 150,50 L 100,50 Z\" color=\"black\" fill=\"none\" stroke=\"black\" transform=\"translate(-97.500,57.500) rotate(0.000,97.500,-2.500)\"/>\n",
              "\t<path d=\"M 0,50 L 50,50 L 50,100 L 0,100 Z\" color=\"black\" fill=\"none\" stroke=\"black\" transform=\"translate(2.500,62.500) rotate(0.000,-2.500,47.500)\"/>\n",
              "\t<path d=\"M 50,50 L 100,50 L 100,100 L 50,100 Z\" color=\"black\" fill=\"none\" stroke=\"black\" transform=\"translate(-47.500,117.500) rotate(0.000,47.500,47.500)\"/>\n",
              "\t<path d=\"M 100,50 L 150,50 L 150,100 L 100,100 Z\" color=\"black\" fill=\"none\" stroke=\"black\" transform=\"translate(-97.500,172.500) rotate(0.000,97.500,47.500)\"/>\n",
              "\t<path d=\"M 50,100 L 100,100 L 100,150 L 50,150 Z\" color=\"black\" fill=\"none\" stroke=\"black\" transform=\"translate(7.500,-97.500) rotate(0.000,47.500,97.500)\"/>\n",
              "<rect x=\"1.0\" y=\"1.0\" width=\"108.0\" height=\"273.0\" stroke=\"red\" fill=\"none\" stroke-dasharray=\"4\"/></svg></div>"
            ]
          },
          "metadata": {}
        }
      ]
    },
    {
      "cell_type": "code",
      "source": [
        "import packaide\n",
        "import shapely.geometry\n",
        "from xml.dom import minidom\n",
        "from IPython.display import HTML, display\n",
        "\n",
        "# -------------------------------\n",
        "# Utility Functions for Geometry Computation\n",
        "# -------------------------------\n",
        "def compute_union_polygon(placed_svg, tolerance=1):\n",
        "    \"\"\"\n",
        "    Extract the polygons from the placed SVG (via Packaide) and return their union.\n",
        "    \"\"\"\n",
        "    _, polygons = packaide.extract_shapely_polygons(placed_svg, tolerance)\n",
        "    union_poly = None\n",
        "    for boundary, _ in polygons:\n",
        "        if union_poly is None:\n",
        "            union_poly = boundary\n",
        "        else:\n",
        "            union_poly = union_poly.union(boundary)\n",
        "    return union_poly\n",
        "\n",
        "def compute_bounding_box_area(placed_svg, tolerance=1):\n",
        "    \"\"\"\n",
        "    Compute the area of the minimal bounding rectangle (envelope) of the union polygon.\n",
        "    \"\"\"\n",
        "    union_poly = compute_union_polygon(placed_svg, tolerance)\n",
        "    if union_poly is None:\n",
        "        return 0\n",
        "    return union_poly.envelope.area\n",
        "\n",
        "def compute_shape_area(placed_svg, tolerance=1):\n",
        "    \"\"\"\n",
        "    Compute the total area of the union of all polygons in the placed SVG.\n",
        "    \"\"\"\n",
        "    union_poly = compute_union_polygon(placed_svg, tolerance)\n",
        "    return union_poly.area if union_poly is not None else 0\n",
        "\n",
        "def compute_utilization(placed_svg, tolerance=1):\n",
        "    \"\"\"\n",
        "    Compute the utilization ratio: (actual shape area) / (bounding box area).\n",
        "    A value closer to 1 indicates less unused space.\n",
        "    \"\"\"\n",
        "    shape_area = compute_shape_area(placed_svg, tolerance)\n",
        "    bbox_area = compute_bounding_box_area(placed_svg, tolerance)\n",
        "    if bbox_area == 0:\n",
        "        return 0\n",
        "    return shape_area / bbox_area\n",
        "\n",
        "# -------------------------------\n",
        "# Create a Blank Sheet (Material)\n",
        "# -------------------------------\n",
        "sheet_width = 300\n",
        "sheet_height = 300\n",
        "sheet_svg = packaide.blank_sheet(sheet_width, sheet_height)\n",
        "\n",
        "# -------------------------------\n",
        "# Evaluate Each Candidate\n",
        "# -------------------------------\n",
        "best_utilization = 0.0\n",
        "best_candidate_index = None\n",
        "best_nesting_result = None\n",
        "tolerance = 1  # Discretization tolerance\n",
        "\n",
        "# Assume candidate_unfoldings is already defined from Cell 1.\n",
        "for i, candidate_svg in enumerate(candidate_unfoldings):\n",
        "    result, placed, fails = packaide.pack(\n",
        "        [sheet_svg],\n",
        "        candidate_svg,\n",
        "        tolerance=tolerance,\n",
        "        offset=1,\n",
        "        partial_solution=True,\n",
        "        rotations=2,\n",
        "        persist=False\n",
        "    )\n",
        "\n",
        "    if not result:\n",
        "        print(f\"Candidate {i} failed to pack.\")\n",
        "        continue\n",
        "\n",
        "    sheet_idx, placed_svg = result[0]\n",
        "    utilization = compute_utilization(placed_svg, tolerance)\n",
        "    print(f\"Candidate {i} utilization ratio: {utilization:.2f}\")\n",
        "\n",
        "    if utilization > best_utilization:\n",
        "        best_utilization = utilization\n",
        "        best_candidate_index = i\n",
        "        best_nesting_result = placed_svg\n",
        "\n",
        "# -------------------------------\n",
        "# Display the Best Candidate\n",
        "# -------------------------------\n",
        "if best_candidate_index is not None:\n",
        "    print(f\"\\nBest candidate: {best_candidate_index} with utilization ratio: {best_utilization:.2f}\")\n",
        "    # Use the helper function to display the best candidate with a fixed width.\n",
        "    display_svg(best_nesting_result, width=200)\n",
        "else:\n",
        "    print(\"No candidate produced a valid nesting result.\")\n"
      ],
      "metadata": {
        "colab": {
          "base_uri": "https://localhost:8080/"
        },
        "id": "uMRzBCEl0jMn",
        "outputId": "a0057288-7f7e-4f94-ad4a-ca59de96adaf"
      },
      "execution_count": null,
      "outputs": [
        {
          "output_type": "stream",
          "name": "stdout",
          "text": [
            "Candidate 0 utilization ratio: 0.57\n",
            "Candidate 1 utilization ratio: 0.57\n",
            "Candidate 2 utilization ratio: 0.57\n",
            "Candidate 3 utilization ratio: 0.57\n",
            "Candidate 4 utilization ratio: 0.57\n",
            "Candidate 5 utilization ratio: 0.57\n",
            "Candidate 6 utilization ratio: 0.57\n",
            "Candidate 7 utilization ratio: 0.57\n",
            "Candidate 8 utilization ratio: 0.57\n",
            "Candidate 9 utilization ratio: 0.57\n",
            "Candidate 10 utilization ratio: 0.57\n",
            "\n",
            "Best candidate: 0 with utilization ratio: 0.57\n"
          ]
        },
        {
          "output_type": "display_data",
          "data": {
            "text/plain": [
              "<IPython.core.display.HTML object>"
            ],
            "text/html": [
              "<div style=\"width: 200px;\"><?xml version=\"1.0\" ?>\n",
              "<svg viewBox=\"0 0 300 300\" width=\"300\" height=\"300\">\n",
              "\t<path d=\"M 50,50 L 100,50 L 100,100 L 50,100 Z\" color=\"black\" fill=\"none\" stroke=\"black\" transform=\"translate(-47.500,-47.500) rotate(0.000,47.500,47.500)\"/>\n",
              "\t<path d=\"M 0,50 L 50,50 L 50,100 L 0,100 Z\" color=\"black\" fill=\"none\" stroke=\"black\" transform=\"translate(2.500,7.500) rotate(0.000,-2.500,47.500)\"/>\n",
              "\t<path d=\"M 100,50 L 150,50 L 150,100 L 100,100 Z\" color=\"black\" fill=\"none\" stroke=\"black\" transform=\"translate(-97.500,62.500) rotate(0.000,97.500,47.500)\"/>\n",
              "\t<path d=\"M 50,0 L 100,0 L 100,50 L 50,50 Z\" color=\"black\" fill=\"none\" stroke=\"black\" transform=\"translate(-47.500,167.500) rotate(0.000,47.500,-2.500)\"/>\n",
              "\t<path d=\"M 50,100 L 100,100 L 100,150 L 50,150 Z\" color=\"black\" fill=\"none\" stroke=\"black\" transform=\"translate(-47.500,122.500) rotate(0.000,47.500,97.500)\"/>\n",
              "\t<path d=\"M 50,150 L 100,150 L 100,200 L 50,200 Z\" color=\"black\" fill=\"none\" stroke=\"black\" transform=\"translate(7.500,-147.500) rotate(0.000,47.500,147.500)\"/>\n",
              "</svg>\n",
              "</div>"
            ]
          },
          "metadata": {}
        }
      ]
    }
  ]
}